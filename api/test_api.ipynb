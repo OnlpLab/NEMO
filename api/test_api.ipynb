{
 "cells": [
  {
   "cell_type": "code",
   "execution_count": 2,
   "metadata": {},
   "outputs": [],
   "source": [
    "import requests"
   ]
  },
  {
   "cell_type": "code",
   "execution_count": 6,
   "metadata": {},
   "outputs": [
    {
     "data": {
      "text/plain": [
       "{'error': 'Please specify command'}"
      ]
     },
     "execution_count": 6,
     "metadata": {},
     "output_type": "execute_result"
    }
   ],
   "source": [
    "requests.get('http://localhost:8090/').json()"
   ]
  },
  {
   "cell_type": "code",
   "execution_count": 28,
   "metadata": {},
   "outputs": [],
   "source": [
    "texts = [\n",
    "    'גנן גידל דגן בגן\\nדגן גדול גדל בגן',\n",
    "    'אובאמה הכריז אתמול בעצרת האו\"ם שטראמפ ליצן'\n",
    "]"
   ]
  },
  {
   "cell_type": "code",
   "execution_count": 30,
   "metadata": {},
   "outputs": [
    {
     "data": {
      "text/plain": [
       "{'tokenized_text': [['אובאמה',\n",
       "   'הכריז',\n",
       "   'אתמול',\n",
       "   'בעצרת',\n",
       "   'האו\"ם',\n",
       "   'שטראמפ',\n",
       "   'ליצן']],\n",
       " 'nemo_predictions': [['S-PER', 'O', 'O', 'O^O', 'B-ORG^E-ORG', 'O^O', 'O']]}"
      ]
     },
     "execution_count": 30,
     "metadata": {},
     "output_type": "execute_result"
    }
   ],
   "source": [
    "payload = { 'sentences': texts[1],\n",
    "            'model_name': 'token-multi',\n",
    "            'command': 'run_ner_model' }\n",
    "\n",
    "requests.get('http://localhost:8090/run_nemo', params=payload).json()"
   ]
  },
  {
   "cell_type": "code",
   "execution_count": null,
   "metadata": {},
   "outputs": [],
   "source": []
  }
 ],
 "metadata": {
  "kernelspec": {
   "display_name": "Python 3",
   "language": "python",
   "name": "python3"
  },
  "language_info": {
   "codemirror_mode": {
    "name": "ipython",
    "version": 3
   },
   "file_extension": ".py",
   "mimetype": "text/x-python",
   "name": "python",
   "nbconvert_exporter": "python",
   "pygments_lexer": "ipython3",
   "version": "3.7.4"
  }
 },
 "nbformat": 4,
 "nbformat_minor": 4
}
