{
 "cells": [
  {
   "cell_type": "code",
   "execution_count": 2,
   "metadata": {},
   "outputs": [],
   "source": [
    "import requests"
   ]
  },
  {
   "cell_type": "code",
   "execution_count": 195,
   "metadata": {},
   "outputs": [
    {
     "data": {
      "text/plain": [
       "{'error': 'Please specify command'}"
      ]
     },
     "execution_count": 195,
     "metadata": {},
     "output_type": "execute_result"
    }
   ],
   "source": [
    "requests.get('http://localhost:8090/').json()"
   ]
  },
  {
   "cell_type": "code",
   "execution_count": 232,
   "metadata": {},
   "outputs": [],
   "source": [
    "texts = [\n",
    "    'גנן גידל דגן בגן\\nדגן גדול גדל בגן',\n",
    "    'אובאמה הכריז אתמול בעצרת האו\"ם שטראמפ ליצן.',\n",
    "    'מלך השערים במונדיאל 2006 היה מירוסלב קלוזה.'\n",
    "]"
   ]
  },
  {
   "cell_type": "markdown",
   "metadata": {},
   "source": [
    "## Run NER Model"
   ]
  },
  {
   "cell_type": "code",
   "execution_count": 233,
   "metadata": {},
   "outputs": [
    {
     "name": "stdout",
     "output_type": "stream",
     "text": [
      "CPU times: user 9.48 ms, sys: 1.08 ms, total: 10.6 ms\n",
      "Wall time: 75.6 ms\n"
     ]
    },
    {
     "data": {
      "text/plain": [
       "[('אובאמה', 'S-PER'),\n",
       " ('הכריז', 'O'),\n",
       " ('אתמול', 'O'),\n",
       " ('בעצרת', 'O^O'),\n",
       " ('האו\"ם', 'B-ORG^E-ORG'),\n",
       " ('שטראמפ', 'O^O'),\n",
       " ('ליצן', 'O'),\n",
       " ('.', 'O')]"
      ]
     },
     "execution_count": 233,
     "metadata": {},
     "output_type": "execute_result"
    }
   ],
   "source": [
    "%%time \n",
    "payload = { 'sentences': texts[1],\n",
    "            'model_name': 'token-multi',\n",
    "            #'tokenized': True,\n",
    "          }\n",
    "\n",
    "res = requests.get('http://localhost:8090/run_ner_model', params=payload).json()\n",
    "list(zip(res['tokenized_text'][0], res['nemo_predictions'][0]))"
   ]
  },
  {
   "cell_type": "markdown",
   "metadata": {},
   "source": [
    "## MD + NER"
   ]
  },
  {
   "cell_type": "markdown",
   "metadata": {},
   "source": [
    "### YAP API calls"
   ]
  },
  {
   "cell_type": "code",
   "execution_count": 246,
   "metadata": {},
   "outputs": [
    {
     "name": "stdout",
     "output_type": "stream",
     "text": [
      "CPU times: user 9.8 ms, sys: 2.13 ms, total: 11.9 ms\n",
      "Wall time: 185 ms\n"
     ]
    },
    {
     "data": {
      "text/plain": [
       "{'tokenized_text': [['אובאמה',\n",
       "   'הכריז',\n",
       "   'אתמול',\n",
       "   'בעצרת',\n",
       "   'האו\"ם',\n",
       "   'שטראמפ',\n",
       "   'ליצן',\n",
       "   '.']],\n",
       " 'nemo_multi_predictions': [['S-PER',\n",
       "   'O',\n",
       "   'O',\n",
       "   'O^O',\n",
       "   'B-ORG^E-ORG',\n",
       "   'O^O',\n",
       "   'O',\n",
       "   'O']],\n",
       " 'ma_lattice': '0\\t1\\tאובאמה\\tאובאמה\\tNNP\\tNNP\\t_\\t1\\n1\\t2\\tהכריז\\tהכריז\\tVB\\tVB\\tgen=M|num=S|per=3|tense=PAST\\t2\\n2\\t3\\tאתמול\\tאתמול\\tRB\\tRB\\t_\\t3\\n3\\t4\\tב\\tב\\tPREPOSITION\\tPREPOSITION\\t_\\t4\\n3\\t6\\tבעצרת\\tבעצרת\\tNNP\\tNNP\\tgen=M|num=S\\t4\\n3\\t6\\tבעצרת\\tבעצרת\\tNN\\tNN\\tgen=M|num=P|num=S\\t4\\n3\\t6\\tבעצרת\\tבעצרת\\tNN\\tNN\\tgen=M|num=S\\t4\\n3\\t6\\tבעצרת\\tבעצרת\\tNNP\\tNNP\\tgen=F|num=S\\t4\\n3\\t6\\tבעצרת\\tבעצרת\\tNNP\\tNNP\\tgen=F|gen=M|num=S\\t4\\n3\\t6\\tבעצרת\\tבעצרת\\tNNP\\tNNP\\t_\\t4\\n3\\t6\\tבעצרת\\tבעצרת\\tNN\\tNN\\tgen=M|num=P\\t4\\n3\\t6\\tבעצרת\\tבעצרת\\tNN\\tNN\\tgen=F|num=S\\t4\\n3\\t6\\tבעצרת\\tבעצרת\\tNN\\tNN\\tgen=F|num=P\\t4\\n4\\t5\\tה\\tה\\tDEF\\tDEF\\t_\\t4\\n4\\t6\\tעצרת\\tעצר\\tVB\\tVB\\tgen=M|num=S|per=2|tense=PAST\\t4\\n4\\t6\\tעצרת\\tעצרת\\tNN\\tNN\\tgen=F|num=S\\t4\\n4\\t6\\tעצרת\\tעצרת\\tNNT\\tNNT\\tgen=F|num=S\\t4\\n4\\t6\\tעצרת\\tעצר\\tVB\\tVB\\tgen=F|num=S|per=2|tense=PAST\\t4\\n5\\t6\\tעצרת\\tעצר\\tVB\\tVB\\tgen=F|num=S|per=2|tense=PAST\\t4\\n5\\t6\\tעצרת\\tעצרת\\tNNT\\tNNT\\tgen=F|num=S\\t4\\n5\\t6\\tעצרת\\tעצרת\\tNN\\tNN\\tgen=F|num=S\\t4\\n5\\t6\\tעצרת\\tעצר\\tVB\\tVB\\tgen=M|num=S|per=2|tense=PAST\\t4\\n6\\t7\\tה\\tה\\tDEF\\tDEF\\t_\\t5\\n6\\t8\\tה\\tה\\tREL\\tREL\\t_\\t5\\n6\\t9\\tהאו\"ם\\tהאו\"ם\\tNNP\\tNNP\\tgen=F|num=S\\t5\\n6\\t9\\tהאו\"ם\\tהאו\"ם\\tNN\\tNN\\tgen=M|num=S\\t5\\n6\\t9\\tהאו\"ם\\tהאו\"ם\\tNN\\tNN\\tgen=M|num=P|num=S\\t5\\n6\\t9\\tהאו\"ם\\tהאו\"ם\\tNNP\\tNNP\\tgen=M|num=S\\t5\\n6\\t9\\tהאו\"ם\\tהאו\"ם\\tNNP\\tNNP\\t_\\t5\\n6\\t9\\tהאו\"ם\\tהאו\"ם\\tNNP\\tNNP\\tgen=F|gen=M|num=S\\t5\\n6\\t9\\tהאו\"ם\\tהאו\"ם\\tNN\\tNN\\tgen=F|num=P\\t5\\n6\\t9\\tהאו\"ם\\tהאו\"ם\\tNN\\tNN\\tgen=F|num=S\\t5\\n6\\t9\\tהאו\"ם\\tהאו\"ם\\tNN\\tNN\\tgen=M|num=P\\t5\\n7\\t9\\tאו\"ם\\tאו\"ם\\tNNP\\tNNP\\tgen=F|num=S\\t5\\n7\\t9\\tאו\"ם\\tאו\"ם\\tNN\\tNN\\tgen=M|num=S\\t5\\n7\\t9\\tאו\"ם\\tאו\"ם\\tNN\\tNN\\tgen=M|num=P|num=S\\t5\\n7\\t9\\tאו\"ם\\tאו\"ם\\tNNP\\tNNP\\tgen=M|num=S\\t5\\n7\\t9\\tאו\"ם\\tאו\"ם\\tNNP\\tNNP\\t_\\t5\\n7\\t9\\tאו\"ם\\tאו\"ם\\tNNP\\tNNP\\tgen=F|gen=M|num=S\\t5\\n7\\t9\\tאו\"ם\\tאו\"ם\\tNN\\tNN\\tgen=F|num=P\\t5\\n7\\t9\\tאו\"ם\\tאו\"ם\\tNN\\tNN\\tgen=F|num=S\\t5\\n7\\t9\\tאו\"ם\\tאו\"ם\\tNN\\tNN\\tgen=M|num=P\\t5\\n8\\t9\\tאו\"ם\\tאו\"ם\\tNNP\\tNNP\\tgen=F|num=S\\t5\\n8\\t9\\tאו\"ם\\tאו\"ם\\tNN\\tNN\\tgen=M|num=S\\t5\\n8\\t9\\tאו\"ם\\tאו\"ם\\tNN\\tNN\\tgen=M|num=P|num=S\\t5\\n8\\t9\\tאו\"ם\\tאו\"ם\\tNNP\\tNNP\\tgen=M|num=S\\t5\\n8\\t9\\tאו\"ם\\tאו\"ם\\tNNP\\tNNP\\t_\\t5\\n8\\t9\\tאו\"ם\\tאו\"ם\\tNNP\\tNNP\\tgen=F|gen=M|num=S\\t5\\n8\\t9\\tאו\"ם\\tאו\"ם\\tNN\\tNN\\tgen=F|num=P\\t5\\n8\\t9\\tאו\"ם\\tאו\"ם\\tNN\\tNN\\tgen=F|num=S\\t5\\n8\\t9\\tאו\"ם\\tאו\"ם\\tNN\\tNN\\tgen=M|num=P\\t5\\n9\\t10\\tש\\tש\\tREL\\tREL\\t_\\t6\\n9\\t11\\tשטראמפ\\tשטראמפ\\tNNP\\tNNP\\tgen=M|num=S\\t6\\n9\\t11\\tשטראמפ\\tשטראמפ\\tNN\\tNN\\tgen=M|num=P|num=S\\t6\\n9\\t11\\tשטראמפ\\tשטראמפ\\tNN\\tNN\\tgen=M|num=S\\t6\\n9\\t11\\tשטראמפ\\tשטראמפ\\tNNP\\tNNP\\tgen=F|num=S\\t6\\n9\\t11\\tשטראמפ\\tשטראמפ\\tNNP\\tNNP\\tgen=F|gen=M|num=S\\t6\\n9\\t11\\tשטראמפ\\tשטראמפ\\tNNP\\tNNP\\t_\\t6\\n9\\t11\\tשטראמפ\\tשטראמפ\\tNN\\tNN\\tgen=M|num=P\\t6\\n9\\t11\\tשטראמפ\\tשטראמפ\\tNN\\tNN\\tgen=F|num=S\\t6\\n9\\t11\\tשטראמפ\\tשטראמפ\\tNN\\tNN\\tgen=F|num=P\\t6\\n10\\t11\\tטראמפ\\tטראמפ\\tNNP\\tNNP\\tgen=F|num=S\\t6\\n10\\t11\\tטראמפ\\tטראמפ\\tNN\\tNN\\tgen=M|num=S\\t6\\n10\\t11\\tטראמפ\\tטראמפ\\tNN\\tNN\\tgen=M|num=P|num=S\\t6\\n10\\t11\\tטראמפ\\tטראמפ\\tNNP\\tNNP\\tgen=M|num=S\\t6\\n10\\t11\\tטראמפ\\tטראמפ\\tNNP\\tNNP\\t_\\t6\\n10\\t11\\tטראמפ\\tטראמפ\\tNNP\\tNNP\\tgen=F|gen=M|num=S\\t6\\n10\\t11\\tטראמפ\\tטראמפ\\tNN\\tNN\\tgen=F|num=P\\t6\\n10\\t11\\tטראמפ\\tטראמפ\\tNN\\tNN\\tgen=F|num=S\\t6\\n10\\t11\\tטראמפ\\tטראמפ\\tNN\\tNN\\tgen=M|num=P\\t6\\n11\\t12\\tליצן\\tליצן\\tNNT\\tNNT\\tgen=M|num=S\\t7\\n11\\t12\\tליצן\\tליצן\\tNN\\tNN\\tgen=M|num=S\\t7\\n12\\t13\\t.\\t_\\tyyDOT\\tyyDOT\\t_\\t8\\n\\n',\n",
       " 'pruned_lattice': '0\\t1\\tאובאמה\\tאובאמה\\tNNP\\tNNP\\t_\\t1\\n1\\t2\\tהכריז\\tהכריז\\tVB\\tVB\\tgen=M|num=S|per=3|tense=PAST\\t2\\n2\\t3\\tאתמול\\tאתמול\\tRB\\tRB\\t_\\t3\\n3\\t4\\tב\\tב\\tPREPOSITION\\tPREPOSITION\\t_\\t4\\n4\\t6\\tעצרת\\tעצר\\tVB\\tVB\\tgen=M|num=S|per=2|tense=PAST\\t4\\n4\\t6\\tעצרת\\tעצרת\\tNN\\tNN\\tgen=F|num=S\\t4\\n4\\t6\\tעצרת\\tעצרת\\tNNT\\tNNT\\tgen=F|num=S\\t4\\n4\\t6\\tעצרת\\tעצר\\tVB\\tVB\\tgen=F|num=S|per=2|tense=PAST\\t4\\n6\\t7\\tה\\tה\\tDEF\\tDEF\\t_\\t5\\n6\\t8\\tה\\tה\\tREL\\tREL\\t_\\t5\\n7\\t9\\tאו\"ם\\tאו\"ם\\tNNP\\tNNP\\tgen=F|num=S\\t5\\n7\\t9\\tאו\"ם\\tאו\"ם\\tNN\\tNN\\tgen=M|num=S\\t5\\n7\\t9\\tאו\"ם\\tאו\"ם\\tNN\\tNN\\tgen=M|num=P|num=S\\t5\\n7\\t9\\tאו\"ם\\tאו\"ם\\tNNP\\tNNP\\tgen=M|num=S\\t5\\n7\\t9\\tאו\"ם\\tאו\"ם\\tNNP\\tNNP\\t_\\t5\\n7\\t9\\tאו\"ם\\tאו\"ם\\tNNP\\tNNP\\tgen=F|gen=M|num=S\\t5\\n7\\t9\\tאו\"ם\\tאו\"ם\\tNN\\tNN\\tgen=F|num=P\\t5\\n7\\t9\\tאו\"ם\\tאו\"ם\\tNN\\tNN\\tgen=F|num=S\\t5\\n7\\t9\\tאו\"ם\\tאו\"ם\\tNN\\tNN\\tgen=M|num=P\\t5\\n8\\t9\\tאו\"ם\\tאו\"ם\\tNNP\\tNNP\\tgen=F|num=S\\t5\\n8\\t9\\tאו\"ם\\tאו\"ם\\tNN\\tNN\\tgen=M|num=S\\t5\\n8\\t9\\tאו\"ם\\tאו\"ם\\tNN\\tNN\\tgen=M|num=P|num=S\\t5\\n8\\t9\\tאו\"ם\\tאו\"ם\\tNNP\\tNNP\\tgen=M|num=S\\t5\\n8\\t9\\tאו\"ם\\tאו\"ם\\tNNP\\tNNP\\t_\\t5\\n8\\t9\\tאו\"ם\\tאו\"ם\\tNNP\\tNNP\\tgen=F|gen=M|num=S\\t5\\n8\\t9\\tאו\"ם\\tאו\"ם\\tNN\\tNN\\tgen=F|num=P\\t5\\n8\\t9\\tאו\"ם\\tאו\"ם\\tNN\\tNN\\tgen=F|num=S\\t5\\n8\\t9\\tאו\"ם\\tאו\"ם\\tNN\\tNN\\tgen=M|num=P\\t5\\n9\\t10\\tש\\tש\\tREL\\tREL\\t_\\t6\\n10\\t11\\tטראמפ\\tטראמפ\\tNNP\\tNNP\\tgen=F|num=S\\t6\\n10\\t11\\tטראמפ\\tטראמפ\\tNN\\tNN\\tgen=M|num=S\\t6\\n10\\t11\\tטראמפ\\tטראמפ\\tNN\\tNN\\tgen=M|num=P|num=S\\t6\\n10\\t11\\tטראמפ\\tטראמפ\\tNNP\\tNNP\\tgen=M|num=S\\t6\\n10\\t11\\tטראמפ\\tטראמפ\\tNNP\\tNNP\\t_\\t6\\n10\\t11\\tטראמפ\\tטראמפ\\tNNP\\tNNP\\tgen=F|gen=M|num=S\\t6\\n10\\t11\\tטראמפ\\tטראמפ\\tNN\\tNN\\tgen=F|num=P\\t6\\n10\\t11\\tטראמפ\\tטראמפ\\tNN\\tNN\\tgen=F|num=S\\t6\\n10\\t11\\tטראמפ\\tטראמפ\\tNN\\tNN\\tgen=M|num=P\\t6\\n11\\t12\\tליצן\\tליצן\\tNNT\\tNNT\\tgen=M|num=S\\t7\\n11\\t12\\tליצן\\tליצן\\tNN\\tNN\\tgen=M|num=S\\t7\\n12\\t13\\t.\\t_\\tyyDOT\\tyyDOT\\t_\\t8\\n\\n',\n",
       " 'md_lattice': '0\\t1\\tאובאמה\\tאובאמה\\tNNP\\tNNP\\t_\\t1\\n1\\t2\\tהכריז\\tהכריז\\tVB\\tVB\\tgen=M|num=S|per=3|tense=PAST\\t2\\n2\\t3\\tאתמול\\tאתמול\\tRB\\tRB\\t_\\t3\\n3\\t4\\tב\\tב\\tPREPOSITION\\tPREPOSITION\\t_\\t4\\n4\\t5\\tעצרת\\tעצרת\\tNNT\\tNNT\\tgen=F|num=S\\t4\\n5\\t6\\tה\\tה\\tDEF\\tDEF\\t_\\t5\\n6\\t7\\tאו\"ם\\tאו\"ם\\tNN\\tNN\\tgen=M|num=S\\t5\\n7\\t8\\tש\\tש\\tREL\\tREL\\t_\\t6\\n8\\t9\\tטראמפ\\tטראמפ\\tNNP\\tNNP\\t_\\t6\\n9\\t10\\tליצן\\tליצן\\tNN\\tNN\\tgen=M|num=S\\t7\\n10\\t11\\t.\\t_\\tyyDOT\\tyyDOT\\t_\\t8\\n\\n'}"
      ]
     },
     "execution_count": 246,
     "metadata": {},
     "output_type": "execute_result"
    }
   ],
   "source": [
    "%%time \n",
    "payload = { 'sentences': texts[1],\n",
    "            #'model_name': 'token-multi',\n",
    "            #'tokenized': True,\n",
    "          }\n",
    "\n",
    "res = requests.get('http://localhost:8090/multi_align_hybrid', params=payload).json()\n",
    "res"
   ]
  },
  {
   "cell_type": "code",
   "execution_count": 236,
   "metadata": {},
   "outputs": [
    {
     "data": {
      "text/plain": [
       "{'md_lattice': '0\\t1\\tמלך\\tמלך\\tNNT\\tNNT\\tgen=M|num=S\\t1\\n1\\t2\\tה\\tה\\tDEF\\tDEF\\t_\\t2\\n2\\t3\\tשערים\\tשער\\tNN\\tNN\\tgen=M|num=P\\t2\\n3\\t4\\tב\\tב\\tPREPOSITION\\tPREPOSITION\\t_\\t3\\n4\\t5\\tמונדיאל\\tמונדיאל\\tNNT\\tNNT\\tgen=M|num=S\\t3\\n5\\t6\\t2006\\t_\\tCD\\tCD\\t_\\t4\\n6\\t7\\tהיה\\tהיה\\tCOP\\tCOP\\tgen=M|num=S|per=3\\t5\\n7\\t8\\tמירוסלב\\tמירוסלב\\tNNP\\tNNP\\tgen=M|num=S\\t6\\n8\\t9\\tקלוזה.\\tקלוזה.\\tNNP\\tNNP\\tgen=F|gen=M|num=S\\t7\\n\\n'}"
      ]
     },
     "execution_count": 236,
     "metadata": {},
     "output_type": "execute_result"
    }
   ],
   "source": [
    "import json\n",
    "#data = f'{{\"amblattice\": \"{ma[\"ma_lattice\"]}\"}}'.replace('\\t','\\\\t').replace('\\n','\\\\n').encode('utf-8') \n",
    "data = json.dumps({'amblattice': ma['ma_lattice']})\n",
    "resp = requests.get('http://localhost:8000/yap/heb/md', data=data, headers=headers).json()\n",
    "resp"
   ]
  },
  {
   "cell_type": "code",
   "execution_count": null,
   "metadata": {},
   "outputs": [],
   "source": []
  }
 ],
 "metadata": {
  "kernelspec": {
   "display_name": "Python 3",
   "language": "python",
   "name": "python3"
  },
  "language_info": {
   "codemirror_mode": {
    "name": "ipython",
    "version": 3
   },
   "file_extension": ".py",
   "mimetype": "text/x-python",
   "name": "python",
   "nbconvert_exporter": "python",
   "pygments_lexer": "ipython3",
   "version": "3.7.4"
  }
 },
 "nbformat": 4,
 "nbformat_minor": 4
}
