{
 "cells": [
  {
   "cell_type": "markdown",
   "metadata": {},
   "source": [
    "## Setup\n",
    "1. In `cd NEMO`\n",
    "1. Run YAP API server `./yap api` (if you specify a port, change it in `config.py`)\n",
    "1. `pip install -r requirements.txt`\n",
    "1. install bclm https://github.com/OnlpLab/bclm\n",
    "1. Run NEMO API server `uvicorn api_main:app --reload --port 8090`\n",
    "1. Have a look at the swagger OpenAPI documentation by opening http://localhost:8090/docs in your browser"
   ]
  },
  {
   "cell_type": "code",
   "execution_count": 104,
   "metadata": {},
   "outputs": [],
   "source": [
    "import requests"
   ]
  },
  {
   "cell_type": "code",
   "execution_count": 119,
   "metadata": {},
   "outputs": [
    {
     "data": {
      "text/plain": [
       "{'message': 'Please specify command in URL path.',\n",
       " 'available_commands': ['run_ner_model',\n",
       "  'multi_align_hybrid',\n",
       "  'multi_to_single',\n",
       "  'morph_yap',\n",
       "  'morph_hybrid',\n",
       "  'morph_hybrid_align_tokens']}"
      ]
     },
     "execution_count": 119,
     "metadata": {},
     "output_type": "execute_result"
    }
   ],
   "source": [
    "requests.get('http://localhost:8090/').json()"
   ]
  },
  {
   "cell_type": "code",
   "execution_count": 120,
   "metadata": {},
   "outputs": [],
   "source": [
    "texts = [\n",
    "    'מלך השערים במונדיאל 2006 היה מירוסלב קלוזה.',\n",
    "    \"עשרות אנשים מגיעים מתאילנד לישראל.\\nתופעה זו התבררה אתמול בוועדת העבודה והרווחה של הכנסת.\"\n",
    "]"
   ]
  },
  {
   "cell_type": "markdown",
   "metadata": {},
   "source": [
    "## Run NER Model"
   ]
  },
  {
   "cell_type": "code",
   "execution_count": 122,
   "metadata": {},
   "outputs": [
    {
     "name": "stdout",
     "output_type": "stream",
     "text": [
      "CPU times: user 9.17 ms, sys: 2.86 ms, total: 12 ms\n",
      "Wall time: 89.7 ms\n"
     ]
    },
    {
     "data": {
      "text/plain": [
       "([('עשרות', 'O'),\n",
       "  ('אנשים', 'O'),\n",
       "  ('מגיעים', 'O'),\n",
       "  ('מתאילנד', 'O^S-GPE'),\n",
       "  ('לישראל', 'O^S-GPE'),\n",
       "  ('.', 'O')],\n",
       " [('תופעה', 'O'),\n",
       "  ('זו', 'O'),\n",
       "  ('התבררה', 'O'),\n",
       "  ('אתמול', 'O'),\n",
       "  ('בוועדת', 'O^B-ORG'),\n",
       "  ('העבודה', 'I-ORG^I-ORG'),\n",
       "  ('והרווחה', 'I-ORG^I-ORG^E-ORG'),\n",
       "  ('של', 'O'),\n",
       "  ('הכנסת', 'B-ORG^E-ORG'),\n",
       "  ('.', 'O')])"
      ]
     },
     "execution_count": 122,
     "metadata": {},
     "output_type": "execute_result"
    }
   ],
   "source": [
    "%%time \n",
    "payload = { 'sentences': texts[1],\n",
    "            'model_name': 'token-multi', # / 'token-single' / 'morph' \n",
    "            #'tokenized': True,\n",
    "          }\n",
    "\n",
    "res = requests.get('http://localhost:8090/run_ner_model', params=payload).json()\n",
    "list(zip(res['tokenized_text'][0], res['nemo_predictions'][0])), list(zip(res['tokenized_text'][1], res['nemo_predictions'][1]))"
   ]
  },
  {
   "cell_type": "markdown",
   "metadata": {},
   "source": [
    "### multi_to_single (get token-single predictions using a token-multi model)"
   ]
  },
  {
   "cell_type": "code",
   "execution_count": 123,
   "metadata": {},
   "outputs": [
    {
     "name": "stdout",
     "output_type": "stream",
     "text": [
      "CPU times: user 10.8 ms, sys: 0 ns, total: 10.8 ms\n",
      "Wall time: 90.9 ms\n"
     ]
    },
    {
     "data": {
      "text/plain": [
       "{'tokenized_text': [['עשרות', 'אנשים', 'מגיעים', 'מתאילנד', 'לישראל', '.'],\n",
       "  ['תופעה',\n",
       "   'זו',\n",
       "   'התבררה',\n",
       "   'אתמול',\n",
       "   'בוועדת',\n",
       "   'העבודה',\n",
       "   'והרווחה',\n",
       "   'של',\n",
       "   'הכנסת',\n",
       "   '.']],\n",
       " 'nemo_multi_predictions': [['O', 'O', 'O', 'O^S-GPE', 'O^S-GPE', 'O'],\n",
       "  ['O',\n",
       "   'O',\n",
       "   'O',\n",
       "   'O',\n",
       "   'O^B-ORG',\n",
       "   'I-ORG^I-ORG',\n",
       "   'I-ORG^I-ORG^E-ORG',\n",
       "   'O',\n",
       "   'B-ORG^E-ORG',\n",
       "   'O']],\n",
       " 'single_predictions': [['O', 'O', 'O', 'S-GPE', 'S-GPE', 'O'],\n",
       "  ['O', 'O', 'O', 'O', 'B-ORG', 'I-ORG', 'E-ORG', 'O', 'S-ORG', 'O']]}"
      ]
     },
     "execution_count": 123,
     "metadata": {},
     "output_type": "execute_result"
    }
   ],
   "source": [
    "%%time\n",
    "payload = { 'sentences': texts[1],\n",
    "            #'model_name': 'token-multi',\n",
    "            #'tokenized': True,\n",
    "          }\n",
    "\n",
    "res = requests.get('http://localhost:8090/multi_to_single', params=payload).json()\n",
    "res"
   ]
  },
  {
   "cell_type": "markdown",
   "metadata": {},
   "source": [
    "## MD + NER"
   ]
  },
  {
   "cell_type": "markdown",
   "metadata": {},
   "source": [
    "### multi_align_hybrid"
   ]
  },
  {
   "cell_type": "code",
   "execution_count": 124,
   "metadata": {},
   "outputs": [
    {
     "name": "stdout",
     "output_type": "stream",
     "text": [
      "CPU times: user 11.5 ms, sys: 0 ns, total: 11.5 ms\n",
      "Wall time: 235 ms\n"
     ]
    },
    {
     "data": {
      "text/plain": [
       "{'tokenized_text': [['עשרות', 'אנשים', 'מגיעים', 'מתאילנד', 'לישראל', '.'],\n",
       "  ['תופעה',\n",
       "   'זו',\n",
       "   'התבררה',\n",
       "   'אתמול',\n",
       "   'בוועדת',\n",
       "   'העבודה',\n",
       "   'והרווחה',\n",
       "   'של',\n",
       "   'הכנסת',\n",
       "   '.']],\n",
       " 'nemo_multi_predictions': [['O', 'O', 'O', 'O^S-GPE', 'O^S-GPE', 'O'],\n",
       "  ['O',\n",
       "   'O',\n",
       "   'O',\n",
       "   'O',\n",
       "   'O^B-ORG',\n",
       "   'I-ORG^I-ORG',\n",
       "   'I-ORG^I-ORG^E-ORG',\n",
       "   'O',\n",
       "   'B-ORG^E-ORG',\n",
       "   'O']],\n",
       " 'ma_lattice': '0\\t1\\tעשרות\\tעשר\\tCDT\\tCDT\\tgen=F|num=P\\t1\\n0\\t1\\tעשרות\\tעשר\\tCD\\tCD\\tgen=F|num=P\\t1\\n1\\t2\\tאנשים\\tהנשים\\tVB\\tVB\\tgen=F|gen=M|num=S|per=1|tense=FUTURE\\t2\\n1\\t2\\tאנשים\\tאיש\\tNN\\tNN\\tgen=M|num=P\\t2\\n2\\t3\\tמגיעים\\tהגיע\\tVB\\tVB\\tgen=M|num=P|per=A|tense=BEINONI\\t3\\n2\\t3\\tמגיעים\\tהגיע\\tBN\\tBN\\tgen=M|num=P|per=A\\t3\\n3\\t4\\tמ\\tמ\\tPREPOSITION\\tPREPOSITION\\t_\\t4\\n3\\t5\\tמתאילנד\\tמתאילנד\\tNNP\\tNNP\\tgen=M|num=S\\t4\\n3\\t5\\tמתאילנד\\tמתאילנד\\tNN\\tNN\\tgen=M|num=P|num=S\\t4\\n3\\t5\\tמתאילנד\\tמתאילנד\\tNN\\tNN\\tgen=M|num=S\\t4\\n3\\t5\\tמתאילנד\\tמתאילנד\\tNNP\\tNNP\\tgen=F|num=S\\t4\\n3\\t5\\tמתאילנד\\tמתאילנד\\tNNP\\tNNP\\tgen=F|gen=M|num=S\\t4\\n3\\t5\\tמתאילנד\\tמתאילנד\\tNNP\\tNNP\\t_\\t4\\n3\\t5\\tמתאילנד\\tמתאילנד\\tNN\\tNN\\tgen=M|num=P\\t4\\n3\\t5\\tמתאילנד\\tמתאילנד\\tNN\\tNN\\tgen=F|num=S\\t4\\n3\\t5\\tמתאילנד\\tמתאילנד\\tNN\\tNN\\tgen=F|num=P\\t4\\n4\\t5\\tתאילנד\\tתאילנד\\tNNP\\tNNP\\tgen=F|num=S\\t4\\n5\\t6\\tל\\tל\\tPREPOSITION\\tPREPOSITION\\t_\\t5\\n5\\t8\\tלישראל\\tלישראל\\tNNP\\tNNP\\tgen=M|num=S\\t5\\n5\\t8\\tלישראל\\tלישראל\\tNN\\tNN\\tgen=M|num=P|num=S\\t5\\n5\\t8\\tלישראל\\tלישראל\\tNN\\tNN\\tgen=M|num=S\\t5\\n5\\t8\\tלישראל\\tלישראל\\tNNP\\tNNP\\tgen=F|num=S\\t5\\n5\\t8\\tלישראל\\tלישראל\\tNNP\\tNNP\\tgen=F|gen=M|num=S\\t5\\n5\\t8\\tלישראל\\tלישראל\\tNNP\\tNNP\\t_\\t5\\n5\\t8\\tלישראל\\tלישראל\\tNN\\tNN\\tgen=M|num=P\\t5\\n5\\t8\\tלישראל\\tלישראל\\tNN\\tNN\\tgen=F|num=S\\t5\\n5\\t8\\tלישראל\\tלישראל\\tNN\\tNN\\tgen=F|num=P\\t5\\n6\\t7\\tה\\tה\\tDEF\\tDEF\\t_\\t5\\n6\\t8\\tישראל\\tישראל\\tNNP\\tNNP\\tgen=M|num=S\\t5\\n6\\t8\\tישראל\\tישראל\\tNNP\\tNNP\\tgen=F|num=S\\t5\\n7\\t8\\tישראל\\tישראל\\tNNP\\tNNP\\tgen=F|num=S\\t5\\n7\\t8\\tישראל\\tישראל\\tNNP\\tNNP\\tgen=M|num=S\\t5\\n8\\t9\\t.\\t_\\tyyDOT\\tyyDOT\\t_\\t6\\n\\n0\\t1\\tתופעה\\tתופעה\\tNN\\tNN\\tgen=F|num=S\\t1\\n1\\t2\\tזו\\tזו\\tPRP\\tPRP\\tgen=F|num=S|per=3\\t2\\n2\\t3\\tהתבררה\\tהתברר\\tVB\\tVB\\tgen=F|num=S|per=3|tense=PAST\\t3\\n3\\t4\\tאתמול\\tאתמול\\tRB\\tRB\\t_\\t4\\n4\\t5\\tב\\tב\\tPREPOSITION\\tPREPOSITION\\t_\\t5\\n4\\t7\\tבוועדת\\tבוועדת\\tNNP\\tNNP\\tgen=M|num=S\\t5\\n4\\t7\\tבוועדת\\tבוועדת\\tNN\\tNN\\tgen=M|num=P|num=S\\t5\\n4\\t7\\tבוועדת\\tבוועדת\\tNN\\tNN\\tgen=M|num=S\\t5\\n4\\t7\\tבוועדת\\tבוועדת\\tNNP\\tNNP\\tgen=F|num=S\\t5\\n4\\t7\\tבוועדת\\tבוועדת\\tNNP\\tNNP\\tgen=F|gen=M|num=S\\t5\\n4\\t7\\tבוועדת\\tבוועדת\\tNNP\\tNNP\\t_\\t5\\n4\\t7\\tבוועדת\\tבוועדת\\tNN\\tNN\\tgen=M|num=P\\t5\\n4\\t7\\tבוועדת\\tבוועדת\\tNN\\tNN\\tgen=F|num=S\\t5\\n4\\t7\\tבוועדת\\tבוועדת\\tNN\\tNN\\tgen=F|num=P\\t5\\n5\\t6\\tה\\tה\\tDEF\\tDEF\\t_\\t5\\n5\\t7\\tוועדת\\tועדה\\tNNT\\tNNT\\tgen=F|num=S\\t5\\n6\\t7\\tוועדת\\tועדה\\tNNT\\tNNT\\tgen=F|num=S\\t5\\n7\\t8\\tה\\tה\\tDEF\\tDEF\\t_\\t6\\n7\\t9\\tה\\tה\\tREL\\tREL\\t_\\t6\\n7\\t10\\tהעבודה\\tהעבודה\\tNNP\\tNNP\\tgen=F|num=S\\t6\\n7\\t10\\tהעבודה\\tהעבודה\\tNN\\tNN\\tgen=M|num=S\\t6\\n7\\t10\\tהעבודה\\tהעבודה\\tNN\\tNN\\tgen=M|num=P|num=S\\t6\\n7\\t10\\tהעבודה\\tהעבודה\\tNNP\\tNNP\\tgen=M|num=S\\t6\\n7\\t10\\tהעבודה\\tהעבודה\\tNNP\\tNNP\\t_\\t6\\n7\\t10\\tהעבודה\\tהעבודה\\tNNP\\tNNP\\tgen=F|gen=M|num=S\\t6\\n7\\t10\\tהעבודה\\tהעבודה\\tNN\\tNN\\tgen=F|num=P\\t6\\n7\\t10\\tהעבודה\\tהעבודה\\tNN\\tNN\\tgen=F|num=S\\t6\\n7\\t10\\tהעבודה\\tהעבודה\\tNN\\tNN\\tgen=M|num=P\\t6\\n8\\t10\\tעבודה\\tעבודה\\tNN\\tNN\\tgen=F|num=S\\t6\\n9\\t10\\tעבודה\\tעבודה\\tNN\\tNN\\tgen=F|num=S\\t6\\n10\\t11\\tו\\tו\\tCONJ\\tCONJ\\t_\\t7\\n10\\t15\\tוהרווחה\\tוהרווחה\\tNNP\\tNNP\\tgen=M|num=S\\t7\\n10\\t15\\tוהרווחה\\tוהרווחה\\tNN\\tNN\\tgen=M|num=P|num=S\\t7\\n10\\t15\\tוהרווחה\\tוהרווחה\\tNN\\tNN\\tgen=M|num=S\\t7\\n10\\t15\\tוהרווחה\\tוהרווחה\\tNNP\\tNNP\\tgen=F|num=S\\t7\\n10\\t15\\tוהרווחה\\tוהרווחה\\tNNP\\tNNP\\tgen=F|gen=M|num=S\\t7\\n10\\t15\\tוהרווחה\\tוהרווחה\\tNNP\\tNNP\\t_\\t7\\n10\\t15\\tוהרווחה\\tוהרווחה\\tNN\\tNN\\tgen=M|num=P\\t7\\n10\\t15\\tוהרווחה\\tוהרווחה\\tNN\\tNN\\tgen=F|num=S\\t7\\n10\\t15\\tוהרווחה\\tוהרווחה\\tNN\\tNN\\tgen=F|num=P\\t7\\n11\\t12\\tה\\tה\\tDEF\\tDEF\\t_\\t7\\n11\\t15\\tהרווחה\\tהרווחה\\tNN\\tNN\\tgen=F|num=S\\t7\\n12\\t13\\tרווח\\tרווח\\tBN\\tBN\\tgen=M|num=S|per=A\\t7\\n12\\t15\\tרווחה\\tרווחה\\tNNP\\tNNP\\tgen=M|num=S\\t7\\n12\\t15\\tרווחה\\tרווח\\tVB\\tVB\\tgen=F|num=S|per=3|tense=PAST\\t7\\n12\\t15\\tרווחה\\tרווחה\\tNN\\tNN\\tgen=F|num=S\\t7\\n12\\t15\\tרווחה\\tרווח\\tNN\\tNN\\tgen=M|num=S|suf_gen=F|suf_num=S|suf_per=3\\t7\\n13\\t14\\tאת\\tאת\\tPOS\\tPOS\\t_\\t7\\n14\\t15\\tהיא\\tהיא\\tS_PRN\\tS_PRN\\tgen=F|num=S|per=3\\t7\\n15\\t16\\tשל\\tנשל\\tVB\\tVB\\tgen=M|num=S|per=2|tense=IMPERATIVE\\t8\\n15\\t16\\tשל\\tשל\\tPOS\\tPOS\\t_\\t8\\n16\\t17\\tה\\tה\\tDEF\\tDEF\\t_\\t9\\n16\\t18\\tה\\tה\\tREL\\tREL\\t_\\t9\\n16\\t19\\tהכנסת\\tהכניס\\tVB\\tVB\\tgen=F|num=S|per=2|tense=PAST\\t9\\n16\\t19\\tהכנסת\\tהכנסה\\tNNT\\tNNT\\tgen=F|num=S\\t9\\n16\\t19\\tהכנסת\\tהכניס\\tVB\\tVB\\tgen=M|num=S|per=2|tense=PAST\\t9\\n17\\t19\\tכנסת\\tכנסת\\tNNP\\tNNP\\tgen=F|num=S\\t9\\n17\\t19\\tכנסת\\tכינס\\tVB\\tVB\\tgen=M|num=S|per=2|tense=PAST\\t9\\n17\\t19\\tכנסת\\tכינס\\tVB\\tVB\\tgen=F|num=S|per=2|tense=PAST\\t9\\n18\\t19\\tכנסת\\tכנסת\\tNNP\\tNNP\\tgen=F|num=S\\t9\\n18\\t19\\tכנסת\\tכינס\\tVB\\tVB\\tgen=M|num=S|per=2|tense=PAST\\t9\\n18\\t19\\tכנסת\\tכינס\\tVB\\tVB\\tgen=F|num=S|per=2|tense=PAST\\t9\\n19\\t20\\t.\\t_\\tyyDOT\\tyyDOT\\t_\\t10\\n\\n',\n",
       " 'pruned_lattice': '0\\t1\\tעשרות\\tעשר\\tCDT\\tCDT\\tgen=F|num=P\\t1\\n0\\t1\\tעשרות\\tעשר\\tCD\\tCD\\tgen=F|num=P\\t1\\n1\\t2\\tאנשים\\tהנשים\\tVB\\tVB\\tgen=F|gen=M|num=S|per=1|tense=FUTURE\\t2\\n1\\t2\\tאנשים\\tאיש\\tNN\\tNN\\tgen=M|num=P\\t2\\n2\\t3\\tמגיעים\\tהגיע\\tVB\\tVB\\tgen=M|num=P|per=A|tense=BEINONI\\t3\\n2\\t3\\tמגיעים\\tהגיע\\tBN\\tBN\\tgen=M|num=P|per=A\\t3\\n3\\t4\\tמ\\tמ\\tPREPOSITION\\tPREPOSITION\\t_\\t4\\n4\\t5\\tתאילנד\\tתאילנד\\tNNP\\tNNP\\tgen=F|num=S\\t4\\n5\\t6\\tל\\tל\\tPREPOSITION\\tPREPOSITION\\t_\\t5\\n6\\t8\\tישראל\\tישראל\\tNNP\\tNNP\\tgen=M|num=S\\t5\\n6\\t8\\tישראל\\tישראל\\tNNP\\tNNP\\tgen=F|num=S\\t5\\n8\\t9\\t.\\t_\\tyyDOT\\tyyDOT\\t_\\t6\\n\\n0\\t1\\tתופעה\\tתופעה\\tNN\\tNN\\tgen=F|num=S\\t1\\n1\\t2\\tזו\\tזו\\tPRP\\tPRP\\tgen=F|num=S|per=3\\t2\\n2\\t3\\tהתבררה\\tהתברר\\tVB\\tVB\\tgen=F|num=S|per=3|tense=PAST\\t3\\n3\\t4\\tאתמול\\tאתמול\\tRB\\tRB\\t_\\t4\\n4\\t5\\tב\\tב\\tPREPOSITION\\tPREPOSITION\\t_\\t5\\n5\\t7\\tוועדת\\tועדה\\tNNT\\tNNT\\tgen=F|num=S\\t5\\n7\\t8\\tה\\tה\\tDEF\\tDEF\\t_\\t6\\n7\\t9\\tה\\tה\\tREL\\tREL\\t_\\t6\\n8\\t10\\tעבודה\\tעבודה\\tNN\\tNN\\tgen=F|num=S\\t6\\n9\\t10\\tעבודה\\tעבודה\\tNN\\tNN\\tgen=F|num=S\\t6\\n10\\t11\\tו\\tו\\tCONJ\\tCONJ\\t_\\t7\\n11\\t12\\tה\\tה\\tDEF\\tDEF\\t_\\t7\\n12\\t15\\tרווחה\\tרווחה\\tNNP\\tNNP\\tgen=M|num=S\\t7\\n12\\t15\\tרווחה\\tרווח\\tVB\\tVB\\tgen=F|num=S|per=3|tense=PAST\\t7\\n12\\t15\\tרווחה\\tרווחה\\tNN\\tNN\\tgen=F|num=S\\t7\\n12\\t15\\tרווחה\\tרווח\\tNN\\tNN\\tgen=M|num=S|suf_gen=F|suf_num=S|suf_per=3\\t7\\n15\\t16\\tשל\\tנשל\\tVB\\tVB\\tgen=M|num=S|per=2|tense=IMPERATIVE\\t8\\n15\\t16\\tשל\\tשל\\tPOS\\tPOS\\t_\\t8\\n16\\t17\\tה\\tה\\tDEF\\tDEF\\t_\\t9\\n16\\t18\\tה\\tה\\tREL\\tREL\\t_\\t9\\n17\\t19\\tכנסת\\tכנסת\\tNNP\\tNNP\\tgen=F|num=S\\t9\\n17\\t19\\tכנסת\\tכינס\\tVB\\tVB\\tgen=M|num=S|per=2|tense=PAST\\t9\\n17\\t19\\tכנסת\\tכינס\\tVB\\tVB\\tgen=F|num=S|per=2|tense=PAST\\t9\\n18\\t19\\tכנסת\\tכנסת\\tNNP\\tNNP\\tgen=F|num=S\\t9\\n18\\t19\\tכנסת\\tכינס\\tVB\\tVB\\tgen=M|num=S|per=2|tense=PAST\\t9\\n18\\t19\\tכנסת\\tכינס\\tVB\\tVB\\tgen=F|num=S|per=2|tense=PAST\\t9\\n19\\t20\\t.\\t_\\tyyDOT\\tyyDOT\\t_\\t10\\n\\n',\n",
       " 'md_lattice': '0\\t1\\tעשרות\\tעשר\\tCDT\\tCDT\\tgen=F|num=P\\t1\\n1\\t2\\tאנשים\\tאיש\\tNN\\tNN\\tgen=M|num=P\\t2\\n2\\t3\\tמגיעים\\tהגיע\\tBN\\tBN\\tgen=M|num=P|per=A\\t3\\n3\\t4\\tמ\\tמ\\tPREPOSITION\\tPREPOSITION\\t_\\t4\\n4\\t5\\tתאילנד\\tתאילנד\\tNNP\\tNNP\\tgen=F|num=S\\t4\\n5\\t6\\tל\\tל\\tPREPOSITION\\tPREPOSITION\\t_\\t5\\n6\\t7\\tישראל\\tישראל\\tNNP\\tNNP\\tgen=F|num=S\\t5\\n7\\t8\\t.\\t_\\tyyDOT\\tyyDOT\\t_\\t6\\n\\n0\\t1\\tתופעה\\tתופעה\\tNN\\tNN\\tgen=F|num=S\\t1\\n1\\t2\\tזו\\tזו\\tPRP\\tPRP\\tgen=F|num=S|per=3\\t2\\n2\\t3\\tהתבררה\\tהתברר\\tVB\\tVB\\tgen=F|num=S|per=3|tense=PAST\\t3\\n3\\t4\\tאתמול\\tאתמול\\tRB\\tRB\\t_\\t4\\n4\\t5\\tב\\tב\\tPREPOSITION\\tPREPOSITION\\t_\\t5\\n5\\t6\\tוועדת\\tועדה\\tNNT\\tNNT\\tgen=F|num=S\\t5\\n6\\t7\\tה\\tה\\tDEF\\tDEF\\t_\\t6\\n7\\t8\\tעבודה\\tעבודה\\tNN\\tNN\\tgen=F|num=S\\t6\\n8\\t9\\tו\\tו\\tCONJ\\tCONJ\\t_\\t7\\n9\\t10\\tה\\tה\\tDEF\\tDEF\\t_\\t7\\n10\\t11\\tרווחה\\tרווחה\\tNN\\tNN\\tgen=F|num=S\\t7\\n11\\t12\\tשל\\tשל\\tPOS\\tPOS\\t_\\t8\\n12\\t13\\tה\\tה\\tDEF\\tDEF\\t_\\t9\\n13\\t14\\tכנסת\\tכנסת\\tNNP\\tNNP\\tgen=F|num=S\\t9\\n14\\t15\\t.\\t_\\tyyDOT\\tyyDOT\\t_\\t10\\n\\n',\n",
       " 'morph_segmented_text': [['עשרות',\n",
       "   'אנשים',\n",
       "   'מגיעים',\n",
       "   'מ',\n",
       "   'תאילנד',\n",
       "   'ל',\n",
       "   'ישראל',\n",
       "   '.'],\n",
       "  ['תופעה',\n",
       "   'זו',\n",
       "   'התבררה',\n",
       "   'אתמול',\n",
       "   'ב',\n",
       "   'וועדת',\n",
       "   'ה',\n",
       "   'עבודה',\n",
       "   'ו',\n",
       "   'ה',\n",
       "   'רווחה',\n",
       "   'של',\n",
       "   'ה',\n",
       "   'כנסת',\n",
       "   '.']],\n",
       " 'morph_aligned_multi_predictions': [['O',\n",
       "   'O',\n",
       "   'O',\n",
       "   'O',\n",
       "   'S-GPE',\n",
       "   'O',\n",
       "   'S-GPE',\n",
       "   'O'],\n",
       "  ['O',\n",
       "   'O',\n",
       "   'O',\n",
       "   'O',\n",
       "   'O',\n",
       "   'B-ORG',\n",
       "   'I-ORG',\n",
       "   'I-ORG',\n",
       "   'I-ORG',\n",
       "   'I-ORG',\n",
       "   'E-ORG',\n",
       "   'O',\n",
       "   'B-ORG',\n",
       "   'E-ORG',\n",
       "   'O']]}"
      ]
     },
     "execution_count": 124,
     "metadata": {},
     "output_type": "execute_result"
    }
   ],
   "source": [
    "%%time\n",
    "payload = { 'sentences': texts[1],\n",
    "            #'model_name': 'token-multi',\n",
    "            #'tokenized': True,\n",
    "          }\n",
    "\n",
    "res = requests.get('http://localhost:8090/multi_align_hybrid', params=payload).json()\n",
    "res"
   ]
  },
  {
   "cell_type": "code",
   "execution_count": 125,
   "metadata": {},
   "outputs": [
    {
     "name": "stdout",
     "output_type": "stream",
     "text": [
      "0\t1\tעשרות\tעשר\tCDT\tCDT\tgen=F|num=P\t1\n",
      "1\t2\tאנשים\tאיש\tNN\tNN\tgen=M|num=P\t2\n",
      "2\t3\tמגיעים\tהגיע\tBN\tBN\tgen=M|num=P|per=A\t3\n",
      "3\t4\tמ\tמ\tPREPOSITION\tPREPOSITION\t_\t4\n",
      "4\t5\tתאילנד\tתאילנד\tNNP\tNNP\tgen=F|num=S\t4\n",
      "5\t6\tל\tל\tPREPOSITION\tPREPOSITION\t_\t5\n",
      "6\t7\tישראל\tישראל\tNNP\tNNP\tgen=F|num=S\t5\n",
      "7\t8\t.\t_\tyyDOT\tyyDOT\t_\t6\n",
      "\n",
      "0\t1\tתופעה\tתופעה\tNN\tNN\tgen=F|num=S\t1\n",
      "1\t2\tזו\tזו\tPRP\tPRP\tgen=F|num=S|per=3\t2\n",
      "2\t3\tהתבררה\tהתברר\tVB\tVB\tgen=F|num=S|per=3|tense=PAST\t3\n",
      "3\t4\tאתמול\tאתמול\tRB\tRB\t_\t4\n",
      "4\t5\tב\tב\tPREPOSITION\tPREPOSITION\t_\t5\n",
      "5\t6\tוועדת\tועדה\tNNT\tNNT\tgen=F|num=S\t5\n",
      "6\t7\tה\tה\tDEF\tDEF\t_\t6\n",
      "7\t8\tעבודה\tעבודה\tNN\tNN\tgen=F|num=S\t6\n",
      "8\t9\tו\tו\tCONJ\tCONJ\t_\t7\n",
      "9\t10\tה\tה\tDEF\tDEF\t_\t7\n",
      "10\t11\tרווחה\tרווחה\tNN\tNN\tgen=F|num=S\t7\n",
      "11\t12\tשל\tשל\tPOS\tPOS\t_\t8\n",
      "12\t13\tה\tה\tDEF\tDEF\t_\t9\n",
      "13\t14\tכנסת\tכנסת\tNNP\tNNP\tgen=F|num=S\t9\n",
      "14\t15\t.\t_\tyyDOT\tyyDOT\t_\t10\n",
      "\n",
      "\n"
     ]
    }
   ],
   "source": [
    "print(res['md_lattice'])"
   ]
  },
  {
   "cell_type": "markdown",
   "metadata": {},
   "source": [
    "### morph_yap"
   ]
  },
  {
   "cell_type": "code",
   "execution_count": 126,
   "metadata": {},
   "outputs": [
    {
     "name": "stdout",
     "output_type": "stream",
     "text": [
      "CPU times: user 11.9 ms, sys: 455 µs, total: 12.4 ms\n",
      "Wall time: 283 ms\n"
     ]
    },
    {
     "data": {
      "text/plain": [
       "{'tokenized_text': [['עשרות', 'אנשים', 'מגיעים', 'מתאילנד', 'לישראל', '.'],\n",
       "  ['תופעה',\n",
       "   'זו',\n",
       "   'התבררה',\n",
       "   'אתמול',\n",
       "   'בוועדת',\n",
       "   'העבודה',\n",
       "   'והרווחה',\n",
       "   'של',\n",
       "   'הכנסת',\n",
       "   '.']],\n",
       " 'ma_lattice': '0\\t1\\tעשרות\\tעשר\\tCDT\\tCDT\\tgen=F|num=P\\t1\\n0\\t1\\tעשרות\\tעשר\\tCD\\tCD\\tgen=F|num=P\\t1\\n1\\t2\\tאנשים\\tהנשים\\tVB\\tVB\\tgen=F|gen=M|num=S|per=1|tense=FUTURE\\t2\\n1\\t2\\tאנשים\\tאיש\\tNN\\tNN\\tgen=M|num=P\\t2\\n2\\t3\\tמגיעים\\tהגיע\\tVB\\tVB\\tgen=M|num=P|per=A|tense=BEINONI\\t3\\n2\\t3\\tמגיעים\\tהגיע\\tBN\\tBN\\tgen=M|num=P|per=A\\t3\\n3\\t4\\tמ\\tמ\\tPREPOSITION\\tPREPOSITION\\t_\\t4\\n3\\t5\\tמתאילנד\\tמתאילנד\\tNNP\\tNNP\\tgen=M|num=S\\t4\\n3\\t5\\tמתאילנד\\tמתאילנד\\tNN\\tNN\\tgen=M|num=P|num=S\\t4\\n3\\t5\\tמתאילנד\\tמתאילנד\\tNN\\tNN\\tgen=M|num=S\\t4\\n3\\t5\\tמתאילנד\\tמתאילנד\\tNNP\\tNNP\\tgen=F|num=S\\t4\\n3\\t5\\tמתאילנד\\tמתאילנד\\tNNP\\tNNP\\tgen=F|gen=M|num=S\\t4\\n3\\t5\\tמתאילנד\\tמתאילנד\\tNNP\\tNNP\\t_\\t4\\n3\\t5\\tמתאילנד\\tמתאילנד\\tNN\\tNN\\tgen=M|num=P\\t4\\n3\\t5\\tמתאילנד\\tמתאילנד\\tNN\\tNN\\tgen=F|num=S\\t4\\n3\\t5\\tמתאילנד\\tמתאילנד\\tNN\\tNN\\tgen=F|num=P\\t4\\n4\\t5\\tתאילנד\\tתאילנד\\tNNP\\tNNP\\tgen=F|num=S\\t4\\n5\\t6\\tל\\tל\\tPREPOSITION\\tPREPOSITION\\t_\\t5\\n5\\t8\\tלישראל\\tלישראל\\tNNP\\tNNP\\tgen=M|num=S\\t5\\n5\\t8\\tלישראל\\tלישראל\\tNN\\tNN\\tgen=M|num=P|num=S\\t5\\n5\\t8\\tלישראל\\tלישראל\\tNN\\tNN\\tgen=M|num=S\\t5\\n5\\t8\\tלישראל\\tלישראל\\tNNP\\tNNP\\tgen=F|num=S\\t5\\n5\\t8\\tלישראל\\tלישראל\\tNNP\\tNNP\\tgen=F|gen=M|num=S\\t5\\n5\\t8\\tלישראל\\tלישראל\\tNNP\\tNNP\\t_\\t5\\n5\\t8\\tלישראל\\tלישראל\\tNN\\tNN\\tgen=M|num=P\\t5\\n5\\t8\\tלישראל\\tלישראל\\tNN\\tNN\\tgen=F|num=S\\t5\\n5\\t8\\tלישראל\\tלישראל\\tNN\\tNN\\tgen=F|num=P\\t5\\n6\\t7\\tה\\tה\\tDEF\\tDEF\\t_\\t5\\n6\\t8\\tישראל\\tישראל\\tNNP\\tNNP\\tgen=M|num=S\\t5\\n6\\t8\\tישראל\\tישראל\\tNNP\\tNNP\\tgen=F|num=S\\t5\\n7\\t8\\tישראל\\tישראל\\tNNP\\tNNP\\tgen=F|num=S\\t5\\n7\\t8\\tישראל\\tישראל\\tNNP\\tNNP\\tgen=M|num=S\\t5\\n8\\t9\\t.\\t_\\tyyDOT\\tyyDOT\\t_\\t6\\n\\n0\\t1\\tתופעה\\tתופעה\\tNN\\tNN\\tgen=F|num=S\\t1\\n1\\t2\\tזו\\tזו\\tPRP\\tPRP\\tgen=F|num=S|per=3\\t2\\n2\\t3\\tהתבררה\\tהתברר\\tVB\\tVB\\tgen=F|num=S|per=3|tense=PAST\\t3\\n3\\t4\\tאתמול\\tאתמול\\tRB\\tRB\\t_\\t4\\n4\\t5\\tב\\tב\\tPREPOSITION\\tPREPOSITION\\t_\\t5\\n4\\t7\\tבוועדת\\tבוועדת\\tNNP\\tNNP\\tgen=M|num=S\\t5\\n4\\t7\\tבוועדת\\tבוועדת\\tNN\\tNN\\tgen=M|num=P|num=S\\t5\\n4\\t7\\tבוועדת\\tבוועדת\\tNN\\tNN\\tgen=M|num=S\\t5\\n4\\t7\\tבוועדת\\tבוועדת\\tNNP\\tNNP\\tgen=F|num=S\\t5\\n4\\t7\\tבוועדת\\tבוועדת\\tNNP\\tNNP\\tgen=F|gen=M|num=S\\t5\\n4\\t7\\tבוועדת\\tבוועדת\\tNNP\\tNNP\\t_\\t5\\n4\\t7\\tבוועדת\\tבוועדת\\tNN\\tNN\\tgen=M|num=P\\t5\\n4\\t7\\tבוועדת\\tבוועדת\\tNN\\tNN\\tgen=F|num=S\\t5\\n4\\t7\\tבוועדת\\tבוועדת\\tNN\\tNN\\tgen=F|num=P\\t5\\n5\\t6\\tה\\tה\\tDEF\\tDEF\\t_\\t5\\n5\\t7\\tוועדת\\tועדה\\tNNT\\tNNT\\tgen=F|num=S\\t5\\n6\\t7\\tוועדת\\tועדה\\tNNT\\tNNT\\tgen=F|num=S\\t5\\n7\\t8\\tה\\tה\\tDEF\\tDEF\\t_\\t6\\n7\\t9\\tה\\tה\\tREL\\tREL\\t_\\t6\\n7\\t10\\tהעבודה\\tהעבודה\\tNNP\\tNNP\\tgen=F|num=S\\t6\\n7\\t10\\tהעבודה\\tהעבודה\\tNN\\tNN\\tgen=M|num=S\\t6\\n7\\t10\\tהעבודה\\tהעבודה\\tNN\\tNN\\tgen=M|num=P|num=S\\t6\\n7\\t10\\tהעבודה\\tהעבודה\\tNNP\\tNNP\\tgen=M|num=S\\t6\\n7\\t10\\tהעבודה\\tהעבודה\\tNNP\\tNNP\\t_\\t6\\n7\\t10\\tהעבודה\\tהעבודה\\tNNP\\tNNP\\tgen=F|gen=M|num=S\\t6\\n7\\t10\\tהעבודה\\tהעבודה\\tNN\\tNN\\tgen=F|num=P\\t6\\n7\\t10\\tהעבודה\\tהעבודה\\tNN\\tNN\\tgen=F|num=S\\t6\\n7\\t10\\tהעבודה\\tהעבודה\\tNN\\tNN\\tgen=M|num=P\\t6\\n8\\t10\\tעבודה\\tעבודה\\tNN\\tNN\\tgen=F|num=S\\t6\\n9\\t10\\tעבודה\\tעבודה\\tNN\\tNN\\tgen=F|num=S\\t6\\n10\\t11\\tו\\tו\\tCONJ\\tCONJ\\t_\\t7\\n10\\t15\\tוהרווחה\\tוהרווחה\\tNNP\\tNNP\\tgen=M|num=S\\t7\\n10\\t15\\tוהרווחה\\tוהרווחה\\tNN\\tNN\\tgen=M|num=P|num=S\\t7\\n10\\t15\\tוהרווחה\\tוהרווחה\\tNN\\tNN\\tgen=M|num=S\\t7\\n10\\t15\\tוהרווחה\\tוהרווחה\\tNNP\\tNNP\\tgen=F|num=S\\t7\\n10\\t15\\tוהרווחה\\tוהרווחה\\tNNP\\tNNP\\tgen=F|gen=M|num=S\\t7\\n10\\t15\\tוהרווחה\\tוהרווחה\\tNNP\\tNNP\\t_\\t7\\n10\\t15\\tוהרווחה\\tוהרווחה\\tNN\\tNN\\tgen=M|num=P\\t7\\n10\\t15\\tוהרווחה\\tוהרווחה\\tNN\\tNN\\tgen=F|num=S\\t7\\n10\\t15\\tוהרווחה\\tוהרווחה\\tNN\\tNN\\tgen=F|num=P\\t7\\n11\\t12\\tה\\tה\\tDEF\\tDEF\\t_\\t7\\n11\\t15\\tהרווחה\\tהרווחה\\tNN\\tNN\\tgen=F|num=S\\t7\\n12\\t13\\tרווח\\tרווח\\tBN\\tBN\\tgen=M|num=S|per=A\\t7\\n12\\t15\\tרווחה\\tרווחה\\tNNP\\tNNP\\tgen=M|num=S\\t7\\n12\\t15\\tרווחה\\tרווח\\tVB\\tVB\\tgen=F|num=S|per=3|tense=PAST\\t7\\n12\\t15\\tרווחה\\tרווחה\\tNN\\tNN\\tgen=F|num=S\\t7\\n12\\t15\\tרווחה\\tרווח\\tNN\\tNN\\tgen=M|num=S|suf_gen=F|suf_num=S|suf_per=3\\t7\\n13\\t14\\tאת\\tאת\\tPOS\\tPOS\\t_\\t7\\n14\\t15\\tהיא\\tהיא\\tS_PRN\\tS_PRN\\tgen=F|num=S|per=3\\t7\\n15\\t16\\tשל\\tנשל\\tVB\\tVB\\tgen=M|num=S|per=2|tense=IMPERATIVE\\t8\\n15\\t16\\tשל\\tשל\\tPOS\\tPOS\\t_\\t8\\n16\\t17\\tה\\tה\\tDEF\\tDEF\\t_\\t9\\n16\\t18\\tה\\tה\\tREL\\tREL\\t_\\t9\\n16\\t19\\tהכנסת\\tהכניס\\tVB\\tVB\\tgen=F|num=S|per=2|tense=PAST\\t9\\n16\\t19\\tהכנסת\\tהכנסה\\tNNT\\tNNT\\tgen=F|num=S\\t9\\n16\\t19\\tהכנסת\\tהכניס\\tVB\\tVB\\tgen=M|num=S|per=2|tense=PAST\\t9\\n17\\t19\\tכנסת\\tכנסת\\tNNP\\tNNP\\tgen=F|num=S\\t9\\n17\\t19\\tכנסת\\tכינס\\tVB\\tVB\\tgen=M|num=S|per=2|tense=PAST\\t9\\n17\\t19\\tכנסת\\tכינס\\tVB\\tVB\\tgen=F|num=S|per=2|tense=PAST\\t9\\n18\\t19\\tכנסת\\tכנסת\\tNNP\\tNNP\\tgen=F|num=S\\t9\\n18\\t19\\tכנסת\\tכינס\\tVB\\tVB\\tgen=M|num=S|per=2|tense=PAST\\t9\\n18\\t19\\tכנסת\\tכינס\\tVB\\tVB\\tgen=F|num=S|per=2|tense=PAST\\t9\\n19\\t20\\t.\\t_\\tyyDOT\\tyyDOT\\t_\\t10\\n\\n',\n",
       " 'md_lattice': '0\\t1\\tעשרות\\tעשר\\tCDT\\tCDT\\tgen=F|num=P\\t1\\n1\\t2\\tאנשים\\tאיש\\tNN\\tNN\\tgen=M|num=P\\t2\\n2\\t3\\tמגיעים\\tהגיע\\tBN\\tBN\\tgen=M|num=P|per=A\\t3\\n3\\t4\\tמ\\tמ\\tPREPOSITION\\tPREPOSITION\\t_\\t4\\n4\\t5\\tתאילנד\\tתאילנד\\tNNP\\tNNP\\tgen=F|num=S\\t4\\n5\\t6\\tל\\tל\\tPREPOSITION\\tPREPOSITION\\t_\\t5\\n6\\t7\\tישראל\\tישראל\\tNNP\\tNNP\\tgen=F|num=S\\t5\\n7\\t8\\t.\\t_\\tyyDOT\\tyyDOT\\t_\\t6\\n\\n0\\t1\\tתופעה\\tתופעה\\tNN\\tNN\\tgen=F|num=S\\t1\\n1\\t2\\tזו\\tזו\\tPRP\\tPRP\\tgen=F|num=S|per=3\\t2\\n2\\t3\\tהתבררה\\tהתברר\\tVB\\tVB\\tgen=F|num=S|per=3|tense=PAST\\t3\\n3\\t4\\tאתמול\\tאתמול\\tRB\\tRB\\t_\\t4\\n4\\t5\\tב\\tב\\tPREPOSITION\\tPREPOSITION\\t_\\t5\\n5\\t6\\tוועדת\\tועדה\\tNNT\\tNNT\\tgen=F|num=S\\t5\\n6\\t7\\tה\\tה\\tDEF\\tDEF\\t_\\t6\\n7\\t8\\tעבודה\\tעבודה\\tNN\\tNN\\tgen=F|num=S\\t6\\n8\\t9\\tו\\tו\\tCONJ\\tCONJ\\t_\\t7\\n9\\t10\\tה\\tה\\tDEF\\tDEF\\t_\\t7\\n10\\t11\\tרווחה\\tרווחה\\tNN\\tNN\\tgen=F|num=S\\t7\\n11\\t12\\tשל\\tשל\\tPOS\\tPOS\\t_\\t8\\n12\\t13\\tה\\tה\\tDEF\\tDEF\\t_\\t9\\n13\\t14\\tכנסת\\tכנסת\\tNNP\\tNNP\\tgen=F|num=S\\t9\\n14\\t15\\t.\\t_\\tyyDOT\\tyyDOT\\t_\\t10\\n\\n',\n",
       " 'dep_tree': '1\\tעשרות\\tעשר\\tCDT\\tCDT\\tgen=F|num=P\\t2\\tnum\\t_\\t_\\n2\\tאנשים\\tאיש\\tNN\\tNN\\tgen=M|num=P\\t3\\tsubj\\t_\\t_\\n3\\tמגיעים\\tהגיע\\tBN\\tBN\\tgen=M|num=P|per=A\\t0\\tROOT\\t_\\t_\\n4\\tמ\\tמ\\tPREPOSITION\\tPREPOSITION\\t\\t3\\tcomp\\t_\\t_\\n5\\tתאילנד\\tתאילנד\\tNNP\\tNNP\\tgen=F|num=S\\t4\\tpobj\\t_\\t_\\n6\\tל\\tל\\tPREPOSITION\\tPREPOSITION\\t\\t5\\tprepmod\\t_\\t_\\n7\\tישראל\\tישראל\\tNNP\\tNNP\\tgen=F|num=S\\t6\\tpobj\\t_\\t_\\n8\\t.\\t\\tyyDOT\\tyyDOT\\t\\t3\\tpunct\\t_\\t_\\n\\n1\\tתופעה\\tתופעה\\tNN\\tNN\\tgen=F|num=S\\t3\\tsubj\\t_\\t_\\n2\\tזו\\tזו\\tPRP\\tPRP\\tgen=F|num=S|per=3\\t1\\tamod\\t_\\t_\\n3\\tהתבררה\\tהתברר\\tVB\\tVB\\tgen=F|num=S|per=3|tense=PAST\\t0\\tROOT\\t_\\t_\\n4\\tאתמול\\tאתמול\\tRB\\tRB\\t\\t3\\ttmod\\t_\\t_\\n5\\tב\\tב\\tPREPOSITION\\tPREPOSITION\\t\\t3\\tprepmod\\t_\\t_\\n6\\tוועדת\\tועדה\\tNNT\\tNNT\\tgen=F|num=S\\t5\\tpobj\\t_\\t_\\n7\\tה\\tה\\tDEF\\tDEF\\t\\t8\\tdef\\t_\\t_\\n8\\tעבודה\\tעבודה\\tNN\\tNN\\tgen=F|num=S\\t9\\tconj\\t_\\t_\\n9\\tו\\tו\\tCONJ\\tCONJ\\t\\t6\\tgobj\\t_\\t_\\n10\\tה\\tה\\tDEF\\tDEF\\t\\t11\\tdef\\t_\\t_\\n11\\tרווחה\\tרווחה\\tNN\\tNN\\tgen=F|num=S\\t9\\tconj\\t_\\t_\\n12\\tשל\\tשל\\tPOS\\tPOS\\t\\t6\\tposspmod\\t_\\t_\\n13\\tה\\tה\\tDEF\\tDEF\\t\\t14\\tdef\\t_\\t_\\n14\\tכנסת\\tכנסת\\tNNP\\tNNP\\tgen=F|num=S\\t12\\tgobj\\t_\\t_\\n15\\t.\\t\\tyyDOT\\tyyDOT\\t\\t3\\tpunct\\t_\\t_\\n\\n',\n",
       " 'morph_segmented_text': [['עשרות',\n",
       "   'אנשים',\n",
       "   'מגיעים',\n",
       "   'מ',\n",
       "   'תאילנד',\n",
       "   'ל',\n",
       "   'ישראל',\n",
       "   '.'],\n",
       "  ['תופעה',\n",
       "   'זו',\n",
       "   'התבררה',\n",
       "   'אתמול',\n",
       "   'ב',\n",
       "   'וועדת',\n",
       "   'ה',\n",
       "   'עבודה',\n",
       "   'ו',\n",
       "   'ה',\n",
       "   'רווחה',\n",
       "   'של',\n",
       "   'ה',\n",
       "   'כנסת',\n",
       "   '.']],\n",
       " 'nemo_morph_predictions': [['O', 'O', 'O', 'O', 'S-GPE', 'O', 'S-GPE', 'O'],\n",
       "  ['O',\n",
       "   'O',\n",
       "   'O',\n",
       "   'O',\n",
       "   'O',\n",
       "   'B-ORG',\n",
       "   'I-ORG',\n",
       "   'I-ORG',\n",
       "   'I-ORG',\n",
       "   'I-ORG',\n",
       "   'E-ORG',\n",
       "   'O',\n",
       "   'B-ORG',\n",
       "   'E-ORG',\n",
       "   'O']]}"
      ]
     },
     "execution_count": 126,
     "metadata": {},
     "output_type": "execute_result"
    }
   ],
   "source": [
    "%%time\n",
    "payload = { 'sentences': texts[1],\n",
    "            #'model_name': 'morph',\n",
    "            #'tokenized': True,\n",
    "          }\n",
    "\n",
    "res = requests.get('http://localhost:8090/morph_yap', params=payload).json()\n",
    "res"
   ]
  },
  {
   "cell_type": "markdown",
   "metadata": {},
   "source": [
    "### morph_hybrid\n",
    "The following models got the best results in our experiments.\n"
   ]
  },
  {
   "cell_type": "code",
   "execution_count": 127,
   "metadata": {},
   "outputs": [
    {
     "name": "stdout",
     "output_type": "stream",
     "text": [
      "CPU times: user 11.1 ms, sys: 0 ns, total: 11.1 ms\n",
      "Wall time: 245 ms\n"
     ]
    },
    {
     "data": {
      "text/plain": [
       "{'tokenized_text': [['עשרות', 'אנשים', 'מגיעים', 'מתאילנד', 'לישראל', '.'],\n",
       "  ['תופעה',\n",
       "   'זו',\n",
       "   'התבררה',\n",
       "   'אתמול',\n",
       "   'בוועדת',\n",
       "   'העבודה',\n",
       "   'והרווחה',\n",
       "   'של',\n",
       "   'הכנסת',\n",
       "   '.']],\n",
       " 'nemo_multi_predictions': [['O', 'O', 'O', 'O^S-GPE', 'O^S-GPE', 'O'],\n",
       "  ['O',\n",
       "   'O',\n",
       "   'O',\n",
       "   'O',\n",
       "   'O^B-ORG',\n",
       "   'I-ORG^I-ORG',\n",
       "   'I-ORG^I-ORG^E-ORG',\n",
       "   'O',\n",
       "   'B-ORG^E-ORG',\n",
       "   'O']],\n",
       " 'ma_lattice': '0\\t1\\tעשרות\\tעשר\\tCDT\\tCDT\\tgen=F|num=P\\t1\\n0\\t1\\tעשרות\\tעשר\\tCD\\tCD\\tgen=F|num=P\\t1\\n1\\t2\\tאנשים\\tהנשים\\tVB\\tVB\\tgen=F|gen=M|num=S|per=1|tense=FUTURE\\t2\\n1\\t2\\tאנשים\\tאיש\\tNN\\tNN\\tgen=M|num=P\\t2\\n2\\t3\\tמגיעים\\tהגיע\\tVB\\tVB\\tgen=M|num=P|per=A|tense=BEINONI\\t3\\n2\\t3\\tמגיעים\\tהגיע\\tBN\\tBN\\tgen=M|num=P|per=A\\t3\\n3\\t4\\tמ\\tמ\\tPREPOSITION\\tPREPOSITION\\t_\\t4\\n3\\t5\\tמתאילנד\\tמתאילנד\\tNNP\\tNNP\\tgen=M|num=S\\t4\\n3\\t5\\tמתאילנד\\tמתאילנד\\tNN\\tNN\\tgen=M|num=P|num=S\\t4\\n3\\t5\\tמתאילנד\\tמתאילנד\\tNN\\tNN\\tgen=M|num=S\\t4\\n3\\t5\\tמתאילנד\\tמתאילנד\\tNNP\\tNNP\\tgen=F|num=S\\t4\\n3\\t5\\tמתאילנד\\tמתאילנד\\tNNP\\tNNP\\tgen=F|gen=M|num=S\\t4\\n3\\t5\\tמתאילנד\\tמתאילנד\\tNNP\\tNNP\\t_\\t4\\n3\\t5\\tמתאילנד\\tמתאילנד\\tNN\\tNN\\tgen=M|num=P\\t4\\n3\\t5\\tמתאילנד\\tמתאילנד\\tNN\\tNN\\tgen=F|num=S\\t4\\n3\\t5\\tמתאילנד\\tמתאילנד\\tNN\\tNN\\tgen=F|num=P\\t4\\n4\\t5\\tתאילנד\\tתאילנד\\tNNP\\tNNP\\tgen=F|num=S\\t4\\n5\\t6\\tל\\tל\\tPREPOSITION\\tPREPOSITION\\t_\\t5\\n5\\t8\\tלישראל\\tלישראל\\tNNP\\tNNP\\tgen=M|num=S\\t5\\n5\\t8\\tלישראל\\tלישראל\\tNN\\tNN\\tgen=M|num=P|num=S\\t5\\n5\\t8\\tלישראל\\tלישראל\\tNN\\tNN\\tgen=M|num=S\\t5\\n5\\t8\\tלישראל\\tלישראל\\tNNP\\tNNP\\tgen=F|num=S\\t5\\n5\\t8\\tלישראל\\tלישראל\\tNNP\\tNNP\\tgen=F|gen=M|num=S\\t5\\n5\\t8\\tלישראל\\tלישראל\\tNNP\\tNNP\\t_\\t5\\n5\\t8\\tלישראל\\tלישראל\\tNN\\tNN\\tgen=M|num=P\\t5\\n5\\t8\\tלישראל\\tלישראל\\tNN\\tNN\\tgen=F|num=S\\t5\\n5\\t8\\tלישראל\\tלישראל\\tNN\\tNN\\tgen=F|num=P\\t5\\n6\\t7\\tה\\tה\\tDEF\\tDEF\\t_\\t5\\n6\\t8\\tישראל\\tישראל\\tNNP\\tNNP\\tgen=M|num=S\\t5\\n6\\t8\\tישראל\\tישראל\\tNNP\\tNNP\\tgen=F|num=S\\t5\\n7\\t8\\tישראל\\tישראל\\tNNP\\tNNP\\tgen=F|num=S\\t5\\n7\\t8\\tישראל\\tישראל\\tNNP\\tNNP\\tgen=M|num=S\\t5\\n8\\t9\\t.\\t_\\tyyDOT\\tyyDOT\\t_\\t6\\n\\n0\\t1\\tתופעה\\tתופעה\\tNN\\tNN\\tgen=F|num=S\\t1\\n1\\t2\\tזו\\tזו\\tPRP\\tPRP\\tgen=F|num=S|per=3\\t2\\n2\\t3\\tהתבררה\\tהתברר\\tVB\\tVB\\tgen=F|num=S|per=3|tense=PAST\\t3\\n3\\t4\\tאתמול\\tאתמול\\tRB\\tRB\\t_\\t4\\n4\\t5\\tב\\tב\\tPREPOSITION\\tPREPOSITION\\t_\\t5\\n4\\t7\\tבוועדת\\tבוועדת\\tNNP\\tNNP\\tgen=M|num=S\\t5\\n4\\t7\\tבוועדת\\tבוועדת\\tNN\\tNN\\tgen=M|num=P|num=S\\t5\\n4\\t7\\tבוועדת\\tבוועדת\\tNN\\tNN\\tgen=M|num=S\\t5\\n4\\t7\\tבוועדת\\tבוועדת\\tNNP\\tNNP\\tgen=F|num=S\\t5\\n4\\t7\\tבוועדת\\tבוועדת\\tNNP\\tNNP\\tgen=F|gen=M|num=S\\t5\\n4\\t7\\tבוועדת\\tבוועדת\\tNNP\\tNNP\\t_\\t5\\n4\\t7\\tבוועדת\\tבוועדת\\tNN\\tNN\\tgen=M|num=P\\t5\\n4\\t7\\tבוועדת\\tבוועדת\\tNN\\tNN\\tgen=F|num=S\\t5\\n4\\t7\\tבוועדת\\tבוועדת\\tNN\\tNN\\tgen=F|num=P\\t5\\n5\\t6\\tה\\tה\\tDEF\\tDEF\\t_\\t5\\n5\\t7\\tוועדת\\tועדה\\tNNT\\tNNT\\tgen=F|num=S\\t5\\n6\\t7\\tוועדת\\tועדה\\tNNT\\tNNT\\tgen=F|num=S\\t5\\n7\\t8\\tה\\tה\\tDEF\\tDEF\\t_\\t6\\n7\\t9\\tה\\tה\\tREL\\tREL\\t_\\t6\\n7\\t10\\tהעבודה\\tהעבודה\\tNNP\\tNNP\\tgen=F|num=S\\t6\\n7\\t10\\tהעבודה\\tהעבודה\\tNN\\tNN\\tgen=M|num=S\\t6\\n7\\t10\\tהעבודה\\tהעבודה\\tNN\\tNN\\tgen=M|num=P|num=S\\t6\\n7\\t10\\tהעבודה\\tהעבודה\\tNNP\\tNNP\\tgen=M|num=S\\t6\\n7\\t10\\tהעבודה\\tהעבודה\\tNNP\\tNNP\\t_\\t6\\n7\\t10\\tהעבודה\\tהעבודה\\tNNP\\tNNP\\tgen=F|gen=M|num=S\\t6\\n7\\t10\\tהעבודה\\tהעבודה\\tNN\\tNN\\tgen=F|num=P\\t6\\n7\\t10\\tהעבודה\\tהעבודה\\tNN\\tNN\\tgen=F|num=S\\t6\\n7\\t10\\tהעבודה\\tהעבודה\\tNN\\tNN\\tgen=M|num=P\\t6\\n8\\t10\\tעבודה\\tעבודה\\tNN\\tNN\\tgen=F|num=S\\t6\\n9\\t10\\tעבודה\\tעבודה\\tNN\\tNN\\tgen=F|num=S\\t6\\n10\\t11\\tו\\tו\\tCONJ\\tCONJ\\t_\\t7\\n10\\t15\\tוהרווחה\\tוהרווחה\\tNNP\\tNNP\\tgen=M|num=S\\t7\\n10\\t15\\tוהרווחה\\tוהרווחה\\tNN\\tNN\\tgen=M|num=P|num=S\\t7\\n10\\t15\\tוהרווחה\\tוהרווחה\\tNN\\tNN\\tgen=M|num=S\\t7\\n10\\t15\\tוהרווחה\\tוהרווחה\\tNNP\\tNNP\\tgen=F|num=S\\t7\\n10\\t15\\tוהרווחה\\tוהרווחה\\tNNP\\tNNP\\tgen=F|gen=M|num=S\\t7\\n10\\t15\\tוהרווחה\\tוהרווחה\\tNNP\\tNNP\\t_\\t7\\n10\\t15\\tוהרווחה\\tוהרווחה\\tNN\\tNN\\tgen=M|num=P\\t7\\n10\\t15\\tוהרווחה\\tוהרווחה\\tNN\\tNN\\tgen=F|num=S\\t7\\n10\\t15\\tוהרווחה\\tוהרווחה\\tNN\\tNN\\tgen=F|num=P\\t7\\n11\\t12\\tה\\tה\\tDEF\\tDEF\\t_\\t7\\n11\\t15\\tהרווחה\\tהרווחה\\tNN\\tNN\\tgen=F|num=S\\t7\\n12\\t13\\tרווח\\tרווח\\tBN\\tBN\\tgen=M|num=S|per=A\\t7\\n12\\t15\\tרווחה\\tרווחה\\tNNP\\tNNP\\tgen=M|num=S\\t7\\n12\\t15\\tרווחה\\tרווח\\tVB\\tVB\\tgen=F|num=S|per=3|tense=PAST\\t7\\n12\\t15\\tרווחה\\tרווחה\\tNN\\tNN\\tgen=F|num=S\\t7\\n12\\t15\\tרווחה\\tרווח\\tNN\\tNN\\tgen=M|num=S|suf_gen=F|suf_num=S|suf_per=3\\t7\\n13\\t14\\tאת\\tאת\\tPOS\\tPOS\\t_\\t7\\n14\\t15\\tהיא\\tהיא\\tS_PRN\\tS_PRN\\tgen=F|num=S|per=3\\t7\\n15\\t16\\tשל\\tנשל\\tVB\\tVB\\tgen=M|num=S|per=2|tense=IMPERATIVE\\t8\\n15\\t16\\tשל\\tשל\\tPOS\\tPOS\\t_\\t8\\n16\\t17\\tה\\tה\\tDEF\\tDEF\\t_\\t9\\n16\\t18\\tה\\tה\\tREL\\tREL\\t_\\t9\\n16\\t19\\tהכנסת\\tהכניס\\tVB\\tVB\\tgen=F|num=S|per=2|tense=PAST\\t9\\n16\\t19\\tהכנסת\\tהכנסה\\tNNT\\tNNT\\tgen=F|num=S\\t9\\n16\\t19\\tהכנסת\\tהכניס\\tVB\\tVB\\tgen=M|num=S|per=2|tense=PAST\\t9\\n17\\t19\\tכנסת\\tכנסת\\tNNP\\tNNP\\tgen=F|num=S\\t9\\n17\\t19\\tכנסת\\tכינס\\tVB\\tVB\\tgen=M|num=S|per=2|tense=PAST\\t9\\n17\\t19\\tכנסת\\tכינס\\tVB\\tVB\\tgen=F|num=S|per=2|tense=PAST\\t9\\n18\\t19\\tכנסת\\tכנסת\\tNNP\\tNNP\\tgen=F|num=S\\t9\\n18\\t19\\tכנסת\\tכינס\\tVB\\tVB\\tgen=M|num=S|per=2|tense=PAST\\t9\\n18\\t19\\tכנסת\\tכינס\\tVB\\tVB\\tgen=F|num=S|per=2|tense=PAST\\t9\\n19\\t20\\t.\\t_\\tyyDOT\\tyyDOT\\t_\\t10\\n\\n',\n",
       " 'pruned_lattice': '0\\t1\\tעשרות\\tעשר\\tCDT\\tCDT\\tgen=F|num=P\\t1\\n0\\t1\\tעשרות\\tעשר\\tCD\\tCD\\tgen=F|num=P\\t1\\n1\\t2\\tאנשים\\tהנשים\\tVB\\tVB\\tgen=F|gen=M|num=S|per=1|tense=FUTURE\\t2\\n1\\t2\\tאנשים\\tאיש\\tNN\\tNN\\tgen=M|num=P\\t2\\n2\\t3\\tמגיעים\\tהגיע\\tVB\\tVB\\tgen=M|num=P|per=A|tense=BEINONI\\t3\\n2\\t3\\tמגיעים\\tהגיע\\tBN\\tBN\\tgen=M|num=P|per=A\\t3\\n3\\t4\\tמ\\tמ\\tPREPOSITION\\tPREPOSITION\\t_\\t4\\n4\\t5\\tתאילנד\\tתאילנד\\tNNP\\tNNP\\tgen=F|num=S\\t4\\n5\\t6\\tל\\tל\\tPREPOSITION\\tPREPOSITION\\t_\\t5\\n6\\t8\\tישראל\\tישראל\\tNNP\\tNNP\\tgen=M|num=S\\t5\\n6\\t8\\tישראל\\tישראל\\tNNP\\tNNP\\tgen=F|num=S\\t5\\n8\\t9\\t.\\t_\\tyyDOT\\tyyDOT\\t_\\t6\\n\\n0\\t1\\tתופעה\\tתופעה\\tNN\\tNN\\tgen=F|num=S\\t1\\n1\\t2\\tזו\\tזו\\tPRP\\tPRP\\tgen=F|num=S|per=3\\t2\\n2\\t3\\tהתבררה\\tהתברר\\tVB\\tVB\\tgen=F|num=S|per=3|tense=PAST\\t3\\n3\\t4\\tאתמול\\tאתמול\\tRB\\tRB\\t_\\t4\\n4\\t5\\tב\\tב\\tPREPOSITION\\tPREPOSITION\\t_\\t5\\n5\\t7\\tוועדת\\tועדה\\tNNT\\tNNT\\tgen=F|num=S\\t5\\n7\\t8\\tה\\tה\\tDEF\\tDEF\\t_\\t6\\n7\\t9\\tה\\tה\\tREL\\tREL\\t_\\t6\\n8\\t10\\tעבודה\\tעבודה\\tNN\\tNN\\tgen=F|num=S\\t6\\n9\\t10\\tעבודה\\tעבודה\\tNN\\tNN\\tgen=F|num=S\\t6\\n10\\t11\\tו\\tו\\tCONJ\\tCONJ\\t_\\t7\\n11\\t12\\tה\\tה\\tDEF\\tDEF\\t_\\t7\\n12\\t15\\tרווחה\\tרווחה\\tNNP\\tNNP\\tgen=M|num=S\\t7\\n12\\t15\\tרווחה\\tרווח\\tVB\\tVB\\tgen=F|num=S|per=3|tense=PAST\\t7\\n12\\t15\\tרווחה\\tרווחה\\tNN\\tNN\\tgen=F|num=S\\t7\\n12\\t15\\tרווחה\\tרווח\\tNN\\tNN\\tgen=M|num=S|suf_gen=F|suf_num=S|suf_per=3\\t7\\n15\\t16\\tשל\\tנשל\\tVB\\tVB\\tgen=M|num=S|per=2|tense=IMPERATIVE\\t8\\n15\\t16\\tשל\\tשל\\tPOS\\tPOS\\t_\\t8\\n16\\t17\\tה\\tה\\tDEF\\tDEF\\t_\\t9\\n16\\t18\\tה\\tה\\tREL\\tREL\\t_\\t9\\n17\\t19\\tכנסת\\tכנסת\\tNNP\\tNNP\\tgen=F|num=S\\t9\\n17\\t19\\tכנסת\\tכינס\\tVB\\tVB\\tgen=M|num=S|per=2|tense=PAST\\t9\\n17\\t19\\tכנסת\\tכינס\\tVB\\tVB\\tgen=F|num=S|per=2|tense=PAST\\t9\\n18\\t19\\tכנסת\\tכנסת\\tNNP\\tNNP\\tgen=F|num=S\\t9\\n18\\t19\\tכנסת\\tכינס\\tVB\\tVB\\tgen=M|num=S|per=2|tense=PAST\\t9\\n18\\t19\\tכנסת\\tכינס\\tVB\\tVB\\tgen=F|num=S|per=2|tense=PAST\\t9\\n19\\t20\\t.\\t_\\tyyDOT\\tyyDOT\\t_\\t10\\n\\n',\n",
       " 'md_lattice': '0\\t1\\tעשרות\\tעשר\\tCDT\\tCDT\\tgen=F|num=P\\t1\\n1\\t2\\tאנשים\\tאיש\\tNN\\tNN\\tgen=M|num=P\\t2\\n2\\t3\\tמגיעים\\tהגיע\\tBN\\tBN\\tgen=M|num=P|per=A\\t3\\n3\\t4\\tמ\\tמ\\tPREPOSITION\\tPREPOSITION\\t_\\t4\\n4\\t5\\tתאילנד\\tתאילנד\\tNNP\\tNNP\\tgen=F|num=S\\t4\\n5\\t6\\tל\\tל\\tPREPOSITION\\tPREPOSITION\\t_\\t5\\n6\\t7\\tישראל\\tישראל\\tNNP\\tNNP\\tgen=F|num=S\\t5\\n7\\t8\\t.\\t_\\tyyDOT\\tyyDOT\\t_\\t6\\n\\n0\\t1\\tתופעה\\tתופעה\\tNN\\tNN\\tgen=F|num=S\\t1\\n1\\t2\\tזו\\tזו\\tPRP\\tPRP\\tgen=F|num=S|per=3\\t2\\n2\\t3\\tהתבררה\\tהתברר\\tVB\\tVB\\tgen=F|num=S|per=3|tense=PAST\\t3\\n3\\t4\\tאתמול\\tאתמול\\tRB\\tRB\\t_\\t4\\n4\\t5\\tב\\tב\\tPREPOSITION\\tPREPOSITION\\t_\\t5\\n5\\t6\\tוועדת\\tועדה\\tNNT\\tNNT\\tgen=F|num=S\\t5\\n6\\t7\\tה\\tה\\tDEF\\tDEF\\t_\\t6\\n7\\t8\\tעבודה\\tעבודה\\tNN\\tNN\\tgen=F|num=S\\t6\\n8\\t9\\tו\\tו\\tCONJ\\tCONJ\\t_\\t7\\n9\\t10\\tה\\tה\\tDEF\\tDEF\\t_\\t7\\n10\\t11\\tרווחה\\tרווחה\\tNN\\tNN\\tgen=F|num=S\\t7\\n11\\t12\\tשל\\tשל\\tPOS\\tPOS\\t_\\t8\\n12\\t13\\tה\\tה\\tDEF\\tDEF\\t_\\t9\\n13\\t14\\tכנסת\\tכנסת\\tNNP\\tNNP\\tgen=F|num=S\\t9\\n14\\t15\\t.\\t_\\tyyDOT\\tyyDOT\\t_\\t10\\n\\n',\n",
       " 'morph_segmented_text': [['עשרות',\n",
       "   'אנשים',\n",
       "   'מגיעים',\n",
       "   'מ',\n",
       "   'תאילנד',\n",
       "   'ל',\n",
       "   'ישראל',\n",
       "   '.'],\n",
       "  ['תופעה',\n",
       "   'זו',\n",
       "   'התבררה',\n",
       "   'אתמול',\n",
       "   'ב',\n",
       "   'וועדת',\n",
       "   'ה',\n",
       "   'עבודה',\n",
       "   'ו',\n",
       "   'ה',\n",
       "   'רווחה',\n",
       "   'של',\n",
       "   'ה',\n",
       "   'כנסת',\n",
       "   '.']],\n",
       " 'morph_aligned_multi_predictions': [['O',\n",
       "   'O',\n",
       "   'O',\n",
       "   'O',\n",
       "   'S-GPE',\n",
       "   'O',\n",
       "   'S-GPE',\n",
       "   'O'],\n",
       "  ['O',\n",
       "   'O',\n",
       "   'O',\n",
       "   'O',\n",
       "   'O',\n",
       "   'B-ORG',\n",
       "   'I-ORG',\n",
       "   'I-ORG',\n",
       "   'I-ORG',\n",
       "   'I-ORG',\n",
       "   'E-ORG',\n",
       "   'O',\n",
       "   'B-ORG',\n",
       "   'E-ORG',\n",
       "   'O']],\n",
       " 'nemo_morph_predictions': [['O', 'O', 'O', 'O', 'S-GPE', 'O', 'S-GPE', 'O'],\n",
       "  ['O',\n",
       "   'O',\n",
       "   'O',\n",
       "   'O',\n",
       "   'O',\n",
       "   'B-ORG',\n",
       "   'I-ORG',\n",
       "   'I-ORG',\n",
       "   'I-ORG',\n",
       "   'I-ORG',\n",
       "   'E-ORG',\n",
       "   'O',\n",
       "   'B-ORG',\n",
       "   'E-ORG',\n",
       "   'O']]}"
      ]
     },
     "execution_count": 127,
     "metadata": {},
     "output_type": "execute_result"
    }
   ],
   "source": [
    "%%time\n",
    "payload = { 'sentences': texts[1],\n",
    "            #'multi_model_name': 'token-multi',\n",
    "            #'morph_model_name': 'morph',\n",
    "            #'tokenized': False,\n",
    "            # 'align_tokens': False,\n",
    "          }\n",
    "\n",
    "res = requests.get('http://localhost:8090/morph_hybrid', params=payload).json()\n",
    "res"
   ]
  },
  {
   "cell_type": "markdown",
   "metadata": {},
   "source": [
    "### morph_hybrid_align_tokens"
   ]
  },
  {
   "cell_type": "code",
   "execution_count": 128,
   "metadata": {},
   "outputs": [
    {
     "name": "stdout",
     "output_type": "stream",
     "text": [
      "CPU times: user 11.2 ms, sys: 0 ns, total: 11.2 ms\n",
      "Wall time: 358 ms\n"
     ]
    },
    {
     "data": {
      "text/plain": [
       "{'tokenized_text': [['עשרות', 'אנשים', 'מגיעים', 'מתאילנד', 'לישראל', '.'],\n",
       "  ['תופעה',\n",
       "   'זו',\n",
       "   'התבררה',\n",
       "   'אתמול',\n",
       "   'בוועדת',\n",
       "   'העבודה',\n",
       "   'והרווחה',\n",
       "   'של',\n",
       "   'הכנסת',\n",
       "   '.']],\n",
       " 'nemo_multi_predictions': [['O', 'O', 'O', 'O^S-GPE', 'O^S-GPE', 'O'],\n",
       "  ['O',\n",
       "   'O',\n",
       "   'O',\n",
       "   'O',\n",
       "   'O^B-ORG',\n",
       "   'I-ORG^I-ORG',\n",
       "   'I-ORG^I-ORG^E-ORG',\n",
       "   'O',\n",
       "   'B-ORG^E-ORG',\n",
       "   'O']],\n",
       " 'ma_lattice': '0\\t1\\tעשרות\\tעשר\\tCDT\\tCDT\\tgen=F|num=P\\t1\\n0\\t1\\tעשרות\\tעשר\\tCD\\tCD\\tgen=F|num=P\\t1\\n1\\t2\\tאנשים\\tהנשים\\tVB\\tVB\\tgen=F|gen=M|num=S|per=1|tense=FUTURE\\t2\\n1\\t2\\tאנשים\\tאיש\\tNN\\tNN\\tgen=M|num=P\\t2\\n2\\t3\\tמגיעים\\tהגיע\\tVB\\tVB\\tgen=M|num=P|per=A|tense=BEINONI\\t3\\n2\\t3\\tמגיעים\\tהגיע\\tBN\\tBN\\tgen=M|num=P|per=A\\t3\\n3\\t4\\tמ\\tמ\\tPREPOSITION\\tPREPOSITION\\t_\\t4\\n3\\t5\\tמתאילנד\\tמתאילנד\\tNNP\\tNNP\\tgen=M|num=S\\t4\\n3\\t5\\tמתאילנד\\tמתאילנד\\tNN\\tNN\\tgen=M|num=P|num=S\\t4\\n3\\t5\\tמתאילנד\\tמתאילנד\\tNN\\tNN\\tgen=M|num=S\\t4\\n3\\t5\\tמתאילנד\\tמתאילנד\\tNNP\\tNNP\\tgen=F|num=S\\t4\\n3\\t5\\tמתאילנד\\tמתאילנד\\tNNP\\tNNP\\tgen=F|gen=M|num=S\\t4\\n3\\t5\\tמתאילנד\\tמתאילנד\\tNNP\\tNNP\\t_\\t4\\n3\\t5\\tמתאילנד\\tמתאילנד\\tNN\\tNN\\tgen=M|num=P\\t4\\n3\\t5\\tמתאילנד\\tמתאילנד\\tNN\\tNN\\tgen=F|num=S\\t4\\n3\\t5\\tמתאילנד\\tמתאילנד\\tNN\\tNN\\tgen=F|num=P\\t4\\n4\\t5\\tתאילנד\\tתאילנד\\tNNP\\tNNP\\tgen=F|num=S\\t4\\n5\\t6\\tל\\tל\\tPREPOSITION\\tPREPOSITION\\t_\\t5\\n5\\t8\\tלישראל\\tלישראל\\tNNP\\tNNP\\tgen=M|num=S\\t5\\n5\\t8\\tלישראל\\tלישראל\\tNN\\tNN\\tgen=M|num=P|num=S\\t5\\n5\\t8\\tלישראל\\tלישראל\\tNN\\tNN\\tgen=M|num=S\\t5\\n5\\t8\\tלישראל\\tלישראל\\tNNP\\tNNP\\tgen=F|num=S\\t5\\n5\\t8\\tלישראל\\tלישראל\\tNNP\\tNNP\\tgen=F|gen=M|num=S\\t5\\n5\\t8\\tלישראל\\tלישראל\\tNNP\\tNNP\\t_\\t5\\n5\\t8\\tלישראל\\tלישראל\\tNN\\tNN\\tgen=M|num=P\\t5\\n5\\t8\\tלישראל\\tלישראל\\tNN\\tNN\\tgen=F|num=S\\t5\\n5\\t8\\tלישראל\\tלישראל\\tNN\\tNN\\tgen=F|num=P\\t5\\n6\\t7\\tה\\tה\\tDEF\\tDEF\\t_\\t5\\n6\\t8\\tישראל\\tישראל\\tNNP\\tNNP\\tgen=M|num=S\\t5\\n6\\t8\\tישראל\\tישראל\\tNNP\\tNNP\\tgen=F|num=S\\t5\\n7\\t8\\tישראל\\tישראל\\tNNP\\tNNP\\tgen=F|num=S\\t5\\n7\\t8\\tישראל\\tישראל\\tNNP\\tNNP\\tgen=M|num=S\\t5\\n8\\t9\\t.\\t_\\tyyDOT\\tyyDOT\\t_\\t6\\n\\n0\\t1\\tתופעה\\tתופעה\\tNN\\tNN\\tgen=F|num=S\\t1\\n1\\t2\\tזו\\tזו\\tPRP\\tPRP\\tgen=F|num=S|per=3\\t2\\n2\\t3\\tהתבררה\\tהתברר\\tVB\\tVB\\tgen=F|num=S|per=3|tense=PAST\\t3\\n3\\t4\\tאתמול\\tאתמול\\tRB\\tRB\\t_\\t4\\n4\\t5\\tב\\tב\\tPREPOSITION\\tPREPOSITION\\t_\\t5\\n4\\t7\\tבוועדת\\tבוועדת\\tNNP\\tNNP\\tgen=M|num=S\\t5\\n4\\t7\\tבוועדת\\tבוועדת\\tNN\\tNN\\tgen=M|num=P|num=S\\t5\\n4\\t7\\tבוועדת\\tבוועדת\\tNN\\tNN\\tgen=M|num=S\\t5\\n4\\t7\\tבוועדת\\tבוועדת\\tNNP\\tNNP\\tgen=F|num=S\\t5\\n4\\t7\\tבוועדת\\tבוועדת\\tNNP\\tNNP\\tgen=F|gen=M|num=S\\t5\\n4\\t7\\tבוועדת\\tבוועדת\\tNNP\\tNNP\\t_\\t5\\n4\\t7\\tבוועדת\\tבוועדת\\tNN\\tNN\\tgen=M|num=P\\t5\\n4\\t7\\tבוועדת\\tבוועדת\\tNN\\tNN\\tgen=F|num=S\\t5\\n4\\t7\\tבוועדת\\tבוועדת\\tNN\\tNN\\tgen=F|num=P\\t5\\n5\\t6\\tה\\tה\\tDEF\\tDEF\\t_\\t5\\n5\\t7\\tוועדת\\tועדה\\tNNT\\tNNT\\tgen=F|num=S\\t5\\n6\\t7\\tוועדת\\tועדה\\tNNT\\tNNT\\tgen=F|num=S\\t5\\n7\\t8\\tה\\tה\\tDEF\\tDEF\\t_\\t6\\n7\\t9\\tה\\tה\\tREL\\tREL\\t_\\t6\\n7\\t10\\tהעבודה\\tהעבודה\\tNNP\\tNNP\\tgen=F|num=S\\t6\\n7\\t10\\tהעבודה\\tהעבודה\\tNN\\tNN\\tgen=M|num=S\\t6\\n7\\t10\\tהעבודה\\tהעבודה\\tNN\\tNN\\tgen=M|num=P|num=S\\t6\\n7\\t10\\tהעבודה\\tהעבודה\\tNNP\\tNNP\\tgen=M|num=S\\t6\\n7\\t10\\tהעבודה\\tהעבודה\\tNNP\\tNNP\\t_\\t6\\n7\\t10\\tהעבודה\\tהעבודה\\tNNP\\tNNP\\tgen=F|gen=M|num=S\\t6\\n7\\t10\\tהעבודה\\tהעבודה\\tNN\\tNN\\tgen=F|num=P\\t6\\n7\\t10\\tהעבודה\\tהעבודה\\tNN\\tNN\\tgen=F|num=S\\t6\\n7\\t10\\tהעבודה\\tהעבודה\\tNN\\tNN\\tgen=M|num=P\\t6\\n8\\t10\\tעבודה\\tעבודה\\tNN\\tNN\\tgen=F|num=S\\t6\\n9\\t10\\tעבודה\\tעבודה\\tNN\\tNN\\tgen=F|num=S\\t6\\n10\\t11\\tו\\tו\\tCONJ\\tCONJ\\t_\\t7\\n10\\t15\\tוהרווחה\\tוהרווחה\\tNNP\\tNNP\\tgen=M|num=S\\t7\\n10\\t15\\tוהרווחה\\tוהרווחה\\tNN\\tNN\\tgen=M|num=P|num=S\\t7\\n10\\t15\\tוהרווחה\\tוהרווחה\\tNN\\tNN\\tgen=M|num=S\\t7\\n10\\t15\\tוהרווחה\\tוהרווחה\\tNNP\\tNNP\\tgen=F|num=S\\t7\\n10\\t15\\tוהרווחה\\tוהרווחה\\tNNP\\tNNP\\tgen=F|gen=M|num=S\\t7\\n10\\t15\\tוהרווחה\\tוהרווחה\\tNNP\\tNNP\\t_\\t7\\n10\\t15\\tוהרווחה\\tוהרווחה\\tNN\\tNN\\tgen=M|num=P\\t7\\n10\\t15\\tוהרווחה\\tוהרווחה\\tNN\\tNN\\tgen=F|num=S\\t7\\n10\\t15\\tוהרווחה\\tוהרווחה\\tNN\\tNN\\tgen=F|num=P\\t7\\n11\\t12\\tה\\tה\\tDEF\\tDEF\\t_\\t7\\n11\\t15\\tהרווחה\\tהרווחה\\tNN\\tNN\\tgen=F|num=S\\t7\\n12\\t13\\tרווח\\tרווח\\tBN\\tBN\\tgen=M|num=S|per=A\\t7\\n12\\t15\\tרווחה\\tרווחה\\tNNP\\tNNP\\tgen=M|num=S\\t7\\n12\\t15\\tרווחה\\tרווח\\tVB\\tVB\\tgen=F|num=S|per=3|tense=PAST\\t7\\n12\\t15\\tרווחה\\tרווחה\\tNN\\tNN\\tgen=F|num=S\\t7\\n12\\t15\\tרווחה\\tרווח\\tNN\\tNN\\tgen=M|num=S|suf_gen=F|suf_num=S|suf_per=3\\t7\\n13\\t14\\tאת\\tאת\\tPOS\\tPOS\\t_\\t7\\n14\\t15\\tהיא\\tהיא\\tS_PRN\\tS_PRN\\tgen=F|num=S|per=3\\t7\\n15\\t16\\tשל\\tנשל\\tVB\\tVB\\tgen=M|num=S|per=2|tense=IMPERATIVE\\t8\\n15\\t16\\tשל\\tשל\\tPOS\\tPOS\\t_\\t8\\n16\\t17\\tה\\tה\\tDEF\\tDEF\\t_\\t9\\n16\\t18\\tה\\tה\\tREL\\tREL\\t_\\t9\\n16\\t19\\tהכנסת\\tהכניס\\tVB\\tVB\\tgen=F|num=S|per=2|tense=PAST\\t9\\n16\\t19\\tהכנסת\\tהכנסה\\tNNT\\tNNT\\tgen=F|num=S\\t9\\n16\\t19\\tהכנסת\\tהכניס\\tVB\\tVB\\tgen=M|num=S|per=2|tense=PAST\\t9\\n17\\t19\\tכנסת\\tכנסת\\tNNP\\tNNP\\tgen=F|num=S\\t9\\n17\\t19\\tכנסת\\tכינס\\tVB\\tVB\\tgen=M|num=S|per=2|tense=PAST\\t9\\n17\\t19\\tכנסת\\tכינס\\tVB\\tVB\\tgen=F|num=S|per=2|tense=PAST\\t9\\n18\\t19\\tכנסת\\tכנסת\\tNNP\\tNNP\\tgen=F|num=S\\t9\\n18\\t19\\tכנסת\\tכינס\\tVB\\tVB\\tgen=M|num=S|per=2|tense=PAST\\t9\\n18\\t19\\tכנסת\\tכינס\\tVB\\tVB\\tgen=F|num=S|per=2|tense=PAST\\t9\\n19\\t20\\t.\\t_\\tyyDOT\\tyyDOT\\t_\\t10\\n\\n',\n",
       " 'pruned_lattice': '0\\t1\\tעשרות\\tעשר\\tCDT\\tCDT\\tgen=F|num=P\\t1\\n0\\t1\\tעשרות\\tעשר\\tCD\\tCD\\tgen=F|num=P\\t1\\n1\\t2\\tאנשים\\tהנשים\\tVB\\tVB\\tgen=F|gen=M|num=S|per=1|tense=FUTURE\\t2\\n1\\t2\\tאנשים\\tאיש\\tNN\\tNN\\tgen=M|num=P\\t2\\n2\\t3\\tמגיעים\\tהגיע\\tVB\\tVB\\tgen=M|num=P|per=A|tense=BEINONI\\t3\\n2\\t3\\tמגיעים\\tהגיע\\tBN\\tBN\\tgen=M|num=P|per=A\\t3\\n3\\t4\\tמ\\tמ\\tPREPOSITION\\tPREPOSITION\\t_\\t4\\n4\\t5\\tתאילנד\\tתאילנד\\tNNP\\tNNP\\tgen=F|num=S\\t4\\n5\\t6\\tל\\tל\\tPREPOSITION\\tPREPOSITION\\t_\\t5\\n6\\t8\\tישראל\\tישראל\\tNNP\\tNNP\\tgen=M|num=S\\t5\\n6\\t8\\tישראל\\tישראל\\tNNP\\tNNP\\tgen=F|num=S\\t5\\n8\\t9\\t.\\t_\\tyyDOT\\tyyDOT\\t_\\t6\\n\\n0\\t1\\tתופעה\\tתופעה\\tNN\\tNN\\tgen=F|num=S\\t1\\n1\\t2\\tזו\\tזו\\tPRP\\tPRP\\tgen=F|num=S|per=3\\t2\\n2\\t3\\tהתבררה\\tהתברר\\tVB\\tVB\\tgen=F|num=S|per=3|tense=PAST\\t3\\n3\\t4\\tאתמול\\tאתמול\\tRB\\tRB\\t_\\t4\\n4\\t5\\tב\\tב\\tPREPOSITION\\tPREPOSITION\\t_\\t5\\n5\\t7\\tוועדת\\tועדה\\tNNT\\tNNT\\tgen=F|num=S\\t5\\n7\\t8\\tה\\tה\\tDEF\\tDEF\\t_\\t6\\n7\\t9\\tה\\tה\\tREL\\tREL\\t_\\t6\\n8\\t10\\tעבודה\\tעבודה\\tNN\\tNN\\tgen=F|num=S\\t6\\n9\\t10\\tעבודה\\tעבודה\\tNN\\tNN\\tgen=F|num=S\\t6\\n10\\t11\\tו\\tו\\tCONJ\\tCONJ\\t_\\t7\\n11\\t12\\tה\\tה\\tDEF\\tDEF\\t_\\t7\\n12\\t15\\tרווחה\\tרווחה\\tNNP\\tNNP\\tgen=M|num=S\\t7\\n12\\t15\\tרווחה\\tרווח\\tVB\\tVB\\tgen=F|num=S|per=3|tense=PAST\\t7\\n12\\t15\\tרווחה\\tרווחה\\tNN\\tNN\\tgen=F|num=S\\t7\\n12\\t15\\tרווחה\\tרווח\\tNN\\tNN\\tgen=M|num=S|suf_gen=F|suf_num=S|suf_per=3\\t7\\n15\\t16\\tשל\\tנשל\\tVB\\tVB\\tgen=M|num=S|per=2|tense=IMPERATIVE\\t8\\n15\\t16\\tשל\\tשל\\tPOS\\tPOS\\t_\\t8\\n16\\t17\\tה\\tה\\tDEF\\tDEF\\t_\\t9\\n16\\t18\\tה\\tה\\tREL\\tREL\\t_\\t9\\n17\\t19\\tכנסת\\tכנסת\\tNNP\\tNNP\\tgen=F|num=S\\t9\\n17\\t19\\tכנסת\\tכינס\\tVB\\tVB\\tgen=M|num=S|per=2|tense=PAST\\t9\\n17\\t19\\tכנסת\\tכינס\\tVB\\tVB\\tgen=F|num=S|per=2|tense=PAST\\t9\\n18\\t19\\tכנסת\\tכנסת\\tNNP\\tNNP\\tgen=F|num=S\\t9\\n18\\t19\\tכנסת\\tכינס\\tVB\\tVB\\tgen=M|num=S|per=2|tense=PAST\\t9\\n18\\t19\\tכנסת\\tכינס\\tVB\\tVB\\tgen=F|num=S|per=2|tense=PAST\\t9\\n19\\t20\\t.\\t_\\tyyDOT\\tyyDOT\\t_\\t10\\n\\n',\n",
       " 'md_lattice': '0\\t1\\tעשרות\\tעשר\\tCDT\\tCDT\\tgen=F|num=P\\t1\\n1\\t2\\tאנשים\\tאיש\\tNN\\tNN\\tgen=M|num=P\\t2\\n2\\t3\\tמגיעים\\tהגיע\\tBN\\tBN\\tgen=M|num=P|per=A\\t3\\n3\\t4\\tמ\\tמ\\tPREPOSITION\\tPREPOSITION\\t_\\t4\\n4\\t5\\tתאילנד\\tתאילנד\\tNNP\\tNNP\\tgen=F|num=S\\t4\\n5\\t6\\tל\\tל\\tPREPOSITION\\tPREPOSITION\\t_\\t5\\n6\\t7\\tישראל\\tישראל\\tNNP\\tNNP\\tgen=F|num=S\\t5\\n7\\t8\\t.\\t_\\tyyDOT\\tyyDOT\\t_\\t6\\n\\n0\\t1\\tתופעה\\tתופעה\\tNN\\tNN\\tgen=F|num=S\\t1\\n1\\t2\\tזו\\tזו\\tPRP\\tPRP\\tgen=F|num=S|per=3\\t2\\n2\\t3\\tהתבררה\\tהתברר\\tVB\\tVB\\tgen=F|num=S|per=3|tense=PAST\\t3\\n3\\t4\\tאתמול\\tאתמול\\tRB\\tRB\\t_\\t4\\n4\\t5\\tב\\tב\\tPREPOSITION\\tPREPOSITION\\t_\\t5\\n5\\t6\\tוועדת\\tועדה\\tNNT\\tNNT\\tgen=F|num=S\\t5\\n6\\t7\\tה\\tה\\tDEF\\tDEF\\t_\\t6\\n7\\t8\\tעבודה\\tעבודה\\tNN\\tNN\\tgen=F|num=S\\t6\\n8\\t9\\tו\\tו\\tCONJ\\tCONJ\\t_\\t7\\n9\\t10\\tה\\tה\\tDEF\\tDEF\\t_\\t7\\n10\\t11\\tרווחה\\tרווחה\\tNN\\tNN\\tgen=F|num=S\\t7\\n11\\t12\\tשל\\tשל\\tPOS\\tPOS\\t_\\t8\\n12\\t13\\tה\\tה\\tDEF\\tDEF\\t_\\t9\\n13\\t14\\tכנסת\\tכנסת\\tNNP\\tNNP\\tgen=F|num=S\\t9\\n14\\t15\\t.\\t_\\tyyDOT\\tyyDOT\\t_\\t10\\n\\n',\n",
       " 'morph_segmented_text': [['עשרות',\n",
       "   'אנשים',\n",
       "   'מגיעים',\n",
       "   'מ',\n",
       "   'תאילנד',\n",
       "   'ל',\n",
       "   'ישראל',\n",
       "   '.'],\n",
       "  ['תופעה',\n",
       "   'זו',\n",
       "   'התבררה',\n",
       "   'אתמול',\n",
       "   'ב',\n",
       "   'וועדת',\n",
       "   'ה',\n",
       "   'עבודה',\n",
       "   'ו',\n",
       "   'ה',\n",
       "   'רווחה',\n",
       "   'של',\n",
       "   'ה',\n",
       "   'כנסת',\n",
       "   '.']],\n",
       " 'morph_aligned_multi_predictions': [['O',\n",
       "   'O',\n",
       "   'O',\n",
       "   'O',\n",
       "   'S-GPE',\n",
       "   'O',\n",
       "   'S-GPE',\n",
       "   'O'],\n",
       "  ['O',\n",
       "   'O',\n",
       "   'O',\n",
       "   'O',\n",
       "   'O',\n",
       "   'B-ORG',\n",
       "   'I-ORG',\n",
       "   'I-ORG',\n",
       "   'I-ORG',\n",
       "   'I-ORG',\n",
       "   'E-ORG',\n",
       "   'O',\n",
       "   'B-ORG',\n",
       "   'E-ORG',\n",
       "   'O']],\n",
       " 'nemo_morph_predictions': [['O', 'O', 'O', 'O', 'S-GPE', 'O', 'S-GPE', 'O'],\n",
       "  ['O',\n",
       "   'O',\n",
       "   'O',\n",
       "   'O',\n",
       "   'O',\n",
       "   'B-ORG',\n",
       "   'I-ORG',\n",
       "   'I-ORG',\n",
       "   'I-ORG',\n",
       "   'I-ORG',\n",
       "   'E-ORG',\n",
       "   'O',\n",
       "   'B-ORG',\n",
       "   'E-ORG',\n",
       "   'O']],\n",
       " 'token_aligned_morph_predictions': [['O', 'O', 'O', 'S-GPE', 'S-GPE', 'O'],\n",
       "  ['O', 'O', 'O', 'O', 'B-ORG', 'I-ORG', 'E-ORG', 'O', 'S-ORG', 'O']]}"
      ]
     },
     "execution_count": 128,
     "metadata": {},
     "output_type": "execute_result"
    }
   ],
   "source": [
    "%%time\n",
    "payload = { 'sentences': texts[1],\n",
    "            #'tokenized': False,\n",
    "            #'align_tokens': False,\n",
    "          }\n",
    "\n",
    "res = requests.get('http://localhost:8090/morph_hybrid_align_tokens', params=payload).json()\n",
    "res"
   ]
  },
  {
   "cell_type": "markdown",
   "metadata": {},
   "source": [
    "## Working with sequence labels\n",
    "`iobes` can be used to parse the predictions (`pip install iobes`)"
   ]
  },
  {
   "cell_type": "code",
   "execution_count": 129,
   "metadata": {},
   "outputs": [],
   "source": [
    "import iobes\n",
    "import pandas as pd"
   ]
  },
  {
   "cell_type": "code",
   "execution_count": 130,
   "metadata": {},
   "outputs": [],
   "source": [
    "payload = { 'sentences': '\\n'.join(texts),}\n",
    "\n",
    "res = requests.get('http://localhost:8090/morph_hybrid', params=payload).json()"
   ]
  },
  {
   "cell_type": "code",
   "execution_count": 131,
   "metadata": {},
   "outputs": [],
   "source": [
    "def get_ents(toks, labels):\n",
    "    ents = []\n",
    "    for i, (sl, sm) in enumerate(zip(labels, toks)):\n",
    "        spans = iobes.parse_spans_iobes(sl)\n",
    "        for span in spans:\n",
    "            text = ' '.join(sm[span.start:span.end])\n",
    "            ents.append({ 'sent_id': i, \n",
    "                          'text': text, \n",
    "                          'cat': span.type})\n",
    "    return pd.DataFrame(ents)"
   ]
  },
  {
   "cell_type": "code",
   "execution_count": 132,
   "metadata": {},
   "outputs": [
    {
     "data": {
      "text/html": [
       "<div>\n",
       "<style scoped>\n",
       "    .dataframe tbody tr th:only-of-type {\n",
       "        vertical-align: middle;\n",
       "    }\n",
       "\n",
       "    .dataframe tbody tr th {\n",
       "        vertical-align: top;\n",
       "    }\n",
       "\n",
       "    .dataframe thead th {\n",
       "        text-align: right;\n",
       "    }\n",
       "</style>\n",
       "<table border=\"1\" class=\"dataframe\">\n",
       "  <thead>\n",
       "    <tr style=\"text-align: right;\">\n",
       "      <th></th>\n",
       "      <th>sent_id</th>\n",
       "      <th>text</th>\n",
       "      <th>cat</th>\n",
       "    </tr>\n",
       "  </thead>\n",
       "  <tbody>\n",
       "    <tr>\n",
       "      <td>0</td>\n",
       "      <td>0</td>\n",
       "      <td>מירוסלב קלוזה</td>\n",
       "      <td>PER</td>\n",
       "    </tr>\n",
       "    <tr>\n",
       "      <td>1</td>\n",
       "      <td>1</td>\n",
       "      <td>תאילנד</td>\n",
       "      <td>GPE</td>\n",
       "    </tr>\n",
       "    <tr>\n",
       "      <td>2</td>\n",
       "      <td>1</td>\n",
       "      <td>ישראל</td>\n",
       "      <td>GPE</td>\n",
       "    </tr>\n",
       "    <tr>\n",
       "      <td>3</td>\n",
       "      <td>2</td>\n",
       "      <td>וועדת ה עבודה ו ה רווחה</td>\n",
       "      <td>ORG</td>\n",
       "    </tr>\n",
       "    <tr>\n",
       "      <td>4</td>\n",
       "      <td>2</td>\n",
       "      <td>ה כנסת</td>\n",
       "      <td>ORG</td>\n",
       "    </tr>\n",
       "  </tbody>\n",
       "</table>\n",
       "</div>"
      ],
      "text/plain": [
       "   sent_id                     text  cat\n",
       "0        0            מירוסלב קלוזה  PER\n",
       "1        1                   תאילנד  GPE\n",
       "2        1                    ישראל  GPE\n",
       "3        2  וועדת ה עבודה ו ה רווחה  ORG\n",
       "4        2                   ה כנסת  ORG"
      ]
     },
     "execution_count": 132,
     "metadata": {},
     "output_type": "execute_result"
    }
   ],
   "source": [
    "labels = res['nemo_morph_predictions']\n",
    "morphs = res['morph_segmented_text']\n",
    "ents_hyb = get_ents(morphs, labels)\n",
    "ents_hyb"
   ]
  },
  {
   "cell_type": "code",
   "execution_count": 133,
   "metadata": {},
   "outputs": [
    {
     "data": {
      "text/html": [
       "<div>\n",
       "<style scoped>\n",
       "    .dataframe tbody tr th:only-of-type {\n",
       "        vertical-align: middle;\n",
       "    }\n",
       "\n",
       "    .dataframe tbody tr th {\n",
       "        vertical-align: top;\n",
       "    }\n",
       "\n",
       "    .dataframe thead th {\n",
       "        text-align: right;\n",
       "    }\n",
       "</style>\n",
       "<table border=\"1\" class=\"dataframe\">\n",
       "  <thead>\n",
       "    <tr style=\"text-align: right;\">\n",
       "      <th></th>\n",
       "      <th>sent_id</th>\n",
       "      <th>text</th>\n",
       "      <th>cat</th>\n",
       "    </tr>\n",
       "  </thead>\n",
       "  <tbody>\n",
       "    <tr>\n",
       "      <td>0</td>\n",
       "      <td>0</td>\n",
       "      <td>מירוסלב קלוזה</td>\n",
       "      <td>PER</td>\n",
       "    </tr>\n",
       "    <tr>\n",
       "      <td>1</td>\n",
       "      <td>1</td>\n",
       "      <td>תאילנד</td>\n",
       "      <td>GPE</td>\n",
       "    </tr>\n",
       "    <tr>\n",
       "      <td>2</td>\n",
       "      <td>1</td>\n",
       "      <td>ישראל</td>\n",
       "      <td>GPE</td>\n",
       "    </tr>\n",
       "    <tr>\n",
       "      <td>3</td>\n",
       "      <td>2</td>\n",
       "      <td>וועדת ה עבודה ו ה רווחה</td>\n",
       "      <td>ORG</td>\n",
       "    </tr>\n",
       "    <tr>\n",
       "      <td>4</td>\n",
       "      <td>2</td>\n",
       "      <td>ה כנסת</td>\n",
       "      <td>ORG</td>\n",
       "    </tr>\n",
       "  </tbody>\n",
       "</table>\n",
       "</div>"
      ],
      "text/plain": [
       "   sent_id                     text  cat\n",
       "0        0            מירוסלב קלוזה  PER\n",
       "1        1                   תאילנד  GPE\n",
       "2        1                    ישראל  GPE\n",
       "3        2  וועדת ה עבודה ו ה רווחה  ORG\n",
       "4        2                   ה כנסת  ORG"
      ]
     },
     "execution_count": 133,
     "metadata": {},
     "output_type": "execute_result"
    }
   ],
   "source": [
    "labels = res['morph_aligned_multi_predictions']\n",
    "morphs = res['morph_segmented_text']\n",
    "ents_align = get_ents(morphs, labels)\n",
    "ents_align"
   ]
  },
  {
   "cell_type": "code",
   "execution_count": null,
   "metadata": {},
   "outputs": [],
   "source": []
  },
  {
   "cell_type": "code",
   "execution_count": null,
   "metadata": {},
   "outputs": [],
   "source": []
  },
  {
   "cell_type": "code",
   "execution_count": null,
   "metadata": {},
   "outputs": [],
   "source": []
  },
  {
   "cell_type": "code",
   "execution_count": null,
   "metadata": {},
   "outputs": [],
   "source": []
  }
 ],
 "metadata": {
  "kernelspec": {
   "display_name": "Python 3",
   "language": "python",
   "name": "python3"
  },
  "language_info": {
   "codemirror_mode": {
    "name": "ipython",
    "version": 3
   },
   "file_extension": ".py",
   "mimetype": "text/x-python",
   "name": "python",
   "nbconvert_exporter": "python",
   "pygments_lexer": "ipython3",
   "version": "3.7.4"
  }
 },
 "nbformat": 4,
 "nbformat_minor": 4
}
