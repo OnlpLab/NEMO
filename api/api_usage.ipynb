{
 "cells": [
  {
   "cell_type": "markdown",
   "metadata": {},
   "source": [
    "## Setup\n",
    "1. In `cd NEMO`\n",
    "1. Run YAP API server `./yap api` (if you specify a port, change it in `config.py`)\n",
    "1. `pip install -r requirements.txt`\n",
    "1. install bclm https://github.com/OnlpLab/bclm\n",
    "1. Run NEMO API server `uvicorn api_main:app --reload --port 8090`"
   ]
  },
  {
   "cell_type": "code",
   "execution_count": 59,
   "metadata": {},
   "outputs": [],
   "source": [
    "import requests"
   ]
  },
  {
   "cell_type": "code",
   "execution_count": 60,
   "metadata": {},
   "outputs": [
    {
     "data": {
      "text/plain": [
       "{'error': 'Please specify command'}"
      ]
     },
     "execution_count": 60,
     "metadata": {},
     "output_type": "execute_result"
    }
   ],
   "source": [
    "requests.get('http://localhost:8090/').json()"
   ]
  },
  {
   "cell_type": "code",
   "execution_count": 61,
   "metadata": {},
   "outputs": [],
   "source": [
    "texts = [\n",
    "    'גנן גידל דגן בגן\\nדגן גדול גדל בגן',\n",
    "    'אובאמה הכריז אתמול בעצרת האו\"ם שטראמפ ליצן.',\n",
    "    'מלך השערים במונדיאל 2006 היה מירוסלב קלוזה.'\n",
    "]"
   ]
  },
  {
   "cell_type": "markdown",
   "metadata": {},
   "source": [
    "## Run NER Model"
   ]
  },
  {
   "cell_type": "code",
   "execution_count": 62,
   "metadata": {},
   "outputs": [
    {
     "name": "stdout",
     "output_type": "stream",
     "text": [
      "CPU times: user 10.3 ms, sys: 0 ns, total: 10.3 ms\n",
      "Wall time: 99.7 ms\n"
     ]
    },
    {
     "data": {
      "text/plain": [
       "[('אובאמה', 'S-PER'),\n",
       " ('הכריז', 'O'),\n",
       " ('אתמול', 'O'),\n",
       " ('בעצרת', 'O^O'),\n",
       " ('האו\"ם', 'B-ORG^E-ORG'),\n",
       " ('שטראמפ', 'O^O'),\n",
       " ('ליצן', 'O'),\n",
       " ('.', 'O')]"
      ]
     },
     "execution_count": 62,
     "metadata": {},
     "output_type": "execute_result"
    }
   ],
   "source": [
    "%%time \n",
    "payload = { 'sentences': texts[1],\n",
    "            'model_name': 'token-multi', # / 'token-single' / 'morph' \n",
    "            #'tokenized': True,\n",
    "          }\n",
    "\n",
    "res = requests.get('http://localhost:8090/run_ner_model', params=payload).json()\n",
    "list(zip(res['tokenized_text'][0], res['nemo_predictions'][0]))"
   ]
  },
  {
   "cell_type": "markdown",
   "metadata": {},
   "source": [
    "### multi_to_single (get token-single predictions using a token-multi model)"
   ]
  },
  {
   "cell_type": "code",
   "execution_count": 63,
   "metadata": {},
   "outputs": [
    {
     "name": "stdout",
     "output_type": "stream",
     "text": [
      "CPU times: user 10.2 ms, sys: 0 ns, total: 10.2 ms\n",
      "Wall time: 81.6 ms\n"
     ]
    },
    {
     "data": {
      "text/plain": [
       "{'tokenized_text': [['אובאמה',\n",
       "   'הכריז',\n",
       "   'אתמול',\n",
       "   'בעצרת',\n",
       "   'האו\"ם',\n",
       "   'שטראמפ',\n",
       "   'ליצן',\n",
       "   '.']],\n",
       " 'nemo_multi_predictions': [['S-PER',\n",
       "   'O',\n",
       "   'O',\n",
       "   'O^O',\n",
       "   'B-ORG^E-ORG',\n",
       "   'O^O',\n",
       "   'O',\n",
       "   'O']],\n",
       " 'single_predictions': [['S-PER', 'O', 'O', 'O', 'S-ORG', 'O', 'O', 'O']]}"
      ]
     },
     "execution_count": 63,
     "metadata": {},
     "output_type": "execute_result"
    }
   ],
   "source": [
    "%%time\n",
    "payload = { 'sentences': texts[1],\n",
    "            #'model_name': 'token-multi',\n",
    "            #'tokenized': True,\n",
    "          }\n",
    "\n",
    "res = requests.get('http://localhost:8090/multi_to_single', params=payload).json()\n",
    "res"
   ]
  },
  {
   "cell_type": "markdown",
   "metadata": {},
   "source": [
    "## MD + NER"
   ]
  },
  {
   "cell_type": "markdown",
   "metadata": {},
   "source": [
    "### multi_align_hybrid"
   ]
  },
  {
   "cell_type": "code",
   "execution_count": 64,
   "metadata": {},
   "outputs": [
    {
     "name": "stdout",
     "output_type": "stream",
     "text": [
      "CPU times: user 9.13 ms, sys: 0 ns, total: 9.13 ms\n",
      "Wall time: 186 ms\n"
     ]
    },
    {
     "data": {
      "text/plain": [
       "{'tokenized_text': [['מלך',\n",
       "   'השערים',\n",
       "   'במונדיאל',\n",
       "   '2006',\n",
       "   'היה',\n",
       "   'מירוסלב',\n",
       "   'קלוזה',\n",
       "   '.']],\n",
       " 'nemo_multi_predictions': [['O',\n",
       "   'O^O',\n",
       "   'O^O',\n",
       "   'O',\n",
       "   'O',\n",
       "   'B-PER',\n",
       "   'E-PER',\n",
       "   'O']],\n",
       " 'ma_lattice': '0\\t1\\tמל\\tמל\\tBN\\tBN\\tgen=M|num=S|per=A\\t1\\n0\\t3\\tמ\\tמ\\tPREPOSITION\\tPREPOSITION\\t_\\t1\\n0\\t5\\tמלך\\tמלך\\tVB\\tVB\\tgen=M|num=S|per=3|tense=PAST\\t1\\n0\\t5\\tמלך\\tמלך\\tNN\\tNN\\tgen=M|num=S\\t1\\n0\\t5\\tמלך\\tמלך\\tNNT\\tNNT\\tgen=M|num=S\\t1\\n1\\t2\\tאת\\tאת\\tPOS\\tPOS\\t_\\t1\\n2\\t5\\tאת\\tאת\\tS_PRN\\tS_PRN\\tgen=F|num=S|per=2\\t1\\n2\\t5\\tאתה\\tאתה\\tS_PRN\\tS_PRN\\tgen=M|num=S|per=2\\t1\\n3\\t4\\tל\\tל\\tIN\\tIN\\t_\\t1\\n3\\t5\\tלך\\tהלך\\tVB\\tVB\\tgen=M|num=S|per=2|tense=IMPERATIVE\\t1\\n4\\t5\\tאת\\tאת\\tS_PRN\\tS_PRN\\tgen=F|num=S|per=2\\t1\\n4\\t5\\tאתה\\tאתה\\tS_PRN\\tS_PRN\\tgen=M|num=S|per=2\\t1\\n5\\t6\\tה\\tה\\tDEF\\tDEF\\t_\\t2\\n5\\t7\\tה\\tה\\tREL\\tREL\\t_\\t2\\n5\\t8\\tהשערים\\tהשערים\\tNNP\\tNNP\\tgen=F|num=S\\t2\\n5\\t8\\tהשערים\\tהשערים\\tNN\\tNN\\tgen=M|num=S\\t2\\n5\\t8\\tהשערים\\tהשערים\\tNN\\tNN\\tgen=M|num=P|num=S\\t2\\n5\\t8\\tהשערים\\tהשערים\\tNNP\\tNNP\\tgen=M|num=S\\t2\\n5\\t8\\tהשערים\\tהשערים\\tNNP\\tNNP\\t_\\t2\\n5\\t8\\tהשערים\\tהשערים\\tNNP\\tNNP\\tgen=F|gen=M|num=S\\t2\\n5\\t8\\tהשערים\\tהשערים\\tNN\\tNN\\tgen=F|num=P\\t2\\n5\\t8\\tהשערים\\tהשערים\\tNN\\tNN\\tgen=F|num=S\\t2\\n5\\t8\\tהשערים\\tהשערים\\tNN\\tNN\\tgen=M|num=P\\t2\\n6\\t8\\tשערים\\tשער\\tNN\\tNN\\tgen=M|num=P\\t2\\n7\\t8\\tשערים\\tשער\\tNN\\tNN\\tgen=M|num=P\\t2\\n8\\t9\\tב\\tב\\tPREPOSITION\\tPREPOSITION\\t_\\t3\\n8\\t11\\tבמונדיאל\\tבמונדיאל\\tNNP\\tNNP\\tgen=M|num=S\\t3\\n8\\t11\\tבמונדיאל\\tבמונדיאל\\tNN\\tNN\\tgen=M|num=P|num=S\\t3\\n8\\t11\\tבמונדיאל\\tבמונדיאל\\tNN\\tNN\\tgen=M|num=S\\t3\\n8\\t11\\tבמונדיאל\\tבמונדיאל\\tNNP\\tNNP\\tgen=F|num=S\\t3\\n8\\t11\\tבמונדיאל\\tבמונדיאל\\tNNP\\tNNP\\tgen=F|gen=M|num=S\\t3\\n8\\t11\\tבמונדיאל\\tבמונדיאל\\tNNP\\tNNP\\t_\\t3\\n8\\t11\\tבמונדיאל\\tבמונדיאל\\tNN\\tNN\\tgen=M|num=P\\t3\\n8\\t11\\tבמונדיאל\\tבמונדיאל\\tNN\\tNN\\tgen=F|num=S\\t3\\n8\\t11\\tבמונדיאל\\tבמונדיאל\\tNN\\tNN\\tgen=F|num=P\\t3\\n9\\t10\\tה\\tה\\tDEF\\tDEF\\t_\\t3\\n9\\t11\\tמונדיאל\\tמונדיאל\\tNN\\tNN\\tgen=M|num=S\\t3\\n9\\t11\\tמונדיאל\\tמונדיאל\\tNNT\\tNNT\\tgen=M|num=S\\t3\\n10\\t11\\tמונדיאל\\tמונדיאל\\tNNT\\tNNT\\tgen=M|num=S\\t3\\n10\\t11\\tמונדיאל\\tמונדיאל\\tNN\\tNN\\tgen=M|num=S\\t3\\n11\\t12\\t2006\\t_\\tCD\\tCD\\t_\\t4\\n12\\t13\\tהיה\\tהיה\\tCOP\\tCOP\\tgen=M|num=S|per=3\\t5\\n12\\t13\\tהיה\\tהיה\\tCOP\\tCOP\\tgen=M|num=S|per=2|tense=IMPERATIVE\\t5\\n12\\t13\\tהיה\\tהיה\\tEX\\tEX\\tgen=M|num=S|tense=PAST\\t5\\n12\\t13\\tהיה\\tהיה\\tCOP\\tCOP\\tgen=M|num=S|per=3|tense=PAST\\t5\\n12\\t13\\tהיה\\tהיה\\tCOP\\tCOP\\tgen=M|num=S|per=2\\t5\\n13\\t14\\tמ\\tמ\\tPREPOSITION\\tPREPOSITION\\t_\\t6\\n13\\t15\\tמירוסלב\\tמירוסלב\\tNNP\\tNNP\\tgen=M|num=S\\t6\\n13\\t15\\tמירוסלב\\tמירוסלב\\tNN\\tNN\\tgen=M|num=P|num=S\\t6\\n13\\t15\\tמירוסלב\\tמירוסלב\\tNN\\tNN\\tgen=M|num=S\\t6\\n13\\t15\\tמירוסלב\\tמירוסלב\\tNNP\\tNNP\\tgen=F|num=S\\t6\\n13\\t15\\tמירוסלב\\tמירוסלב\\tNNP\\tNNP\\tgen=F|gen=M|num=S\\t6\\n13\\t15\\tמירוסלב\\tמירוסלב\\tNNP\\tNNP\\t_\\t6\\n13\\t15\\tמירוסלב\\tמירוסלב\\tNN\\tNN\\tgen=M|num=P\\t6\\n13\\t15\\tמירוסלב\\tמירוסלב\\tNN\\tNN\\tgen=F|num=S\\t6\\n13\\t15\\tמירוסלב\\tמירוסלב\\tNN\\tNN\\tgen=F|num=P\\t6\\n14\\t15\\tירוסלב\\tירוסלב\\tNNP\\tNNP\\tgen=F|num=S\\t6\\n14\\t15\\tירוסלב\\tירוסלב\\tNN\\tNN\\tgen=M|num=S\\t6\\n14\\t15\\tירוסלב\\tירוסלב\\tNN\\tNN\\tgen=M|num=P|num=S\\t6\\n14\\t15\\tירוסלב\\tירוסלב\\tNNP\\tNNP\\tgen=M|num=S\\t6\\n14\\t15\\tירוסלב\\tירוסלב\\tNNP\\tNNP\\t_\\t6\\n14\\t15\\tירוסלב\\tירוסלב\\tNNP\\tNNP\\tgen=F|gen=M|num=S\\t6\\n14\\t15\\tירוסלב\\tירוסלב\\tNN\\tNN\\tgen=F|num=P\\t6\\n14\\t15\\tירוסלב\\tירוסלב\\tNN\\tNN\\tgen=F|num=S\\t6\\n14\\t15\\tירוסלב\\tירוסלב\\tNN\\tNN\\tgen=M|num=P\\t6\\n15\\t16\\tקלוזה\\tקלוזה\\tNNP\\tNNP\\tgen=F|num=S\\t7\\n15\\t16\\tקלוזה\\tקלוזה\\tNN\\tNN\\tgen=M|num=S\\t7\\n15\\t16\\tקלוזה\\tקלוזה\\tNN\\tNN\\tgen=M|num=P|num=S\\t7\\n15\\t16\\tקלוזה\\tקלוזה\\tNNP\\tNNP\\tgen=M|num=S\\t7\\n15\\t16\\tקלוזה\\tקלוזה\\tNNP\\tNNP\\t_\\t7\\n15\\t16\\tקלוזה\\tקלוזה\\tNNP\\tNNP\\tgen=F|gen=M|num=S\\t7\\n15\\t16\\tקלוזה\\tקלוזה\\tNN\\tNN\\tgen=F|num=P\\t7\\n15\\t16\\tקלוזה\\tקלוזה\\tNN\\tNN\\tgen=F|num=S\\t7\\n15\\t16\\tקלוזה\\tקלוזה\\tNN\\tNN\\tgen=M|num=P\\t7\\n16\\t17\\t.\\t_\\tyyDOT\\tyyDOT\\t_\\t8\\n\\n',\n",
       " 'pruned_lattice': '0\\t5\\tמלך\\tמלך\\tVB\\tVB\\tgen=M|num=S|per=3|tense=PAST\\t1\\n0\\t5\\tמלך\\tמלך\\tNN\\tNN\\tgen=M|num=S\\t1\\n0\\t5\\tמלך\\tמלך\\tNNT\\tNNT\\tgen=M|num=S\\t1\\n5\\t6\\tה\\tה\\tDEF\\tDEF\\t_\\t2\\n5\\t7\\tה\\tה\\tREL\\tREL\\t_\\t2\\n6\\t8\\tשערים\\tשער\\tNN\\tNN\\tgen=M|num=P\\t2\\n7\\t8\\tשערים\\tשער\\tNN\\tNN\\tgen=M|num=P\\t2\\n8\\t9\\tב\\tב\\tPREPOSITION\\tPREPOSITION\\t_\\t3\\n9\\t11\\tמונדיאל\\tמונדיאל\\tNN\\tNN\\tgen=M|num=S\\t3\\n9\\t11\\tמונדיאל\\tמונדיאל\\tNNT\\tNNT\\tgen=M|num=S\\t3\\n11\\t12\\t2006\\t_\\tCD\\tCD\\t_\\t4\\n12\\t13\\tהיה\\tהיה\\tCOP\\tCOP\\tgen=M|num=S|per=3\\t5\\n12\\t13\\tהיה\\tהיה\\tCOP\\tCOP\\tgen=M|num=S|per=2|tense=IMPERATIVE\\t5\\n12\\t13\\tהיה\\tהיה\\tEX\\tEX\\tgen=M|num=S|tense=PAST\\t5\\n12\\t13\\tהיה\\tהיה\\tCOP\\tCOP\\tgen=M|num=S|per=3|tense=PAST\\t5\\n12\\t13\\tהיה\\tהיה\\tCOP\\tCOP\\tgen=M|num=S|per=2\\t5\\n13\\t15\\tמירוסלב\\tמירוסלב\\tNNP\\tNNP\\tgen=M|num=S\\t6\\n13\\t15\\tמירוסלב\\tמירוסלב\\tNN\\tNN\\tgen=M|num=P|num=S\\t6\\n13\\t15\\tמירוסלב\\tמירוסלב\\tNN\\tNN\\tgen=M|num=S\\t6\\n13\\t15\\tמירוסלב\\tמירוסלב\\tNNP\\tNNP\\tgen=F|num=S\\t6\\n13\\t15\\tמירוסלב\\tמירוסלב\\tNNP\\tNNP\\tgen=F|gen=M|num=S\\t6\\n13\\t15\\tמירוסלב\\tמירוסלב\\tNNP\\tNNP\\t_\\t6\\n13\\t15\\tמירוסלב\\tמירוסלב\\tNN\\tNN\\tgen=M|num=P\\t6\\n13\\t15\\tמירוסלב\\tמירוסלב\\tNN\\tNN\\tgen=F|num=S\\t6\\n13\\t15\\tמירוסלב\\tמירוסלב\\tNN\\tNN\\tgen=F|num=P\\t6\\n15\\t16\\tקלוזה\\tקלוזה\\tNNP\\tNNP\\tgen=F|num=S\\t7\\n15\\t16\\tקלוזה\\tקלוזה\\tNN\\tNN\\tgen=M|num=S\\t7\\n15\\t16\\tקלוזה\\tקלוזה\\tNN\\tNN\\tgen=M|num=P|num=S\\t7\\n15\\t16\\tקלוזה\\tקלוזה\\tNNP\\tNNP\\tgen=M|num=S\\t7\\n15\\t16\\tקלוזה\\tקלוזה\\tNNP\\tNNP\\t_\\t7\\n15\\t16\\tקלוזה\\tקלוזה\\tNNP\\tNNP\\tgen=F|gen=M|num=S\\t7\\n15\\t16\\tקלוזה\\tקלוזה\\tNN\\tNN\\tgen=F|num=P\\t7\\n15\\t16\\tקלוזה\\tקלוזה\\tNN\\tNN\\tgen=F|num=S\\t7\\n15\\t16\\tקלוזה\\tקלוזה\\tNN\\tNN\\tgen=M|num=P\\t7\\n16\\t17\\t.\\t_\\tyyDOT\\tyyDOT\\t_\\t8\\n\\n',\n",
       " 'md_lattice': '0\\t1\\tמלך\\tמלך\\tNNT\\tNNT\\tgen=M|num=S\\t1\\n1\\t2\\tה\\tה\\tDEF\\tDEF\\t_\\t2\\n2\\t3\\tשערים\\tשער\\tNN\\tNN\\tgen=M|num=P\\t2\\n3\\t4\\tב\\tב\\tPREPOSITION\\tPREPOSITION\\t_\\t3\\n4\\t5\\tמונדיאל\\tמונדיאל\\tNNT\\tNNT\\tgen=M|num=S\\t3\\n5\\t6\\t2006\\t_\\tCD\\tCD\\t_\\t4\\n6\\t7\\tהיה\\tהיה\\tCOP\\tCOP\\tgen=M|num=S|per=3\\t5\\n7\\t8\\tמירוסלב\\tמירוסלב\\tNNP\\tNNP\\tgen=M|num=S\\t6\\n8\\t9\\tקלוזה\\tקלוזה\\tNNP\\tNNP\\tgen=F|gen=M|num=S\\t7\\n9\\t10\\t.\\t_\\tyyDOT\\tyyDOT\\t_\\t8\\n\\n',\n",
       " 'morph_segmented_text': [['מלך',\n",
       "   'ה',\n",
       "   'שערים',\n",
       "   'ב',\n",
       "   'מונדיאל',\n",
       "   '2006',\n",
       "   'היה',\n",
       "   'מירוסלב',\n",
       "   'קלוזה',\n",
       "   '.']],\n",
       " 'morph_aligned_multi_predictions': [['O',\n",
       "   'O',\n",
       "   'O',\n",
       "   'O',\n",
       "   'O',\n",
       "   'O',\n",
       "   'O',\n",
       "   'B-PER',\n",
       "   'E-PER',\n",
       "   'O']]}"
      ]
     },
     "execution_count": 64,
     "metadata": {},
     "output_type": "execute_result"
    }
   ],
   "source": [
    "%%time\n",
    "payload = { 'sentences': texts[2],\n",
    "            #'model_name': 'token-multi',\n",
    "            #'tokenized': True,\n",
    "          }\n",
    "\n",
    "res = requests.get('http://localhost:8090/multi_align_hybrid', params=payload).json()\n",
    "res"
   ]
  },
  {
   "cell_type": "code",
   "execution_count": 65,
   "metadata": {},
   "outputs": [
    {
     "name": "stdout",
     "output_type": "stream",
     "text": [
      "0\t1\tמלך\tמלך\tNNT\tNNT\tgen=M|num=S\t1\n",
      "1\t2\tה\tה\tDEF\tDEF\t_\t2\n",
      "2\t3\tשערים\tשער\tNN\tNN\tgen=M|num=P\t2\n",
      "3\t4\tב\tב\tPREPOSITION\tPREPOSITION\t_\t3\n",
      "4\t5\tמונדיאל\tמונדיאל\tNNT\tNNT\tgen=M|num=S\t3\n",
      "5\t6\t2006\t_\tCD\tCD\t_\t4\n",
      "6\t7\tהיה\tהיה\tCOP\tCOP\tgen=M|num=S|per=3\t5\n",
      "7\t8\tמירוסלב\tמירוסלב\tNNP\tNNP\tgen=M|num=S\t6\n",
      "8\t9\tקלוזה\tקלוזה\tNNP\tNNP\tgen=F|gen=M|num=S\t7\n",
      "9\t10\t.\t_\tyyDOT\tyyDOT\t_\t8\n",
      "\n",
      "\n"
     ]
    }
   ],
   "source": [
    "print(res['md_lattice'])"
   ]
  },
  {
   "cell_type": "markdown",
   "metadata": {},
   "source": [
    "### morph_yap"
   ]
  },
  {
   "cell_type": "code",
   "execution_count": 66,
   "metadata": {},
   "outputs": [
    {
     "name": "stdout",
     "output_type": "stream",
     "text": [
      "CPU times: user 8.41 ms, sys: 1.83 ms, total: 10.2 ms\n",
      "Wall time: 184 ms\n"
     ]
    },
    {
     "data": {
      "text/plain": [
       "{'tokenized_text': [['מלך',\n",
       "   'השערים',\n",
       "   'במונדיאל',\n",
       "   '2006',\n",
       "   'היה',\n",
       "   'מירוסלב',\n",
       "   'קלוזה',\n",
       "   '.']],\n",
       " 'ma_lattice': '0\\t1\\tמל\\tמל\\tBN\\tBN\\tgen=M|num=S|per=A\\t1\\n0\\t3\\tמ\\tמ\\tPREPOSITION\\tPREPOSITION\\t_\\t1\\n0\\t5\\tמלך\\tמלך\\tVB\\tVB\\tgen=M|num=S|per=3|tense=PAST\\t1\\n0\\t5\\tמלך\\tמלך\\tNN\\tNN\\tgen=M|num=S\\t1\\n0\\t5\\tמלך\\tמלך\\tNNT\\tNNT\\tgen=M|num=S\\t1\\n1\\t2\\tאת\\tאת\\tPOS\\tPOS\\t_\\t1\\n2\\t5\\tאת\\tאת\\tS_PRN\\tS_PRN\\tgen=F|num=S|per=2\\t1\\n2\\t5\\tאתה\\tאתה\\tS_PRN\\tS_PRN\\tgen=M|num=S|per=2\\t1\\n3\\t4\\tל\\tל\\tIN\\tIN\\t_\\t1\\n3\\t5\\tלך\\tהלך\\tVB\\tVB\\tgen=M|num=S|per=2|tense=IMPERATIVE\\t1\\n4\\t5\\tאת\\tאת\\tS_PRN\\tS_PRN\\tgen=F|num=S|per=2\\t1\\n4\\t5\\tאתה\\tאתה\\tS_PRN\\tS_PRN\\tgen=M|num=S|per=2\\t1\\n5\\t6\\tה\\tה\\tDEF\\tDEF\\t_\\t2\\n5\\t7\\tה\\tה\\tREL\\tREL\\t_\\t2\\n5\\t8\\tהשערים\\tהשערים\\tNNP\\tNNP\\tgen=F|num=S\\t2\\n5\\t8\\tהשערים\\tהשערים\\tNN\\tNN\\tgen=M|num=S\\t2\\n5\\t8\\tהשערים\\tהשערים\\tNN\\tNN\\tgen=M|num=P|num=S\\t2\\n5\\t8\\tהשערים\\tהשערים\\tNNP\\tNNP\\tgen=M|num=S\\t2\\n5\\t8\\tהשערים\\tהשערים\\tNNP\\tNNP\\t_\\t2\\n5\\t8\\tהשערים\\tהשערים\\tNNP\\tNNP\\tgen=F|gen=M|num=S\\t2\\n5\\t8\\tהשערים\\tהשערים\\tNN\\tNN\\tgen=F|num=P\\t2\\n5\\t8\\tהשערים\\tהשערים\\tNN\\tNN\\tgen=F|num=S\\t2\\n5\\t8\\tהשערים\\tהשערים\\tNN\\tNN\\tgen=M|num=P\\t2\\n6\\t8\\tשערים\\tשער\\tNN\\tNN\\tgen=M|num=P\\t2\\n7\\t8\\tשערים\\tשער\\tNN\\tNN\\tgen=M|num=P\\t2\\n8\\t9\\tב\\tב\\tPREPOSITION\\tPREPOSITION\\t_\\t3\\n8\\t11\\tבמונדיאל\\tבמונדיאל\\tNNP\\tNNP\\tgen=M|num=S\\t3\\n8\\t11\\tבמונדיאל\\tבמונדיאל\\tNN\\tNN\\tgen=M|num=P|num=S\\t3\\n8\\t11\\tבמונדיאל\\tבמונדיאל\\tNN\\tNN\\tgen=M|num=S\\t3\\n8\\t11\\tבמונדיאל\\tבמונדיאל\\tNNP\\tNNP\\tgen=F|num=S\\t3\\n8\\t11\\tבמונדיאל\\tבמונדיאל\\tNNP\\tNNP\\tgen=F|gen=M|num=S\\t3\\n8\\t11\\tבמונדיאל\\tבמונדיאל\\tNNP\\tNNP\\t_\\t3\\n8\\t11\\tבמונדיאל\\tבמונדיאל\\tNN\\tNN\\tgen=M|num=P\\t3\\n8\\t11\\tבמונדיאל\\tבמונדיאל\\tNN\\tNN\\tgen=F|num=S\\t3\\n8\\t11\\tבמונדיאל\\tבמונדיאל\\tNN\\tNN\\tgen=F|num=P\\t3\\n9\\t10\\tה\\tה\\tDEF\\tDEF\\t_\\t3\\n9\\t11\\tמונדיאל\\tמונדיאל\\tNN\\tNN\\tgen=M|num=S\\t3\\n9\\t11\\tמונדיאל\\tמונדיאל\\tNNT\\tNNT\\tgen=M|num=S\\t3\\n10\\t11\\tמונדיאל\\tמונדיאל\\tNNT\\tNNT\\tgen=M|num=S\\t3\\n10\\t11\\tמונדיאל\\tמונדיאל\\tNN\\tNN\\tgen=M|num=S\\t3\\n11\\t12\\t2006\\t_\\tCD\\tCD\\t_\\t4\\n12\\t13\\tהיה\\tהיה\\tCOP\\tCOP\\tgen=M|num=S|per=3\\t5\\n12\\t13\\tהיה\\tהיה\\tCOP\\tCOP\\tgen=M|num=S|per=2|tense=IMPERATIVE\\t5\\n12\\t13\\tהיה\\tהיה\\tEX\\tEX\\tgen=M|num=S|tense=PAST\\t5\\n12\\t13\\tהיה\\tהיה\\tCOP\\tCOP\\tgen=M|num=S|per=3|tense=PAST\\t5\\n12\\t13\\tהיה\\tהיה\\tCOP\\tCOP\\tgen=M|num=S|per=2\\t5\\n13\\t14\\tמ\\tמ\\tPREPOSITION\\tPREPOSITION\\t_\\t6\\n13\\t15\\tמירוסלב\\tמירוסלב\\tNNP\\tNNP\\tgen=M|num=S\\t6\\n13\\t15\\tמירוסלב\\tמירוסלב\\tNN\\tNN\\tgen=M|num=P|num=S\\t6\\n13\\t15\\tמירוסלב\\tמירוסלב\\tNN\\tNN\\tgen=M|num=S\\t6\\n13\\t15\\tמירוסלב\\tמירוסלב\\tNNP\\tNNP\\tgen=F|num=S\\t6\\n13\\t15\\tמירוסלב\\tמירוסלב\\tNNP\\tNNP\\tgen=F|gen=M|num=S\\t6\\n13\\t15\\tמירוסלב\\tמירוסלב\\tNNP\\tNNP\\t_\\t6\\n13\\t15\\tמירוסלב\\tמירוסלב\\tNN\\tNN\\tgen=M|num=P\\t6\\n13\\t15\\tמירוסלב\\tמירוסלב\\tNN\\tNN\\tgen=F|num=S\\t6\\n13\\t15\\tמירוסלב\\tמירוסלב\\tNN\\tNN\\tgen=F|num=P\\t6\\n14\\t15\\tירוסלב\\tירוסלב\\tNNP\\tNNP\\tgen=F|num=S\\t6\\n14\\t15\\tירוסלב\\tירוסלב\\tNN\\tNN\\tgen=M|num=S\\t6\\n14\\t15\\tירוסלב\\tירוסלב\\tNN\\tNN\\tgen=M|num=P|num=S\\t6\\n14\\t15\\tירוסלב\\tירוסלב\\tNNP\\tNNP\\tgen=M|num=S\\t6\\n14\\t15\\tירוסלב\\tירוסלב\\tNNP\\tNNP\\t_\\t6\\n14\\t15\\tירוסלב\\tירוסלב\\tNNP\\tNNP\\tgen=F|gen=M|num=S\\t6\\n14\\t15\\tירוסלב\\tירוסלב\\tNN\\tNN\\tgen=F|num=P\\t6\\n14\\t15\\tירוסלב\\tירוסלב\\tNN\\tNN\\tgen=F|num=S\\t6\\n14\\t15\\tירוסלב\\tירוסלב\\tNN\\tNN\\tgen=M|num=P\\t6\\n15\\t16\\tקלוזה\\tקלוזה\\tNNP\\tNNP\\tgen=F|num=S\\t7\\n15\\t16\\tקלוזה\\tקלוזה\\tNN\\tNN\\tgen=M|num=S\\t7\\n15\\t16\\tקלוזה\\tקלוזה\\tNN\\tNN\\tgen=M|num=P|num=S\\t7\\n15\\t16\\tקלוזה\\tקלוזה\\tNNP\\tNNP\\tgen=M|num=S\\t7\\n15\\t16\\tקלוזה\\tקלוזה\\tNNP\\tNNP\\t_\\t7\\n15\\t16\\tקלוזה\\tקלוזה\\tNNP\\tNNP\\tgen=F|gen=M|num=S\\t7\\n15\\t16\\tקלוזה\\tקלוזה\\tNN\\tNN\\tgen=F|num=P\\t7\\n15\\t16\\tקלוזה\\tקלוזה\\tNN\\tNN\\tgen=F|num=S\\t7\\n15\\t16\\tקלוזה\\tקלוזה\\tNN\\tNN\\tgen=M|num=P\\t7\\n16\\t17\\t.\\t_\\tyyDOT\\tyyDOT\\t_\\t8\\n\\n',\n",
       " 'md_lattice': '0\\t1\\tמלך\\tמלך\\tNNT\\tNNT\\tgen=M|num=S\\t1\\n1\\t2\\tה\\tה\\tDEF\\tDEF\\t_\\t2\\n2\\t3\\tשערים\\tשער\\tNN\\tNN\\tgen=M|num=P\\t2\\n3\\t4\\tב\\tב\\tPREPOSITION\\tPREPOSITION\\t_\\t3\\n4\\t5\\tמונדיאל\\tמונדיאל\\tNNT\\tNNT\\tgen=M|num=S\\t3\\n5\\t6\\t2006\\t_\\tCD\\tCD\\t_\\t4\\n6\\t7\\tהיה\\tהיה\\tCOP\\tCOP\\tgen=M|num=S|per=3\\t5\\n7\\t8\\tמ\\tמ\\tPREPOSITION\\tPREPOSITION\\t_\\t6\\n8\\t9\\tירוסלב\\tירוסלב\\tNNP\\tNNP\\t_\\t6\\n9\\t10\\tקלוזה\\tקלוזה\\tNNP\\tNNP\\tgen=F|gen=M|num=S\\t7\\n10\\t11\\t.\\t_\\tyyDOT\\tyyDOT\\t_\\t8\\n\\n',\n",
       " 'dep_tree': '1\\tמלך\\tמלך\\tNNT\\tNNT\\tgen=M|num=S\\t7\\tsubj\\t_\\t_\\n2\\tה\\tה\\tDEF\\tDEF\\t\\t3\\tdef\\t_\\t_\\n3\\tשערים\\tשער\\tNN\\tNN\\tgen=M|num=P\\t1\\tgobj\\t_\\t_\\n4\\tב\\tב\\tPREPOSITION\\tPREPOSITION\\t\\t1\\tprepmod\\t_\\t_\\n5\\tמונדיאל\\tמונדיאל\\tNNT\\tNNT\\tgen=M|num=S\\t4\\tpobj\\t_\\t_\\n6\\t2006\\t\\tCD\\tCD\\t\\t5\\tgobj\\t_\\t_\\n7\\tהיה\\tהיה\\tCOP\\tCOP\\tgen=M|num=S|per=3\\t0\\tROOT\\t_\\t_\\n8\\tמ\\tמ\\tPREPOSITION\\tPREPOSITION\\t\\t7\\tprd\\t_\\t_\\n9\\tירוסלב\\tירוסלב\\tNNP\\tNNP\\t\\t8\\tpobj\\t_\\t_\\n10\\tקלוזה\\tקלוזה\\tNNP\\tNNP\\tgen=F|gen=M|num=S\\t9\\tnn\\t_\\t_\\n11\\t.\\t\\tyyDOT\\tyyDOT\\t\\t7\\tpunct\\t_\\t_\\n\\n',\n",
       " 'morph_segmented_text': [['מלך',\n",
       "   'ה',\n",
       "   'שערים',\n",
       "   'ב',\n",
       "   'מונדיאל',\n",
       "   '2006',\n",
       "   'היה',\n",
       "   'מ',\n",
       "   'ירוסלב',\n",
       "   'קלוזה',\n",
       "   '.']],\n",
       " 'nemo_morph_predictions': [['O',\n",
       "   'O',\n",
       "   'O',\n",
       "   'O',\n",
       "   'O',\n",
       "   'O',\n",
       "   'O',\n",
       "   'O',\n",
       "   'B-PER',\n",
       "   'E-PER',\n",
       "   'O']]}"
      ]
     },
     "execution_count": 66,
     "metadata": {},
     "output_type": "execute_result"
    }
   ],
   "source": [
    "%%time\n",
    "payload = { 'sentences': texts[2],\n",
    "            #'model_name': 'morph',\n",
    "            #'tokenized': True,\n",
    "          }\n",
    "\n",
    "res = requests.get('http://localhost:8090/morph_yap', params=payload).json()\n",
    "res"
   ]
  },
  {
   "cell_type": "markdown",
   "metadata": {},
   "source": [
    "### morph_hybrid\n",
    "The following models got the best results in our experiments.\n"
   ]
  },
  {
   "cell_type": "code",
   "execution_count": 67,
   "metadata": {},
   "outputs": [
    {
     "name": "stdout",
     "output_type": "stream",
     "text": [
      "CPU times: user 11.6 ms, sys: 0 ns, total: 11.6 ms\n",
      "Wall time: 201 ms\n"
     ]
    },
    {
     "data": {
      "text/plain": [
       "{'tokenized_text': [['מלך',\n",
       "   'השערים',\n",
       "   'במונדיאל',\n",
       "   '2006',\n",
       "   'היה',\n",
       "   'מירוסלב',\n",
       "   'קלוזה',\n",
       "   '.']],\n",
       " 'nemo_multi_predictions': [['O',\n",
       "   'O^O',\n",
       "   'O^O',\n",
       "   'O',\n",
       "   'O',\n",
       "   'B-PER',\n",
       "   'E-PER',\n",
       "   'O']],\n",
       " 'ma_lattice': '0\\t1\\tמל\\tמל\\tBN\\tBN\\tgen=M|num=S|per=A\\t1\\n0\\t3\\tמ\\tמ\\tPREPOSITION\\tPREPOSITION\\t_\\t1\\n0\\t5\\tמלך\\tמלך\\tVB\\tVB\\tgen=M|num=S|per=3|tense=PAST\\t1\\n0\\t5\\tמלך\\tמלך\\tNN\\tNN\\tgen=M|num=S\\t1\\n0\\t5\\tמלך\\tמלך\\tNNT\\tNNT\\tgen=M|num=S\\t1\\n1\\t2\\tאת\\tאת\\tPOS\\tPOS\\t_\\t1\\n2\\t5\\tאת\\tאת\\tS_PRN\\tS_PRN\\tgen=F|num=S|per=2\\t1\\n2\\t5\\tאתה\\tאתה\\tS_PRN\\tS_PRN\\tgen=M|num=S|per=2\\t1\\n3\\t4\\tל\\tל\\tIN\\tIN\\t_\\t1\\n3\\t5\\tלך\\tהלך\\tVB\\tVB\\tgen=M|num=S|per=2|tense=IMPERATIVE\\t1\\n4\\t5\\tאת\\tאת\\tS_PRN\\tS_PRN\\tgen=F|num=S|per=2\\t1\\n4\\t5\\tאתה\\tאתה\\tS_PRN\\tS_PRN\\tgen=M|num=S|per=2\\t1\\n5\\t6\\tה\\tה\\tDEF\\tDEF\\t_\\t2\\n5\\t7\\tה\\tה\\tREL\\tREL\\t_\\t2\\n5\\t8\\tהשערים\\tהשערים\\tNNP\\tNNP\\tgen=F|num=S\\t2\\n5\\t8\\tהשערים\\tהשערים\\tNN\\tNN\\tgen=M|num=S\\t2\\n5\\t8\\tהשערים\\tהשערים\\tNN\\tNN\\tgen=M|num=P|num=S\\t2\\n5\\t8\\tהשערים\\tהשערים\\tNNP\\tNNP\\tgen=M|num=S\\t2\\n5\\t8\\tהשערים\\tהשערים\\tNNP\\tNNP\\t_\\t2\\n5\\t8\\tהשערים\\tהשערים\\tNNP\\tNNP\\tgen=F|gen=M|num=S\\t2\\n5\\t8\\tהשערים\\tהשערים\\tNN\\tNN\\tgen=F|num=P\\t2\\n5\\t8\\tהשערים\\tהשערים\\tNN\\tNN\\tgen=F|num=S\\t2\\n5\\t8\\tהשערים\\tהשערים\\tNN\\tNN\\tgen=M|num=P\\t2\\n6\\t8\\tשערים\\tשער\\tNN\\tNN\\tgen=M|num=P\\t2\\n7\\t8\\tשערים\\tשער\\tNN\\tNN\\tgen=M|num=P\\t2\\n8\\t9\\tב\\tב\\tPREPOSITION\\tPREPOSITION\\t_\\t3\\n8\\t11\\tבמונדיאל\\tבמונדיאל\\tNNP\\tNNP\\tgen=M|num=S\\t3\\n8\\t11\\tבמונדיאל\\tבמונדיאל\\tNN\\tNN\\tgen=M|num=P|num=S\\t3\\n8\\t11\\tבמונדיאל\\tבמונדיאל\\tNN\\tNN\\tgen=M|num=S\\t3\\n8\\t11\\tבמונדיאל\\tבמונדיאל\\tNNP\\tNNP\\tgen=F|num=S\\t3\\n8\\t11\\tבמונדיאל\\tבמונדיאל\\tNNP\\tNNP\\tgen=F|gen=M|num=S\\t3\\n8\\t11\\tבמונדיאל\\tבמונדיאל\\tNNP\\tNNP\\t_\\t3\\n8\\t11\\tבמונדיאל\\tבמונדיאל\\tNN\\tNN\\tgen=M|num=P\\t3\\n8\\t11\\tבמונדיאל\\tבמונדיאל\\tNN\\tNN\\tgen=F|num=S\\t3\\n8\\t11\\tבמונדיאל\\tבמונדיאל\\tNN\\tNN\\tgen=F|num=P\\t3\\n9\\t10\\tה\\tה\\tDEF\\tDEF\\t_\\t3\\n9\\t11\\tמונדיאל\\tמונדיאל\\tNN\\tNN\\tgen=M|num=S\\t3\\n9\\t11\\tמונדיאל\\tמונדיאל\\tNNT\\tNNT\\tgen=M|num=S\\t3\\n10\\t11\\tמונדיאל\\tמונדיאל\\tNNT\\tNNT\\tgen=M|num=S\\t3\\n10\\t11\\tמונדיאל\\tמונדיאל\\tNN\\tNN\\tgen=M|num=S\\t3\\n11\\t12\\t2006\\t_\\tCD\\tCD\\t_\\t4\\n12\\t13\\tהיה\\tהיה\\tCOP\\tCOP\\tgen=M|num=S|per=3\\t5\\n12\\t13\\tהיה\\tהיה\\tCOP\\tCOP\\tgen=M|num=S|per=2|tense=IMPERATIVE\\t5\\n12\\t13\\tהיה\\tהיה\\tEX\\tEX\\tgen=M|num=S|tense=PAST\\t5\\n12\\t13\\tהיה\\tהיה\\tCOP\\tCOP\\tgen=M|num=S|per=3|tense=PAST\\t5\\n12\\t13\\tהיה\\tהיה\\tCOP\\tCOP\\tgen=M|num=S|per=2\\t5\\n13\\t14\\tמ\\tמ\\tPREPOSITION\\tPREPOSITION\\t_\\t6\\n13\\t15\\tמירוסלב\\tמירוסלב\\tNNP\\tNNP\\tgen=M|num=S\\t6\\n13\\t15\\tמירוסלב\\tמירוסלב\\tNN\\tNN\\tgen=M|num=P|num=S\\t6\\n13\\t15\\tמירוסלב\\tמירוסלב\\tNN\\tNN\\tgen=M|num=S\\t6\\n13\\t15\\tמירוסלב\\tמירוסלב\\tNNP\\tNNP\\tgen=F|num=S\\t6\\n13\\t15\\tמירוסלב\\tמירוסלב\\tNNP\\tNNP\\tgen=F|gen=M|num=S\\t6\\n13\\t15\\tמירוסלב\\tמירוסלב\\tNNP\\tNNP\\t_\\t6\\n13\\t15\\tמירוסלב\\tמירוסלב\\tNN\\tNN\\tgen=M|num=P\\t6\\n13\\t15\\tמירוסלב\\tמירוסלב\\tNN\\tNN\\tgen=F|num=S\\t6\\n13\\t15\\tמירוסלב\\tמירוסלב\\tNN\\tNN\\tgen=F|num=P\\t6\\n14\\t15\\tירוסלב\\tירוסלב\\tNNP\\tNNP\\tgen=F|num=S\\t6\\n14\\t15\\tירוסלב\\tירוסלב\\tNN\\tNN\\tgen=M|num=S\\t6\\n14\\t15\\tירוסלב\\tירוסלב\\tNN\\tNN\\tgen=M|num=P|num=S\\t6\\n14\\t15\\tירוסלב\\tירוסלב\\tNNP\\tNNP\\tgen=M|num=S\\t6\\n14\\t15\\tירוסלב\\tירוסלב\\tNNP\\tNNP\\t_\\t6\\n14\\t15\\tירוסלב\\tירוסלב\\tNNP\\tNNP\\tgen=F|gen=M|num=S\\t6\\n14\\t15\\tירוסלב\\tירוסלב\\tNN\\tNN\\tgen=F|num=P\\t6\\n14\\t15\\tירוסלב\\tירוסלב\\tNN\\tNN\\tgen=F|num=S\\t6\\n14\\t15\\tירוסלב\\tירוסלב\\tNN\\tNN\\tgen=M|num=P\\t6\\n15\\t16\\tקלוזה\\tקלוזה\\tNNP\\tNNP\\tgen=F|num=S\\t7\\n15\\t16\\tקלוזה\\tקלוזה\\tNN\\tNN\\tgen=M|num=S\\t7\\n15\\t16\\tקלוזה\\tקלוזה\\tNN\\tNN\\tgen=M|num=P|num=S\\t7\\n15\\t16\\tקלוזה\\tקלוזה\\tNNP\\tNNP\\tgen=M|num=S\\t7\\n15\\t16\\tקלוזה\\tקלוזה\\tNNP\\tNNP\\t_\\t7\\n15\\t16\\tקלוזה\\tקלוזה\\tNNP\\tNNP\\tgen=F|gen=M|num=S\\t7\\n15\\t16\\tקלוזה\\tקלוזה\\tNN\\tNN\\tgen=F|num=P\\t7\\n15\\t16\\tקלוזה\\tקלוזה\\tNN\\tNN\\tgen=F|num=S\\t7\\n15\\t16\\tקלוזה\\tקלוזה\\tNN\\tNN\\tgen=M|num=P\\t7\\n16\\t17\\t.\\t_\\tyyDOT\\tyyDOT\\t_\\t8\\n\\n',\n",
       " 'pruned_lattice': '0\\t5\\tמלך\\tמלך\\tVB\\tVB\\tgen=M|num=S|per=3|tense=PAST\\t1\\n0\\t5\\tמלך\\tמלך\\tNN\\tNN\\tgen=M|num=S\\t1\\n0\\t5\\tמלך\\tמלך\\tNNT\\tNNT\\tgen=M|num=S\\t1\\n5\\t6\\tה\\tה\\tDEF\\tDEF\\t_\\t2\\n5\\t7\\tה\\tה\\tREL\\tREL\\t_\\t2\\n6\\t8\\tשערים\\tשער\\tNN\\tNN\\tgen=M|num=P\\t2\\n7\\t8\\tשערים\\tשער\\tNN\\tNN\\tgen=M|num=P\\t2\\n8\\t9\\tב\\tב\\tPREPOSITION\\tPREPOSITION\\t_\\t3\\n9\\t11\\tמונדיאל\\tמונדיאל\\tNN\\tNN\\tgen=M|num=S\\t3\\n9\\t11\\tמונדיאל\\tמונדיאל\\tNNT\\tNNT\\tgen=M|num=S\\t3\\n11\\t12\\t2006\\t_\\tCD\\tCD\\t_\\t4\\n12\\t13\\tהיה\\tהיה\\tCOP\\tCOP\\tgen=M|num=S|per=3\\t5\\n12\\t13\\tהיה\\tהיה\\tCOP\\tCOP\\tgen=M|num=S|per=2|tense=IMPERATIVE\\t5\\n12\\t13\\tהיה\\tהיה\\tEX\\tEX\\tgen=M|num=S|tense=PAST\\t5\\n12\\t13\\tהיה\\tהיה\\tCOP\\tCOP\\tgen=M|num=S|per=3|tense=PAST\\t5\\n12\\t13\\tהיה\\tהיה\\tCOP\\tCOP\\tgen=M|num=S|per=2\\t5\\n13\\t15\\tמירוסלב\\tמירוסלב\\tNNP\\tNNP\\tgen=M|num=S\\t6\\n13\\t15\\tמירוסלב\\tמירוסלב\\tNN\\tNN\\tgen=M|num=P|num=S\\t6\\n13\\t15\\tמירוסלב\\tמירוסלב\\tNN\\tNN\\tgen=M|num=S\\t6\\n13\\t15\\tמירוסלב\\tמירוסלב\\tNNP\\tNNP\\tgen=F|num=S\\t6\\n13\\t15\\tמירוסלב\\tמירוסלב\\tNNP\\tNNP\\tgen=F|gen=M|num=S\\t6\\n13\\t15\\tמירוסלב\\tמירוסלב\\tNNP\\tNNP\\t_\\t6\\n13\\t15\\tמירוסלב\\tמירוסלב\\tNN\\tNN\\tgen=M|num=P\\t6\\n13\\t15\\tמירוסלב\\tמירוסלב\\tNN\\tNN\\tgen=F|num=S\\t6\\n13\\t15\\tמירוסלב\\tמירוסלב\\tNN\\tNN\\tgen=F|num=P\\t6\\n15\\t16\\tקלוזה\\tקלוזה\\tNNP\\tNNP\\tgen=F|num=S\\t7\\n15\\t16\\tקלוזה\\tקלוזה\\tNN\\tNN\\tgen=M|num=S\\t7\\n15\\t16\\tקלוזה\\tקלוזה\\tNN\\tNN\\tgen=M|num=P|num=S\\t7\\n15\\t16\\tקלוזה\\tקלוזה\\tNNP\\tNNP\\tgen=M|num=S\\t7\\n15\\t16\\tקלוזה\\tקלוזה\\tNNP\\tNNP\\t_\\t7\\n15\\t16\\tקלוזה\\tקלוזה\\tNNP\\tNNP\\tgen=F|gen=M|num=S\\t7\\n15\\t16\\tקלוזה\\tקלוזה\\tNN\\tNN\\tgen=F|num=P\\t7\\n15\\t16\\tקלוזה\\tקלוזה\\tNN\\tNN\\tgen=F|num=S\\t7\\n15\\t16\\tקלוזה\\tקלוזה\\tNN\\tNN\\tgen=M|num=P\\t7\\n16\\t17\\t.\\t_\\tyyDOT\\tyyDOT\\t_\\t8\\n\\n',\n",
       " 'md_lattice': '0\\t1\\tמלך\\tמלך\\tNNT\\tNNT\\tgen=M|num=S\\t1\\n1\\t2\\tה\\tה\\tDEF\\tDEF\\t_\\t2\\n2\\t3\\tשערים\\tשער\\tNN\\tNN\\tgen=M|num=P\\t2\\n3\\t4\\tב\\tב\\tPREPOSITION\\tPREPOSITION\\t_\\t3\\n4\\t5\\tמונדיאל\\tמונדיאל\\tNNT\\tNNT\\tgen=M|num=S\\t3\\n5\\t6\\t2006\\t_\\tCD\\tCD\\t_\\t4\\n6\\t7\\tהיה\\tהיה\\tCOP\\tCOP\\tgen=M|num=S|per=3\\t5\\n7\\t8\\tמירוסלב\\tמירוסלב\\tNNP\\tNNP\\tgen=M|num=S\\t6\\n8\\t9\\tקלוזה\\tקלוזה\\tNNP\\tNNP\\tgen=F|gen=M|num=S\\t7\\n9\\t10\\t.\\t_\\tyyDOT\\tyyDOT\\t_\\t8\\n\\n',\n",
       " 'morph_segmented_text': [['מלך',\n",
       "   'ה',\n",
       "   'שערים',\n",
       "   'ב',\n",
       "   'מונדיאל',\n",
       "   '2006',\n",
       "   'היה',\n",
       "   'מירוסלב',\n",
       "   'קלוזה',\n",
       "   '.']],\n",
       " 'morph_aligned_multi_predictions': [['O',\n",
       "   'O',\n",
       "   'O',\n",
       "   'O',\n",
       "   'O',\n",
       "   'O',\n",
       "   'O',\n",
       "   'B-PER',\n",
       "   'E-PER',\n",
       "   'O']],\n",
       " 'nemo_morph_predictions': [['O',\n",
       "   'O',\n",
       "   'O',\n",
       "   'O',\n",
       "   'O',\n",
       "   'O',\n",
       "   'O',\n",
       "   'B-PER',\n",
       "   'E-PER',\n",
       "   'O']]}"
      ]
     },
     "execution_count": 67,
     "metadata": {},
     "output_type": "execute_result"
    }
   ],
   "source": [
    "%%time\n",
    "payload = { 'sentences': texts[2],\n",
    "            #'multi_model_name': 'token-multi',\n",
    "            #'morph_model_name': 'morph',\n",
    "            #'tokenized': False,\n",
    "            # 'align_tokens': False,\n",
    "          }\n",
    "\n",
    "res = requests.get('http://localhost:8090/morph_hybrid', params=payload).json()\n",
    "res"
   ]
  },
  {
   "cell_type": "markdown",
   "metadata": {},
   "source": [
    "### morph_hybrid_align_tokens"
   ]
  },
  {
   "cell_type": "code",
   "execution_count": 68,
   "metadata": {},
   "outputs": [
    {
     "name": "stdout",
     "output_type": "stream",
     "text": [
      "CPU times: user 10.3 ms, sys: 0 ns, total: 10.3 ms\n",
      "Wall time: 232 ms\n"
     ]
    },
    {
     "data": {
      "text/plain": [
       "{'tokenized_text': [['מלך',\n",
       "   'השערים',\n",
       "   'במונדיאל',\n",
       "   '2006',\n",
       "   'היה',\n",
       "   'מירוסלב',\n",
       "   'קלוזה',\n",
       "   '.']],\n",
       " 'nemo_multi_predictions': [['O',\n",
       "   'O^O',\n",
       "   'O^O',\n",
       "   'O',\n",
       "   'O',\n",
       "   'B-PER',\n",
       "   'E-PER',\n",
       "   'O']],\n",
       " 'ma_lattice': '0\\t1\\tמל\\tמל\\tBN\\tBN\\tgen=M|num=S|per=A\\t1\\n0\\t3\\tמ\\tמ\\tPREPOSITION\\tPREPOSITION\\t_\\t1\\n0\\t5\\tמלך\\tמלך\\tVB\\tVB\\tgen=M|num=S|per=3|tense=PAST\\t1\\n0\\t5\\tמלך\\tמלך\\tNN\\tNN\\tgen=M|num=S\\t1\\n0\\t5\\tמלך\\tמלך\\tNNT\\tNNT\\tgen=M|num=S\\t1\\n1\\t2\\tאת\\tאת\\tPOS\\tPOS\\t_\\t1\\n2\\t5\\tאת\\tאת\\tS_PRN\\tS_PRN\\tgen=F|num=S|per=2\\t1\\n2\\t5\\tאתה\\tאתה\\tS_PRN\\tS_PRN\\tgen=M|num=S|per=2\\t1\\n3\\t4\\tל\\tל\\tIN\\tIN\\t_\\t1\\n3\\t5\\tלך\\tהלך\\tVB\\tVB\\tgen=M|num=S|per=2|tense=IMPERATIVE\\t1\\n4\\t5\\tאת\\tאת\\tS_PRN\\tS_PRN\\tgen=F|num=S|per=2\\t1\\n4\\t5\\tאתה\\tאתה\\tS_PRN\\tS_PRN\\tgen=M|num=S|per=2\\t1\\n5\\t6\\tה\\tה\\tDEF\\tDEF\\t_\\t2\\n5\\t7\\tה\\tה\\tREL\\tREL\\t_\\t2\\n5\\t8\\tהשערים\\tהשערים\\tNNP\\tNNP\\tgen=F|num=S\\t2\\n5\\t8\\tהשערים\\tהשערים\\tNN\\tNN\\tgen=M|num=S\\t2\\n5\\t8\\tהשערים\\tהשערים\\tNN\\tNN\\tgen=M|num=P|num=S\\t2\\n5\\t8\\tהשערים\\tהשערים\\tNNP\\tNNP\\tgen=M|num=S\\t2\\n5\\t8\\tהשערים\\tהשערים\\tNNP\\tNNP\\t_\\t2\\n5\\t8\\tהשערים\\tהשערים\\tNNP\\tNNP\\tgen=F|gen=M|num=S\\t2\\n5\\t8\\tהשערים\\tהשערים\\tNN\\tNN\\tgen=F|num=P\\t2\\n5\\t8\\tהשערים\\tהשערים\\tNN\\tNN\\tgen=F|num=S\\t2\\n5\\t8\\tהשערים\\tהשערים\\tNN\\tNN\\tgen=M|num=P\\t2\\n6\\t8\\tשערים\\tשער\\tNN\\tNN\\tgen=M|num=P\\t2\\n7\\t8\\tשערים\\tשער\\tNN\\tNN\\tgen=M|num=P\\t2\\n8\\t9\\tב\\tב\\tPREPOSITION\\tPREPOSITION\\t_\\t3\\n8\\t11\\tבמונדיאל\\tבמונדיאל\\tNNP\\tNNP\\tgen=M|num=S\\t3\\n8\\t11\\tבמונדיאל\\tבמונדיאל\\tNN\\tNN\\tgen=M|num=P|num=S\\t3\\n8\\t11\\tבמונדיאל\\tבמונדיאל\\tNN\\tNN\\tgen=M|num=S\\t3\\n8\\t11\\tבמונדיאל\\tבמונדיאל\\tNNP\\tNNP\\tgen=F|num=S\\t3\\n8\\t11\\tבמונדיאל\\tבמונדיאל\\tNNP\\tNNP\\tgen=F|gen=M|num=S\\t3\\n8\\t11\\tבמונדיאל\\tבמונדיאל\\tNNP\\tNNP\\t_\\t3\\n8\\t11\\tבמונדיאל\\tבמונדיאל\\tNN\\tNN\\tgen=M|num=P\\t3\\n8\\t11\\tבמונדיאל\\tבמונדיאל\\tNN\\tNN\\tgen=F|num=S\\t3\\n8\\t11\\tבמונדיאל\\tבמונדיאל\\tNN\\tNN\\tgen=F|num=P\\t3\\n9\\t10\\tה\\tה\\tDEF\\tDEF\\t_\\t3\\n9\\t11\\tמונדיאל\\tמונדיאל\\tNN\\tNN\\tgen=M|num=S\\t3\\n9\\t11\\tמונדיאל\\tמונדיאל\\tNNT\\tNNT\\tgen=M|num=S\\t3\\n10\\t11\\tמונדיאל\\tמונדיאל\\tNNT\\tNNT\\tgen=M|num=S\\t3\\n10\\t11\\tמונדיאל\\tמונדיאל\\tNN\\tNN\\tgen=M|num=S\\t3\\n11\\t12\\t2006\\t_\\tCD\\tCD\\t_\\t4\\n12\\t13\\tהיה\\tהיה\\tCOP\\tCOP\\tgen=M|num=S|per=3\\t5\\n12\\t13\\tהיה\\tהיה\\tCOP\\tCOP\\tgen=M|num=S|per=2|tense=IMPERATIVE\\t5\\n12\\t13\\tהיה\\tהיה\\tEX\\tEX\\tgen=M|num=S|tense=PAST\\t5\\n12\\t13\\tהיה\\tהיה\\tCOP\\tCOP\\tgen=M|num=S|per=3|tense=PAST\\t5\\n12\\t13\\tהיה\\tהיה\\tCOP\\tCOP\\tgen=M|num=S|per=2\\t5\\n13\\t14\\tמ\\tמ\\tPREPOSITION\\tPREPOSITION\\t_\\t6\\n13\\t15\\tמירוסלב\\tמירוסלב\\tNNP\\tNNP\\tgen=M|num=S\\t6\\n13\\t15\\tמירוסלב\\tמירוסלב\\tNN\\tNN\\tgen=M|num=P|num=S\\t6\\n13\\t15\\tמירוסלב\\tמירוסלב\\tNN\\tNN\\tgen=M|num=S\\t6\\n13\\t15\\tמירוסלב\\tמירוסלב\\tNNP\\tNNP\\tgen=F|num=S\\t6\\n13\\t15\\tמירוסלב\\tמירוסלב\\tNNP\\tNNP\\tgen=F|gen=M|num=S\\t6\\n13\\t15\\tמירוסלב\\tמירוסלב\\tNNP\\tNNP\\t_\\t6\\n13\\t15\\tמירוסלב\\tמירוסלב\\tNN\\tNN\\tgen=M|num=P\\t6\\n13\\t15\\tמירוסלב\\tמירוסלב\\tNN\\tNN\\tgen=F|num=S\\t6\\n13\\t15\\tמירוסלב\\tמירוסלב\\tNN\\tNN\\tgen=F|num=P\\t6\\n14\\t15\\tירוסלב\\tירוסלב\\tNNP\\tNNP\\tgen=F|num=S\\t6\\n14\\t15\\tירוסלב\\tירוסלב\\tNN\\tNN\\tgen=M|num=S\\t6\\n14\\t15\\tירוסלב\\tירוסלב\\tNN\\tNN\\tgen=M|num=P|num=S\\t6\\n14\\t15\\tירוסלב\\tירוסלב\\tNNP\\tNNP\\tgen=M|num=S\\t6\\n14\\t15\\tירוסלב\\tירוסלב\\tNNP\\tNNP\\t_\\t6\\n14\\t15\\tירוסלב\\tירוסלב\\tNNP\\tNNP\\tgen=F|gen=M|num=S\\t6\\n14\\t15\\tירוסלב\\tירוסלב\\tNN\\tNN\\tgen=F|num=P\\t6\\n14\\t15\\tירוסלב\\tירוסלב\\tNN\\tNN\\tgen=F|num=S\\t6\\n14\\t15\\tירוסלב\\tירוסלב\\tNN\\tNN\\tgen=M|num=P\\t6\\n15\\t16\\tקלוזה\\tקלוזה\\tNNP\\tNNP\\tgen=F|num=S\\t7\\n15\\t16\\tקלוזה\\tקלוזה\\tNN\\tNN\\tgen=M|num=S\\t7\\n15\\t16\\tקלוזה\\tקלוזה\\tNN\\tNN\\tgen=M|num=P|num=S\\t7\\n15\\t16\\tקלוזה\\tקלוזה\\tNNP\\tNNP\\tgen=M|num=S\\t7\\n15\\t16\\tקלוזה\\tקלוזה\\tNNP\\tNNP\\t_\\t7\\n15\\t16\\tקלוזה\\tקלוזה\\tNNP\\tNNP\\tgen=F|gen=M|num=S\\t7\\n15\\t16\\tקלוזה\\tקלוזה\\tNN\\tNN\\tgen=F|num=P\\t7\\n15\\t16\\tקלוזה\\tקלוזה\\tNN\\tNN\\tgen=F|num=S\\t7\\n15\\t16\\tקלוזה\\tקלוזה\\tNN\\tNN\\tgen=M|num=P\\t7\\n16\\t17\\t.\\t_\\tyyDOT\\tyyDOT\\t_\\t8\\n\\n',\n",
       " 'pruned_lattice': '0\\t5\\tמלך\\tמלך\\tVB\\tVB\\tgen=M|num=S|per=3|tense=PAST\\t1\\n0\\t5\\tמלך\\tמלך\\tNN\\tNN\\tgen=M|num=S\\t1\\n0\\t5\\tמלך\\tמלך\\tNNT\\tNNT\\tgen=M|num=S\\t1\\n5\\t6\\tה\\tה\\tDEF\\tDEF\\t_\\t2\\n5\\t7\\tה\\tה\\tREL\\tREL\\t_\\t2\\n6\\t8\\tשערים\\tשער\\tNN\\tNN\\tgen=M|num=P\\t2\\n7\\t8\\tשערים\\tשער\\tNN\\tNN\\tgen=M|num=P\\t2\\n8\\t9\\tב\\tב\\tPREPOSITION\\tPREPOSITION\\t_\\t3\\n9\\t11\\tמונדיאל\\tמונדיאל\\tNN\\tNN\\tgen=M|num=S\\t3\\n9\\t11\\tמונדיאל\\tמונדיאל\\tNNT\\tNNT\\tgen=M|num=S\\t3\\n11\\t12\\t2006\\t_\\tCD\\tCD\\t_\\t4\\n12\\t13\\tהיה\\tהיה\\tCOP\\tCOP\\tgen=M|num=S|per=3\\t5\\n12\\t13\\tהיה\\tהיה\\tCOP\\tCOP\\tgen=M|num=S|per=2|tense=IMPERATIVE\\t5\\n12\\t13\\tהיה\\tהיה\\tEX\\tEX\\tgen=M|num=S|tense=PAST\\t5\\n12\\t13\\tהיה\\tהיה\\tCOP\\tCOP\\tgen=M|num=S|per=3|tense=PAST\\t5\\n12\\t13\\tהיה\\tהיה\\tCOP\\tCOP\\tgen=M|num=S|per=2\\t5\\n13\\t15\\tמירוסלב\\tמירוסלב\\tNNP\\tNNP\\tgen=M|num=S\\t6\\n13\\t15\\tמירוסלב\\tמירוסלב\\tNN\\tNN\\tgen=M|num=P|num=S\\t6\\n13\\t15\\tמירוסלב\\tמירוסלב\\tNN\\tNN\\tgen=M|num=S\\t6\\n13\\t15\\tמירוסלב\\tמירוסלב\\tNNP\\tNNP\\tgen=F|num=S\\t6\\n13\\t15\\tמירוסלב\\tמירוסלב\\tNNP\\tNNP\\tgen=F|gen=M|num=S\\t6\\n13\\t15\\tמירוסלב\\tמירוסלב\\tNNP\\tNNP\\t_\\t6\\n13\\t15\\tמירוסלב\\tמירוסלב\\tNN\\tNN\\tgen=M|num=P\\t6\\n13\\t15\\tמירוסלב\\tמירוסלב\\tNN\\tNN\\tgen=F|num=S\\t6\\n13\\t15\\tמירוסלב\\tמירוסלב\\tNN\\tNN\\tgen=F|num=P\\t6\\n15\\t16\\tקלוזה\\tקלוזה\\tNNP\\tNNP\\tgen=F|num=S\\t7\\n15\\t16\\tקלוזה\\tקלוזה\\tNN\\tNN\\tgen=M|num=S\\t7\\n15\\t16\\tקלוזה\\tקלוזה\\tNN\\tNN\\tgen=M|num=P|num=S\\t7\\n15\\t16\\tקלוזה\\tקלוזה\\tNNP\\tNNP\\tgen=M|num=S\\t7\\n15\\t16\\tקלוזה\\tקלוזה\\tNNP\\tNNP\\t_\\t7\\n15\\t16\\tקלוזה\\tקלוזה\\tNNP\\tNNP\\tgen=F|gen=M|num=S\\t7\\n15\\t16\\tקלוזה\\tקלוזה\\tNN\\tNN\\tgen=F|num=P\\t7\\n15\\t16\\tקלוזה\\tקלוזה\\tNN\\tNN\\tgen=F|num=S\\t7\\n15\\t16\\tקלוזה\\tקלוזה\\tNN\\tNN\\tgen=M|num=P\\t7\\n16\\t17\\t.\\t_\\tyyDOT\\tyyDOT\\t_\\t8\\n\\n',\n",
       " 'md_lattice': '0\\t1\\tמלך\\tמלך\\tNNT\\tNNT\\tgen=M|num=S\\t1\\n1\\t2\\tה\\tה\\tDEF\\tDEF\\t_\\t2\\n2\\t3\\tשערים\\tשער\\tNN\\tNN\\tgen=M|num=P\\t2\\n3\\t4\\tב\\tב\\tPREPOSITION\\tPREPOSITION\\t_\\t3\\n4\\t5\\tמונדיאל\\tמונדיאל\\tNNT\\tNNT\\tgen=M|num=S\\t3\\n5\\t6\\t2006\\t_\\tCD\\tCD\\t_\\t4\\n6\\t7\\tהיה\\tהיה\\tCOP\\tCOP\\tgen=M|num=S|per=3\\t5\\n7\\t8\\tמירוסלב\\tמירוסלב\\tNNP\\tNNP\\tgen=M|num=S\\t6\\n8\\t9\\tקלוזה\\tקלוזה\\tNNP\\tNNP\\tgen=F|gen=M|num=S\\t7\\n9\\t10\\t.\\t_\\tyyDOT\\tyyDOT\\t_\\t8\\n\\n',\n",
       " 'morph_segmented_text': [['מלך',\n",
       "   'ה',\n",
       "   'שערים',\n",
       "   'ב',\n",
       "   'מונדיאל',\n",
       "   '2006',\n",
       "   'היה',\n",
       "   'מירוסלב',\n",
       "   'קלוזה',\n",
       "   '.']],\n",
       " 'morph_aligned_multi_predictions': [['O',\n",
       "   'O',\n",
       "   'O',\n",
       "   'O',\n",
       "   'O',\n",
       "   'O',\n",
       "   'O',\n",
       "   'B-PER',\n",
       "   'E-PER',\n",
       "   'O']],\n",
       " 'nemo_morph_predictions': [['O',\n",
       "   'O',\n",
       "   'O',\n",
       "   'O',\n",
       "   'O',\n",
       "   'O',\n",
       "   'O',\n",
       "   'B-PER',\n",
       "   'E-PER',\n",
       "   'O']],\n",
       " 'token_aligned_morph_predictions': [['O',\n",
       "   'O',\n",
       "   'O',\n",
       "   'O',\n",
       "   'O',\n",
       "   'B-PER',\n",
       "   'E-PER',\n",
       "   'O']]}"
      ]
     },
     "execution_count": 68,
     "metadata": {},
     "output_type": "execute_result"
    }
   ],
   "source": [
    "%%time\n",
    "payload = { 'sentences': texts[2],\n",
    "            #'tokenized': False,\n",
    "            #'align_tokens': False,\n",
    "          }\n",
    "\n",
    "res = requests.get('http://localhost:8090/morph_hybrid_align_tokens', params=payload).json()\n",
    "res"
   ]
  },
  {
   "cell_type": "markdown",
   "metadata": {},
   "source": [
    "## Working with sequence labels\n",
    "`iobes` can be used to parse the predictions (`pip install iobes`)"
   ]
  },
  {
   "cell_type": "code",
   "execution_count": 69,
   "metadata": {},
   "outputs": [],
   "source": [
    "import iobes\n",
    "import pandas as pd"
   ]
  },
  {
   "cell_type": "code",
   "execution_count": 70,
   "metadata": {},
   "outputs": [],
   "source": [
    "payload = { 'sentences': '\\n'.join(texts),}\n",
    "\n",
    "res = requests.get('http://localhost:8090/morph_hybrid', params=payload).json()"
   ]
  },
  {
   "cell_type": "code",
   "execution_count": 71,
   "metadata": {},
   "outputs": [],
   "source": [
    "def get_ents(toks, labels):\n",
    "    ents = []\n",
    "    for i, (sl, sm) in enumerate(zip(labels, toks)):\n",
    "        spans = iobes.parse_spans_iobes(sl)\n",
    "        for span in spans:\n",
    "            text = ' '.join(sm[span.start:span.end])\n",
    "            ents.append({ 'sent_id': i, \n",
    "                          'text': text, \n",
    "                          'cat': span.type})\n",
    "    return pd.DataFrame(ents)"
   ]
  },
  {
   "cell_type": "code",
   "execution_count": 72,
   "metadata": {},
   "outputs": [
    {
     "name": "stderr",
     "output_type": "stream",
     "text": [
      "Illegal Label: `B` as final token 4\n",
      "Illegal Label: `I` as final token at 5\n"
     ]
    },
    {
     "data": {
      "text/html": [
       "<div>\n",
       "<style scoped>\n",
       "    .dataframe tbody tr th:only-of-type {\n",
       "        vertical-align: middle;\n",
       "    }\n",
       "\n",
       "    .dataframe tbody tr th {\n",
       "        vertical-align: top;\n",
       "    }\n",
       "\n",
       "    .dataframe thead th {\n",
       "        text-align: right;\n",
       "    }\n",
       "</style>\n",
       "<table border=\"1\" class=\"dataframe\">\n",
       "  <thead>\n",
       "    <tr style=\"text-align: right;\">\n",
       "      <th></th>\n",
       "      <th>sent_id</th>\n",
       "      <th>text</th>\n",
       "      <th>cat</th>\n",
       "    </tr>\n",
       "  </thead>\n",
       "  <tbody>\n",
       "    <tr>\n",
       "      <td>0</td>\n",
       "      <td>0</td>\n",
       "      <td>גן</td>\n",
       "      <td>LOC</td>\n",
       "    </tr>\n",
       "    <tr>\n",
       "      <td>1</td>\n",
       "      <td>1</td>\n",
       "      <td>ה גן</td>\n",
       "      <td>LOC</td>\n",
       "    </tr>\n",
       "    <tr>\n",
       "      <td>2</td>\n",
       "      <td>2</td>\n",
       "      <td>אובאמה</td>\n",
       "      <td>PER</td>\n",
       "    </tr>\n",
       "    <tr>\n",
       "      <td>3</td>\n",
       "      <td>2</td>\n",
       "      <td>ה או\"ם</td>\n",
       "      <td>ORG</td>\n",
       "    </tr>\n",
       "    <tr>\n",
       "      <td>4</td>\n",
       "      <td>3</td>\n",
       "      <td>מירוסלב קלוזה</td>\n",
       "      <td>PER</td>\n",
       "    </tr>\n",
       "  </tbody>\n",
       "</table>\n",
       "</div>"
      ],
      "text/plain": [
       "   sent_id           text  cat\n",
       "0        0             גן  LOC\n",
       "1        1           ה גן  LOC\n",
       "2        2         אובאמה  PER\n",
       "3        2         ה או\"ם  ORG\n",
       "4        3  מירוסלב קלוזה  PER"
      ]
     },
     "execution_count": 72,
     "metadata": {},
     "output_type": "execute_result"
    }
   ],
   "source": [
    "labels = res['nemo_morph_predictions']\n",
    "morphs = res['morph_segmented_text']\n",
    "ents_hyb = get_ents(morphs, labels)\n",
    "ents_hyb"
   ]
  },
  {
   "cell_type": "code",
   "execution_count": 73,
   "metadata": {},
   "outputs": [
    {
     "data": {
      "text/html": [
       "<div>\n",
       "<style scoped>\n",
       "    .dataframe tbody tr th:only-of-type {\n",
       "        vertical-align: middle;\n",
       "    }\n",
       "\n",
       "    .dataframe tbody tr th {\n",
       "        vertical-align: top;\n",
       "    }\n",
       "\n",
       "    .dataframe thead th {\n",
       "        text-align: right;\n",
       "    }\n",
       "</style>\n",
       "<table border=\"1\" class=\"dataframe\">\n",
       "  <thead>\n",
       "    <tr style=\"text-align: right;\">\n",
       "      <th></th>\n",
       "      <th>sent_id</th>\n",
       "      <th>text</th>\n",
       "      <th>cat</th>\n",
       "    </tr>\n",
       "  </thead>\n",
       "  <tbody>\n",
       "    <tr>\n",
       "      <td>0</td>\n",
       "      <td>2</td>\n",
       "      <td>אובאמה</td>\n",
       "      <td>PER</td>\n",
       "    </tr>\n",
       "    <tr>\n",
       "      <td>1</td>\n",
       "      <td>2</td>\n",
       "      <td>ה או\"ם</td>\n",
       "      <td>ORG</td>\n",
       "    </tr>\n",
       "    <tr>\n",
       "      <td>2</td>\n",
       "      <td>3</td>\n",
       "      <td>מירוסלב קלוזה</td>\n",
       "      <td>PER</td>\n",
       "    </tr>\n",
       "  </tbody>\n",
       "</table>\n",
       "</div>"
      ],
      "text/plain": [
       "   sent_id           text  cat\n",
       "0        2         אובאמה  PER\n",
       "1        2         ה או\"ם  ORG\n",
       "2        3  מירוסלב קלוזה  PER"
      ]
     },
     "execution_count": 73,
     "metadata": {},
     "output_type": "execute_result"
    }
   ],
   "source": [
    "labels = res['morph_aligned_multi_predictions']\n",
    "morphs = res['morph_segmented_text']\n",
    "ents_align = get_ents(morphs, labels)\n",
    "ents_align"
   ]
  },
  {
   "cell_type": "code",
   "execution_count": null,
   "metadata": {},
   "outputs": [],
   "source": []
  },
  {
   "cell_type": "code",
   "execution_count": null,
   "metadata": {},
   "outputs": [],
   "source": []
  }
 ],
 "metadata": {
  "kernelspec": {
   "display_name": "Python 3",
   "language": "python",
   "name": "python3"
  },
  "language_info": {
   "codemirror_mode": {
    "name": "ipython",
    "version": 3
   },
   "file_extension": ".py",
   "mimetype": "text/x-python",
   "name": "python",
   "nbconvert_exporter": "python",
   "pygments_lexer": "ipython3",
   "version": "3.7.4"
  }
 },
 "nbformat": 4,
 "nbformat_minor": 4
}
